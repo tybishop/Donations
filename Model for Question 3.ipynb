{
 "cells": [
  {
   "cell_type": "markdown",
   "metadata": {},
   "source": [
    "# Question 3: <br>Poverty Campaign and Reoccuring Donors\n",
    "\n"
   ]
  },
  {
   "cell_type": "markdown",
   "metadata": {},
   "source": [
    "The client has noticed that a larger percentage of donors to their “Poverty” campaign - relative to their other campaigns - are recurring donors. They believe this difference to be statistically significant.\n",
    "\n",
    "This model is training to predict the donor type to see which table is correct for donor type and to fill in the null values"
   ]
  },
  {
   "cell_type": "code",
   "execution_count": 460,
   "metadata": {},
   "outputs": [],
   "source": [
    "#imports packages\n",
    "\n",
    "#import base and visualization packages\n",
    "import numpy as np\n",
    "import pandas as pd\n",
    "import scipy\n",
    "from math import sqrt\n",
    "import matplotlib.pyplot as plt\n",
    "import matplotlib.pyplot as plt\n",
    "import seaborn as sns\n",
    "\n",
    "#cross validation\n",
    "from sklearn.model_selection import train_test_split\n",
    "\n",
    "#Scaler\n",
    "\n",
    "from sklearn.preprocessing import StandardScaler\n",
    "\n",
    "#estimators\n",
    "from sklearn.tree import DecisionTreeClassifier\n",
    "from sklearn.feature_selection import RFE\n",
    "from sklearn.neighbors import KNeighborsClassifier\n",
    "from sklearn.naive_bayes import GaussianNB\n",
    "from sklearn.svm import SVC\n",
    "from sklearn.ensemble import GradientBoostingClassifier\n",
    "from sklearn.tree import DecisionTreeClassifier\n",
    "from sklearn.ensemble import VotingClassifier\n",
    "from sklearn.ensemble import RandomForestClassifier\n",
    "from sklearn.ensemble import ExtraTreesClassifier\n",
    "from sklearn.ensemble import BaggingClassifier\n",
    "from sklearn.linear_model import LogisticRegression\n",
    "#Impot Model Tuning\n",
    "from sklearn.model_selection import GridSearchCV"
   ]
  },
  {
   "cell_type": "code",
   "execution_count": 517,
   "metadata": {},
   "outputs": [
    {
     "data": {
      "text/html": [
       "<div>\n",
       "<style scoped>\n",
       "    .dataframe tbody tr th:only-of-type {\n",
       "        vertical-align: middle;\n",
       "    }\n",
       "\n",
       "    .dataframe tbody tr th {\n",
       "        vertical-align: top;\n",
       "    }\n",
       "\n",
       "    .dataframe thead th {\n",
       "        text-align: right;\n",
       "    }\n",
       "</style>\n",
       "<table border=\"1\" class=\"dataframe\">\n",
       "  <thead>\n",
       "    <tr style=\"text-align: right;\">\n",
       "      <th></th>\n",
       "      <th>donation_id</th>\n",
       "      <th>age</th>\n",
       "      <th>age_group</th>\n",
       "      <th>campaign_name</th>\n",
       "      <th>channel</th>\n",
       "      <th>donation_revenue</th>\n",
       "      <th>donor_type</th>\n",
       "      <th>dup_donor_type</th>\n",
       "      <th>donor_type_mismatch</th>\n",
       "      <th>entertainment</th>\n",
       "      <th>...</th>\n",
       "      <th>spending_on_food</th>\n",
       "      <th>state</th>\n",
       "      <th>us_region</th>\n",
       "      <th>campaign_n</th>\n",
       "      <th>channel_n</th>\n",
       "      <th>donor_type_n</th>\n",
       "      <th>gender_n</th>\n",
       "      <th>state_n</th>\n",
       "      <th>us_region_n</th>\n",
       "      <th>age_group_n</th>\n",
       "    </tr>\n",
       "  </thead>\n",
       "  <tbody>\n",
       "    <tr>\n",
       "      <th>0</th>\n",
       "      <td>1</td>\n",
       "      <td>30</td>\n",
       "      <td>25-34 years old</td>\n",
       "      <td>General</td>\n",
       "      <td>organic</td>\n",
       "      <td>74.98</td>\n",
       "      <td>one-time</td>\n",
       "      <td>one-time</td>\n",
       "      <td>0</td>\n",
       "      <td>224.23</td>\n",
       "      <td>...</td>\n",
       "      <td>232.56</td>\n",
       "      <td>AZ</td>\n",
       "      <td>West</td>\n",
       "      <td>1</td>\n",
       "      <td>3</td>\n",
       "      <td>1.0</td>\n",
       "      <td>1.0</td>\n",
       "      <td>2</td>\n",
       "      <td>3</td>\n",
       "      <td>3</td>\n",
       "    </tr>\n",
       "    <tr>\n",
       "      <th>1</th>\n",
       "      <td>2</td>\n",
       "      <td>39</td>\n",
       "      <td>35-44 years old</td>\n",
       "      <td>General</td>\n",
       "      <td>organic</td>\n",
       "      <td>68.60</td>\n",
       "      <td>one-time</td>\n",
       "      <td>one-time</td>\n",
       "      <td>0</td>\n",
       "      <td>314.23</td>\n",
       "      <td>...</td>\n",
       "      <td>322.04</td>\n",
       "      <td>AR</td>\n",
       "      <td>South</td>\n",
       "      <td>1</td>\n",
       "      <td>3</td>\n",
       "      <td>1.0</td>\n",
       "      <td>1.0</td>\n",
       "      <td>1</td>\n",
       "      <td>2</td>\n",
       "      <td>4</td>\n",
       "    </tr>\n",
       "    <tr>\n",
       "      <th>2</th>\n",
       "      <td>3</td>\n",
       "      <td>24</td>\n",
       "      <td>18-24 years old</td>\n",
       "      <td>General</td>\n",
       "      <td>organic</td>\n",
       "      <td>44.85</td>\n",
       "      <td>recurring</td>\n",
       "      <td>recurring</td>\n",
       "      <td>0</td>\n",
       "      <td>165.23</td>\n",
       "      <td>...</td>\n",
       "      <td>197.80</td>\n",
       "      <td>LA</td>\n",
       "      <td>South</td>\n",
       "      <td>1</td>\n",
       "      <td>3</td>\n",
       "      <td>2.0</td>\n",
       "      <td>1.0</td>\n",
       "      <td>3</td>\n",
       "      <td>2</td>\n",
       "      <td>2</td>\n",
       "    </tr>\n",
       "    <tr>\n",
       "      <th>3</th>\n",
       "      <td>4</td>\n",
       "      <td>33</td>\n",
       "      <td>25-34 years old</td>\n",
       "      <td>General</td>\n",
       "      <td>organic</td>\n",
       "      <td>39.91</td>\n",
       "      <td>one-time</td>\n",
       "      <td>one-time</td>\n",
       "      <td>0</td>\n",
       "      <td>300.67</td>\n",
       "      <td>...</td>\n",
       "      <td>360.64</td>\n",
       "      <td>MO</td>\n",
       "      <td>Midwest</td>\n",
       "      <td>1</td>\n",
       "      <td>3</td>\n",
       "      <td>1.0</td>\n",
       "      <td>2.0</td>\n",
       "      <td>5</td>\n",
       "      <td>1</td>\n",
       "      <td>3</td>\n",
       "    </tr>\n",
       "    <tr>\n",
       "      <th>4</th>\n",
       "      <td>5</td>\n",
       "      <td>67</td>\n",
       "      <td>65-74 years old</td>\n",
       "      <td>Homelessness</td>\n",
       "      <td>email</td>\n",
       "      <td>111.13</td>\n",
       "      <td>one-time</td>\n",
       "      <td>one-time</td>\n",
       "      <td>0</td>\n",
       "      <td>190.67</td>\n",
       "      <td>...</td>\n",
       "      <td>264.75</td>\n",
       "      <td>SD</td>\n",
       "      <td>Midwest</td>\n",
       "      <td>2</td>\n",
       "      <td>2</td>\n",
       "      <td>1.0</td>\n",
       "      <td>2.0</td>\n",
       "      <td>9</td>\n",
       "      <td>1</td>\n",
       "      <td>7</td>\n",
       "    </tr>\n",
       "  </tbody>\n",
       "</table>\n",
       "<p>5 rows × 21 columns</p>\n",
       "</div>"
      ],
      "text/plain": [
       "   donation_id  age        age_group campaign_name  channel  donation_revenue  \\\n",
       "0            1   30  25-34 years old       General  organic             74.98   \n",
       "1            2   39  35-44 years old       General  organic             68.60   \n",
       "2            3   24  18-24 years old       General  organic             44.85   \n",
       "3            4   33  25-34 years old       General  organic             39.91   \n",
       "4            5   67  65-74 years old  Homelessness    email            111.13   \n",
       "\n",
       "  donor_type dup_donor_type  donor_type_mismatch  entertainment  ...  \\\n",
       "0   one-time       one-time                    0         224.23  ...   \n",
       "1   one-time       one-time                    0         314.23  ...   \n",
       "2  recurring      recurring                    0         165.23  ...   \n",
       "3   one-time       one-time                    0         300.67  ...   \n",
       "4   one-time       one-time                    0         190.67  ...   \n",
       "\n",
       "  spending_on_food  state us_region campaign_n  channel_n  donor_type_n  \\\n",
       "0           232.56     AZ      West          1          3           1.0   \n",
       "1           322.04     AR     South          1          3           1.0   \n",
       "2           197.80     LA     South          1          3           2.0   \n",
       "3           360.64     MO   Midwest          1          3           1.0   \n",
       "4           264.75     SD   Midwest          2          2           1.0   \n",
       "\n",
       "   gender_n  state_n  us_region_n  age_group_n  \n",
       "0       1.0        2            3            3  \n",
       "1       1.0        1            2            4  \n",
       "2       1.0        3            2            2  \n",
       "3       2.0        5            1            3  \n",
       "4       2.0        9            1            7  \n",
       "\n",
       "[5 rows x 21 columns]"
      ]
     },
     "execution_count": 517,
     "metadata": {},
     "output_type": "execute_result"
    }
   ],
   "source": [
    "#import data and show head\n",
    "donations = pd.read_csv('assessment_data.csv', header=0)\n",
    "donations.head()"
   ]
  },
  {
   "cell_type": "code",
   "execution_count": 518,
   "metadata": {},
   "outputs": [
    {
     "data": {
      "text/html": [
       "<div>\n",
       "<style scoped>\n",
       "    .dataframe tbody tr th:only-of-type {\n",
       "        vertical-align: middle;\n",
       "    }\n",
       "\n",
       "    .dataframe tbody tr th {\n",
       "        vertical-align: top;\n",
       "    }\n",
       "\n",
       "    .dataframe thead th {\n",
       "        text-align: right;\n",
       "    }\n",
       "</style>\n",
       "<table border=\"1\" class=\"dataframe\">\n",
       "  <thead>\n",
       "    <tr style=\"text-align: right;\">\n",
       "      <th></th>\n",
       "      <th>donation_id</th>\n",
       "      <th>age</th>\n",
       "      <th>donation_revenue</th>\n",
       "      <th>donor_type_mismatch</th>\n",
       "      <th>entertainment</th>\n",
       "      <th>spending_on_food</th>\n",
       "      <th>campaign_n</th>\n",
       "      <th>channel_n</th>\n",
       "      <th>donor_type_n</th>\n",
       "      <th>gender_n</th>\n",
       "      <th>state_n</th>\n",
       "      <th>us_region_n</th>\n",
       "      <th>age_group_n</th>\n",
       "    </tr>\n",
       "  </thead>\n",
       "  <tbody>\n",
       "    <tr>\n",
       "      <th>count</th>\n",
       "      <td>5000.000000</td>\n",
       "      <td>5000.000000</td>\n",
       "      <td>5000.000000</td>\n",
       "      <td>5000.000000</td>\n",
       "      <td>5000.000000</td>\n",
       "      <td>5000.000000</td>\n",
       "      <td>5000.000000</td>\n",
       "      <td>5000.000000</td>\n",
       "      <td>4734.000000</td>\n",
       "      <td>4800.000000</td>\n",
       "      <td>5000.000000</td>\n",
       "      <td>5000.000000</td>\n",
       "      <td>5000.000000</td>\n",
       "    </tr>\n",
       "    <tr>\n",
       "      <th>mean</th>\n",
       "      <td>2500.500000</td>\n",
       "      <td>39.515800</td>\n",
       "      <td>84.404846</td>\n",
       "      <td>0.053200</td>\n",
       "      <td>220.914166</td>\n",
       "      <td>270.451806</td>\n",
       "      <td>1.500000</td>\n",
       "      <td>2.699000</td>\n",
       "      <td>1.105619</td>\n",
       "      <td>1.500000</td>\n",
       "      <td>6.200800</td>\n",
       "      <td>1.893200</td>\n",
       "      <td>3.998800</td>\n",
       "    </tr>\n",
       "    <tr>\n",
       "      <th>std</th>\n",
       "      <td>1443.520003</td>\n",
       "      <td>8.283639</td>\n",
       "      <td>67.853195</td>\n",
       "      <td>0.224455</td>\n",
       "      <td>75.693483</td>\n",
       "      <td>68.667928</td>\n",
       "      <td>0.670887</td>\n",
       "      <td>1.153545</td>\n",
       "      <td>0.307382</td>\n",
       "      <td>0.500052</td>\n",
       "      <td>3.279486</td>\n",
       "      <td>0.581946</td>\n",
       "      <td>0.888682</td>\n",
       "    </tr>\n",
       "    <tr>\n",
       "      <th>min</th>\n",
       "      <td>1.000000</td>\n",
       "      <td>10.000000</td>\n",
       "      <td>-5.110000</td>\n",
       "      <td>0.000000</td>\n",
       "      <td>-59.000000</td>\n",
       "      <td>0.000000</td>\n",
       "      <td>1.000000</td>\n",
       "      <td>1.000000</td>\n",
       "      <td>1.000000</td>\n",
       "      <td>1.000000</td>\n",
       "      <td>1.000000</td>\n",
       "      <td>1.000000</td>\n",
       "      <td>1.000000</td>\n",
       "    </tr>\n",
       "    <tr>\n",
       "      <th>25%</th>\n",
       "      <td>1250.750000</td>\n",
       "      <td>34.000000</td>\n",
       "      <td>36.537500</td>\n",
       "      <td>0.000000</td>\n",
       "      <td>158.230000</td>\n",
       "      <td>224.227500</td>\n",
       "      <td>1.000000</td>\n",
       "      <td>1.000000</td>\n",
       "      <td>1.000000</td>\n",
       "      <td>1.000000</td>\n",
       "      <td>3.000000</td>\n",
       "      <td>2.000000</td>\n",
       "      <td>3.000000</td>\n",
       "    </tr>\n",
       "    <tr>\n",
       "      <th>50%</th>\n",
       "      <td>2500.500000</td>\n",
       "      <td>39.000000</td>\n",
       "      <td>65.250000</td>\n",
       "      <td>0.000000</td>\n",
       "      <td>225.670000</td>\n",
       "      <td>269.255000</td>\n",
       "      <td>1.000000</td>\n",
       "      <td>3.000000</td>\n",
       "      <td>1.000000</td>\n",
       "      <td>1.500000</td>\n",
       "      <td>7.000000</td>\n",
       "      <td>2.000000</td>\n",
       "      <td>4.000000</td>\n",
       "    </tr>\n",
       "    <tr>\n",
       "      <th>75%</th>\n",
       "      <td>3750.250000</td>\n",
       "      <td>45.000000</td>\n",
       "      <td>113.022500</td>\n",
       "      <td>0.000000</td>\n",
       "      <td>276.057500</td>\n",
       "      <td>316.860000</td>\n",
       "      <td>2.000000</td>\n",
       "      <td>4.000000</td>\n",
       "      <td>1.000000</td>\n",
       "      <td>2.000000</td>\n",
       "      <td>10.000000</td>\n",
       "      <td>2.000000</td>\n",
       "      <td>5.000000</td>\n",
       "    </tr>\n",
       "    <tr>\n",
       "      <th>max</th>\n",
       "      <td>5000.000000</td>\n",
       "      <td>68.000000</td>\n",
       "      <td>576.290000</td>\n",
       "      <td>1.000000</td>\n",
       "      <td>482.230000</td>\n",
       "      <td>562.800000</td>\n",
       "      <td>3.000000</td>\n",
       "      <td>4.000000</td>\n",
       "      <td>2.000000</td>\n",
       "      <td>2.000000</td>\n",
       "      <td>10.000000</td>\n",
       "      <td>3.000000</td>\n",
       "      <td>8.000000</td>\n",
       "    </tr>\n",
       "  </tbody>\n",
       "</table>\n",
       "</div>"
      ],
      "text/plain": [
       "       donation_id          age  donation_revenue  donor_type_mismatch  \\\n",
       "count  5000.000000  5000.000000       5000.000000          5000.000000   \n",
       "mean   2500.500000    39.515800         84.404846             0.053200   \n",
       "std    1443.520003     8.283639         67.853195             0.224455   \n",
       "min       1.000000    10.000000         -5.110000             0.000000   \n",
       "25%    1250.750000    34.000000         36.537500             0.000000   \n",
       "50%    2500.500000    39.000000         65.250000             0.000000   \n",
       "75%    3750.250000    45.000000        113.022500             0.000000   \n",
       "max    5000.000000    68.000000        576.290000             1.000000   \n",
       "\n",
       "       entertainment  spending_on_food   campaign_n    channel_n  \\\n",
       "count    5000.000000       5000.000000  5000.000000  5000.000000   \n",
       "mean      220.914166        270.451806     1.500000     2.699000   \n",
       "std        75.693483         68.667928     0.670887     1.153545   \n",
       "min       -59.000000          0.000000     1.000000     1.000000   \n",
       "25%       158.230000        224.227500     1.000000     1.000000   \n",
       "50%       225.670000        269.255000     1.000000     3.000000   \n",
       "75%       276.057500        316.860000     2.000000     4.000000   \n",
       "max       482.230000        562.800000     3.000000     4.000000   \n",
       "\n",
       "       donor_type_n     gender_n      state_n  us_region_n  age_group_n  \n",
       "count   4734.000000  4800.000000  5000.000000  5000.000000  5000.000000  \n",
       "mean       1.105619     1.500000     6.200800     1.893200     3.998800  \n",
       "std        0.307382     0.500052     3.279486     0.581946     0.888682  \n",
       "min        1.000000     1.000000     1.000000     1.000000     1.000000  \n",
       "25%        1.000000     1.000000     3.000000     2.000000     3.000000  \n",
       "50%        1.000000     1.500000     7.000000     2.000000     4.000000  \n",
       "75%        1.000000     2.000000    10.000000     2.000000     5.000000  \n",
       "max        2.000000     2.000000    10.000000     3.000000     8.000000  "
      ]
     },
     "execution_count": 518,
     "metadata": {},
     "output_type": "execute_result"
    }
   ],
   "source": [
    "#show info for inter datatypes\n",
    "#shows that average age is 39, average donation revenue is $84\n",
    "donations.describe()"
   ]
  },
  {
   "cell_type": "code",
   "execution_count": 519,
   "metadata": {},
   "outputs": [
    {
     "name": "stdout",
     "output_type": "stream",
     "text": [
      "<class 'pandas.core.frame.DataFrame'>\n",
      "RangeIndex: 5000 entries, 0 to 4999\n",
      "Data columns (total 21 columns):\n",
      " #   Column               Non-Null Count  Dtype  \n",
      "---  ------               --------------  -----  \n",
      " 0   donation_id          5000 non-null   int64  \n",
      " 1   age                  5000 non-null   int64  \n",
      " 2   age_group            5000 non-null   object \n",
      " 3   campaign_name        5000 non-null   object \n",
      " 4   channel              5000 non-null   object \n",
      " 5   donation_revenue     5000 non-null   float64\n",
      " 6   donor_type           4900 non-null   object \n",
      " 7   dup_donor_type       5000 non-null   object \n",
      " 8   donor_type_mismatch  5000 non-null   int64  \n",
      " 9   entertainment        5000 non-null   float64\n",
      " 10  gender               4800 non-null   object \n",
      " 11  spending_on_food     5000 non-null   float64\n",
      " 12  state                5000 non-null   object \n",
      " 13  us_region            5000 non-null   object \n",
      " 14  campaign_n           5000 non-null   int64  \n",
      " 15  channel_n            5000 non-null   int64  \n",
      " 16  donor_type_n         4734 non-null   float64\n",
      " 17  gender_n             4800 non-null   float64\n",
      " 18  state_n              5000 non-null   int64  \n",
      " 19  us_region_n          5000 non-null   int64  \n",
      " 20  age_group_n          5000 non-null   int64  \n",
      "dtypes: float64(5), int64(8), object(8)\n",
      "memory usage: 820.4+ KB\n"
     ]
    }
   ],
   "source": [
    "#provide overview of file and check for null values\n",
    "#100 null values for donor type and 200 null values for age\n",
    "donations.info()"
   ]
  },
  {
   "cell_type": "code",
   "execution_count": 520,
   "metadata": {},
   "outputs": [],
   "source": [
    "#removed ID field\n",
    "del donations['donation_id']"
   ]
  },
  {
   "cell_type": "markdown",
   "metadata": {},
   "source": [
    "# Exploratory Data Analysis"
   ]
  },
  {
   "cell_type": "code",
   "execution_count": 521,
   "metadata": {},
   "outputs": [
    {
     "data": {
      "text/plain": [
       "<seaborn.axisgrid.FacetGrid at 0x1a332d5bd0>"
      ]
     },
     "execution_count": 521,
     "metadata": {},
     "output_type": "execute_result"
    },
    {
     "data": {
      "image/png": "[encoded data removed]",
      "text/plain": [
       "<Figure size 900x360 with 1 Axes>"
      ]
     },
     "metadata": {
      "needs_background": "light"
     },
     "output_type": "display_data"
    }
   ],
   "source": [
    "#show count of donations by campaign\n",
    "g = sns.catplot('campaign_name', data=donations, kind='count', aspect=2.5,palette='RdBu')\n",
    "g.set_xlabels('Donations by Campaign', size=18)"
   ]
  },
  {
   "cell_type": "code",
   "execution_count": 522,
   "metadata": {},
   "outputs": [
    {
     "data": {
      "text/plain": [
       "<seaborn.axisgrid.FacetGrid at 0x1a333c0b10>"
      ]
     },
     "execution_count": 522,
     "metadata": {},
     "output_type": "execute_result"
    },
    {
     "data": {
      "image/png": "[encoded data removed]",
      "text/plain": [
       "<Figure size 946x216 with 1 Axes>"
      ]
     },
     "metadata": {
      "needs_background": "light"
     },
     "output_type": "display_data"
    }
   ],
   "source": [
    "#show distribution of revenue by donor type\n",
    "fig = sns.FacetGrid(donations, hue='donor_type', aspect=4)\n",
    "fig.map(sns.kdeplot, 'donation_revenue', shade=True)\n",
    "oldest = donations['donation_revenue'].max()\n",
    "youngest = donations['donation_revenue'].min()\n",
    "fig.set(xlim=(youngest,oldest))\n",
    "fig.add_legend()"
   ]
  },
  {
   "cell_type": "code",
   "execution_count": null,
   "metadata": {},
   "outputs": [],
   "source": [
    "# Survived vs. class Grouped by gender\n",
    "sns.catplot('donation_revenue','donor_type', hue = 'campaign_name', kind ='boxen', data=donations, aspect=2.5)"
   ]
  },
  {
   "cell_type": "code",
   "execution_count": 298,
   "metadata": {},
   "outputs": [],
   "source": [
    "#creating new dataset removing the mismatched donor types so that model training isn't built on questionable data.\n",
    "#filtering dataset where donor type mismatch is not true\n",
    "donations_clean = donations[(donations['donor_type_mismatch']== 0)]"
   ]
  },
  {
   "cell_type": "code",
   "execution_count": 306,
   "metadata": {},
   "outputs": [
    {
     "data": {
      "text/plain": [
       "<seaborn.axisgrid.FacetGrid at 0x1a2efb6750>"
      ]
     },
     "execution_count": 306,
     "metadata": {},
     "output_type": "execute_result"
    },
    {
     "data": {
      "image/png": "[encoded data removed]",
      "text/plain": [
       "<Figure size 982x360 with 1 Axes>"
      ]
     },
     "metadata": {
      "needs_background": "light"
     },
     "output_type": "display_data"
    }
   ],
   "source": [
    "# Survived vs. class Grouped by gender\n",
    "sns.catplot('donation_revenue','campaign_name', hue = 'donor_type', kind ='swarm', data=donations_clean, aspect=2.5)"
   ]
  },
  {
   "cell_type": "code",
   "execution_count": 304,
   "metadata": {},
   "outputs": [
    {
     "data": {
      "text/html": [
       "<div>\n",
       "<style scoped>\n",
       "    .dataframe tbody tr th:only-of-type {\n",
       "        vertical-align: middle;\n",
       "    }\n",
       "\n",
       "    .dataframe tbody tr th {\n",
       "        vertical-align: top;\n",
       "    }\n",
       "\n",
       "    .dataframe thead th {\n",
       "        text-align: right;\n",
       "    }\n",
       "</style>\n",
       "<table border=\"1\" class=\"dataframe\">\n",
       "  <thead>\n",
       "    <tr style=\"text-align: right;\">\n",
       "      <th>donor_type</th>\n",
       "      <th>one-time</th>\n",
       "      <th>recurring</th>\n",
       "      <th>All</th>\n",
       "    </tr>\n",
       "    <tr>\n",
       "      <th>campaign_name</th>\n",
       "      <th></th>\n",
       "      <th></th>\n",
       "      <th></th>\n",
       "    </tr>\n",
       "  </thead>\n",
       "  <tbody>\n",
       "    <tr>\n",
       "      <th>General</th>\n",
       "      <td>225583.39</td>\n",
       "      <td>22278.24</td>\n",
       "      <td>247861.63</td>\n",
       "    </tr>\n",
       "    <tr>\n",
       "      <th>Homelessness</th>\n",
       "      <td>116812.54</td>\n",
       "      <td>11540.28</td>\n",
       "      <td>128352.82</td>\n",
       "    </tr>\n",
       "    <tr>\n",
       "      <th>Poverty</th>\n",
       "      <td>32685.14</td>\n",
       "      <td>3625.64</td>\n",
       "      <td>36310.78</td>\n",
       "    </tr>\n",
       "    <tr>\n",
       "      <th>All</th>\n",
       "      <td>375081.07</td>\n",
       "      <td>37444.16</td>\n",
       "      <td>412525.23</td>\n",
       "    </tr>\n",
       "  </tbody>\n",
       "</table>\n",
       "</div>"
      ],
      "text/plain": [
       "donor_type      one-time  recurring        All\n",
       "campaign_name                                 \n",
       "General        225583.39   22278.24  247861.63\n",
       "Homelessness   116812.54   11540.28  128352.82\n",
       "Poverty         32685.14    3625.64   36310.78\n",
       "All            375081.07   37444.16  412525.23"
      ]
     },
     "execution_count": 304,
     "metadata": {},
     "output_type": "execute_result"
    }
   ],
   "source": [
    "donations.pivot_table('donation_revenue', 'campaign_name', 'donor_type', aggfunc=np.sum, margins=True)"
   ]
  },
  {
   "cell_type": "code",
   "execution_count": 474,
   "metadata": {},
   "outputs": [
    {
     "name": "stdout",
     "output_type": "stream",
     "text": [
      "<class 'pandas.core.frame.DataFrame'>\n",
      "RangeIndex: 5000 entries, 0 to 4999\n",
      "Data columns (total 20 columns):\n",
      " #   Column               Non-Null Count  Dtype  \n",
      "---  ------               --------------  -----  \n",
      " 0   age                  5000 non-null   int64  \n",
      " 1   age_group            5000 non-null   object \n",
      " 2   campaign_name        5000 non-null   object \n",
      " 3   channel              5000 non-null   object \n",
      " 4   donation_revenue     5000 non-null   float64\n",
      " 5   donor_type           4900 non-null   object \n",
      " 6   dup_donor_type       5000 non-null   object \n",
      " 7   donor_type_mismatch  5000 non-null   int64  \n",
      " 8   entertainment        5000 non-null   float64\n",
      " 9   gender               4800 non-null   object \n",
      " 10  spending_on_food     5000 non-null   float64\n",
      " 11  state                5000 non-null   object \n",
      " 12  us_region            5000 non-null   object \n",
      " 13  campaign_n           5000 non-null   int64  \n",
      " 14  channel_n            5000 non-null   int64  \n",
      " 15  donor_type_n         4900 non-null   float64\n",
      " 16  gender_n             4800 non-null   float64\n",
      " 17  state_n              5000 non-null   int64  \n",
      " 18  us_region_n          5000 non-null   int64  \n",
      " 19  age_group_n          5000 non-null   int64  \n",
      "dtypes: float64(5), int64(7), object(8)\n",
      "memory usage: 781.4+ KB\n"
     ]
    }
   ],
   "source": [
    "#show data set after removing nulls\n",
    "donations.info()"
   ]
  },
  {
   "cell_type": "code",
   "execution_count": 206,
   "metadata": {},
   "outputs": [
    {
     "data": {
      "text/plain": [
       "<seaborn.axisgrid.FacetGrid at 0x1a270927d0>"
      ]
     },
     "execution_count": 206,
     "metadata": {},
     "output_type": "execute_result"
    },
    {
     "data": {
      "image/png": "[encoded data removed]",
      "text/plain": [
       "<Figure size 937.375x216 with 1 Axes>"
      ]
     },
     "metadata": {
      "needs_background": "light"
     },
     "output_type": "display_data"
    }
   ],
   "source": [
    "#create chart for distribution of donates by age and channel \n",
    "fig = sns.FacetGrid(donations, hue='channel', aspect=4)\n",
    "fig.map(sns.kdeplot, 'age', shade=True)\n",
    "oldest = donations['age'].max()\n",
    "youngest = donations['age'].min()\n",
    "fig.set(xlim=(youngest,oldest))\n",
    "fig.add_legend()"
   ]
  },
  {
   "cell_type": "code",
   "execution_count": 207,
   "metadata": {},
   "outputs": [
    {
     "data": {
      "text/html": [
       "<div>\n",
       "<style scoped>\n",
       "    .dataframe tbody tr th:only-of-type {\n",
       "        vertical-align: middle;\n",
       "    }\n",
       "\n",
       "    .dataframe tbody tr th {\n",
       "        vertical-align: top;\n",
       "    }\n",
       "\n",
       "    .dataframe thead th {\n",
       "        text-align: right;\n",
       "    }\n",
       "</style>\n",
       "<table border=\"1\" class=\"dataframe\">\n",
       "  <thead>\n",
       "    <tr style=\"text-align: right;\">\n",
       "      <th>age</th>\n",
       "      <th>10</th>\n",
       "      <th>12</th>\n",
       "      <th>14</th>\n",
       "      <th>15</th>\n",
       "      <th>16</th>\n",
       "      <th>17</th>\n",
       "      <th>18</th>\n",
       "      <th>19</th>\n",
       "      <th>20</th>\n",
       "      <th>21</th>\n",
       "      <th>...</th>\n",
       "      <th>60</th>\n",
       "      <th>61</th>\n",
       "      <th>62</th>\n",
       "      <th>63</th>\n",
       "      <th>64</th>\n",
       "      <th>65</th>\n",
       "      <th>66</th>\n",
       "      <th>67</th>\n",
       "      <th>68</th>\n",
       "      <th>All</th>\n",
       "    </tr>\n",
       "    <tr>\n",
       "      <th>channel</th>\n",
       "      <th></th>\n",
       "      <th></th>\n",
       "      <th></th>\n",
       "      <th></th>\n",
       "      <th></th>\n",
       "      <th></th>\n",
       "      <th></th>\n",
       "      <th></th>\n",
       "      <th></th>\n",
       "      <th></th>\n",
       "      <th></th>\n",
       "      <th></th>\n",
       "      <th></th>\n",
       "      <th></th>\n",
       "      <th></th>\n",
       "      <th></th>\n",
       "      <th></th>\n",
       "      <th></th>\n",
       "      <th></th>\n",
       "      <th></th>\n",
       "      <th></th>\n",
       "    </tr>\n",
       "  </thead>\n",
       "  <tbody>\n",
       "    <tr>\n",
       "      <th>display</th>\n",
       "      <td>30.39</td>\n",
       "      <td>15.97</td>\n",
       "      <td>NaN</td>\n",
       "      <td>123.52</td>\n",
       "      <td>41.16</td>\n",
       "      <td>92.93</td>\n",
       "      <td>377.92</td>\n",
       "      <td>492.43</td>\n",
       "      <td>758.52</td>\n",
       "      <td>307.65</td>\n",
       "      <td>...</td>\n",
       "      <td>NaN</td>\n",
       "      <td>NaN</td>\n",
       "      <td>NaN</td>\n",
       "      <td>NaN</td>\n",
       "      <td>NaN</td>\n",
       "      <td>NaN</td>\n",
       "      <td>NaN</td>\n",
       "      <td>NaN</td>\n",
       "      <td>NaN</td>\n",
       "      <td>100325.74</td>\n",
       "    </tr>\n",
       "    <tr>\n",
       "      <th>email</th>\n",
       "      <td>NaN</td>\n",
       "      <td>NaN</td>\n",
       "      <td>NaN</td>\n",
       "      <td>NaN</td>\n",
       "      <td>NaN</td>\n",
       "      <td>NaN</td>\n",
       "      <td>NaN</td>\n",
       "      <td>NaN</td>\n",
       "      <td>NaN</td>\n",
       "      <td>NaN</td>\n",
       "      <td>...</td>\n",
       "      <td>810.82</td>\n",
       "      <td>518.37</td>\n",
       "      <td>455.42</td>\n",
       "      <td>610.46</td>\n",
       "      <td>256.37</td>\n",
       "      <td>426.20</td>\n",
       "      <td>NaN</td>\n",
       "      <td>312.78</td>\n",
       "      <td>55.0</td>\n",
       "      <td>18857.27</td>\n",
       "    </tr>\n",
       "    <tr>\n",
       "      <th>organic</th>\n",
       "      <td>NaN</td>\n",
       "      <td>NaN</td>\n",
       "      <td>51.23</td>\n",
       "      <td>54.24</td>\n",
       "      <td>NaN</td>\n",
       "      <td>NaN</td>\n",
       "      <td>17.11</td>\n",
       "      <td>NaN</td>\n",
       "      <td>182.83</td>\n",
       "      <td>109.84</td>\n",
       "      <td>...</td>\n",
       "      <td>188.11</td>\n",
       "      <td>673.16</td>\n",
       "      <td>1360.64</td>\n",
       "      <td>165.46</td>\n",
       "      <td>NaN</td>\n",
       "      <td>NaN</td>\n",
       "      <td>55.0</td>\n",
       "      <td>NaN</td>\n",
       "      <td>NaN</td>\n",
       "      <td>161639.59</td>\n",
       "    </tr>\n",
       "    <tr>\n",
       "      <th>search</th>\n",
       "      <td>NaN</td>\n",
       "      <td>NaN</td>\n",
       "      <td>NaN</td>\n",
       "      <td>NaN</td>\n",
       "      <td>NaN</td>\n",
       "      <td>NaN</td>\n",
       "      <td>NaN</td>\n",
       "      <td>20.39</td>\n",
       "      <td>NaN</td>\n",
       "      <td>61.61</td>\n",
       "      <td>...</td>\n",
       "      <td>823.35</td>\n",
       "      <td>220.85</td>\n",
       "      <td>660.51</td>\n",
       "      <td>NaN</td>\n",
       "      <td>91.35</td>\n",
       "      <td>78.52</td>\n",
       "      <td>NaN</td>\n",
       "      <td>NaN</td>\n",
       "      <td>NaN</td>\n",
       "      <td>114557.69</td>\n",
       "    </tr>\n",
       "    <tr>\n",
       "      <th>All</th>\n",
       "      <td>30.39</td>\n",
       "      <td>15.97</td>\n",
       "      <td>51.23</td>\n",
       "      <td>177.76</td>\n",
       "      <td>41.16</td>\n",
       "      <td>92.93</td>\n",
       "      <td>395.03</td>\n",
       "      <td>512.82</td>\n",
       "      <td>941.35</td>\n",
       "      <td>479.10</td>\n",
       "      <td>...</td>\n",
       "      <td>1822.28</td>\n",
       "      <td>1412.38</td>\n",
       "      <td>2476.57</td>\n",
       "      <td>775.92</td>\n",
       "      <td>347.72</td>\n",
       "      <td>504.72</td>\n",
       "      <td>55.0</td>\n",
       "      <td>312.78</td>\n",
       "      <td>55.0</td>\n",
       "      <td>395380.29</td>\n",
       "    </tr>\n",
       "  </tbody>\n",
       "</table>\n",
       "<p>5 rows × 58 columns</p>\n",
       "</div>"
      ],
      "text/plain": [
       "age         10     12     14      15     16     17      18      19      20  \\\n",
       "channel                                                                      \n",
       "display  30.39  15.97    NaN  123.52  41.16  92.93  377.92  492.43  758.52   \n",
       "email      NaN    NaN    NaN     NaN    NaN    NaN     NaN     NaN     NaN   \n",
       "organic    NaN    NaN  51.23   54.24    NaN    NaN   17.11     NaN  182.83   \n",
       "search     NaN    NaN    NaN     NaN    NaN    NaN     NaN   20.39     NaN   \n",
       "All      30.39  15.97  51.23  177.76  41.16  92.93  395.03  512.82  941.35   \n",
       "\n",
       "age          21  ...       60       61       62      63      64      65    66  \\\n",
       "channel          ...                                                            \n",
       "display  307.65  ...      NaN      NaN      NaN     NaN     NaN     NaN   NaN   \n",
       "email       NaN  ...   810.82   518.37   455.42  610.46  256.37  426.20   NaN   \n",
       "organic  109.84  ...   188.11   673.16  1360.64  165.46     NaN     NaN  55.0   \n",
       "search    61.61  ...   823.35   220.85   660.51     NaN   91.35   78.52   NaN   \n",
       "All      479.10  ...  1822.28  1412.38  2476.57  775.92  347.72  504.72  55.0   \n",
       "\n",
       "age          67    68        All  \n",
       "channel                           \n",
       "display     NaN   NaN  100325.74  \n",
       "email    312.78  55.0   18857.27  \n",
       "organic     NaN   NaN  161639.59  \n",
       "search      NaN   NaN  114557.69  \n",
       "All      312.78  55.0  395380.29  \n",
       "\n",
       "[5 rows x 58 columns]"
      ]
     },
     "execution_count": 207,
     "metadata": {},
     "output_type": "execute_result"
    }
   ],
   "source": [
    "donations.pivot_table('donation_revenue', 'channel', 'age', aggfunc=np.sum, margins=True)"
   ]
  },
  {
   "cell_type": "code",
   "execution_count": 208,
   "metadata": {
    "scrolled": true
   },
   "outputs": [
    {
     "data": {
      "text/plain": [
       "<seaborn.axisgrid.FacetGrid at 0x1a2702e150>"
      ]
     },
     "execution_count": 208,
     "metadata": {},
     "output_type": "execute_result"
    },
    {
     "data": {
      "image/png": "[encoded data removed]",
      "text/plain": [
       "<Figure size 908.625x216 with 1 Axes>"
      ]
     },
     "metadata": {
      "needs_background": "light"
     },
     "output_type": "display_data"
    }
   ],
   "source": [
    "#create chart for distribution of donates by age and gender. \n",
    "\n",
    "fig = sns.FacetGrid(donations, hue='gender', aspect=4)\n",
    "fig.map(sns.kdeplot, 'age', shade=True)\n",
    "oldest = donations['age'].max()\n",
    "youngest = donations['age'].min()\n",
    "fig.set(xlim=(youngest,oldest))\n",
    "fig.add_legend()"
   ]
  },
  {
   "cell_type": "code",
   "execution_count": null,
   "metadata": {},
   "outputs": [],
   "source": []
  },
  {
   "cell_type": "code",
   "execution_count": 475,
   "metadata": {},
   "outputs": [
    {
     "data": {
      "text/html": [
       "<div>\n",
       "<style scoped>\n",
       "    .dataframe tbody tr th:only-of-type {\n",
       "        vertical-align: middle;\n",
       "    }\n",
       "\n",
       "    .dataframe tbody tr th {\n",
       "        vertical-align: top;\n",
       "    }\n",
       "\n",
       "    .dataframe thead th {\n",
       "        text-align: right;\n",
       "    }\n",
       "</style>\n",
       "<table border=\"1\" class=\"dataframe\">\n",
       "  <thead>\n",
       "    <tr style=\"text-align: right;\">\n",
       "      <th>age</th>\n",
       "      <th>10</th>\n",
       "      <th>12</th>\n",
       "      <th>14</th>\n",
       "      <th>15</th>\n",
       "      <th>16</th>\n",
       "      <th>17</th>\n",
       "      <th>18</th>\n",
       "      <th>19</th>\n",
       "      <th>20</th>\n",
       "      <th>21</th>\n",
       "      <th>...</th>\n",
       "      <th>60</th>\n",
       "      <th>61</th>\n",
       "      <th>62</th>\n",
       "      <th>63</th>\n",
       "      <th>64</th>\n",
       "      <th>65</th>\n",
       "      <th>66</th>\n",
       "      <th>67</th>\n",
       "      <th>68</th>\n",
       "      <th>All</th>\n",
       "    </tr>\n",
       "    <tr>\n",
       "      <th>gender</th>\n",
       "      <th></th>\n",
       "      <th></th>\n",
       "      <th></th>\n",
       "      <th></th>\n",
       "      <th></th>\n",
       "      <th></th>\n",
       "      <th></th>\n",
       "      <th></th>\n",
       "      <th></th>\n",
       "      <th></th>\n",
       "      <th></th>\n",
       "      <th></th>\n",
       "      <th></th>\n",
       "      <th></th>\n",
       "      <th></th>\n",
       "      <th></th>\n",
       "      <th></th>\n",
       "      <th></th>\n",
       "      <th></th>\n",
       "      <th></th>\n",
       "      <th></th>\n",
       "    </tr>\n",
       "  </thead>\n",
       "  <tbody>\n",
       "    <tr>\n",
       "      <th>F</th>\n",
       "      <td>NaN</td>\n",
       "      <td>15.97</td>\n",
       "      <td>51.23</td>\n",
       "      <td>109.90</td>\n",
       "      <td>29.89</td>\n",
       "      <td>23.25</td>\n",
       "      <td>128.69</td>\n",
       "      <td>212.64</td>\n",
       "      <td>413.63</td>\n",
       "      <td>208.42</td>\n",
       "      <td>...</td>\n",
       "      <td>537.49</td>\n",
       "      <td>901.61</td>\n",
       "      <td>1305.02</td>\n",
       "      <td>381.67</td>\n",
       "      <td>251.43</td>\n",
       "      <td>78.52</td>\n",
       "      <td>NaN</td>\n",
       "      <td>36.85</td>\n",
       "      <td>55.0</td>\n",
       "      <td>201215.51</td>\n",
       "    </tr>\n",
       "    <tr>\n",
       "      <th>M</th>\n",
       "      <td>30.39</td>\n",
       "      <td>NaN</td>\n",
       "      <td>NaN</td>\n",
       "      <td>67.86</td>\n",
       "      <td>11.27</td>\n",
       "      <td>69.68</td>\n",
       "      <td>266.34</td>\n",
       "      <td>300.18</td>\n",
       "      <td>527.72</td>\n",
       "      <td>270.68</td>\n",
       "      <td>...</td>\n",
       "      <td>1284.79</td>\n",
       "      <td>510.77</td>\n",
       "      <td>1171.55</td>\n",
       "      <td>394.25</td>\n",
       "      <td>96.29</td>\n",
       "      <td>426.20</td>\n",
       "      <td>55.0</td>\n",
       "      <td>275.93</td>\n",
       "      <td>NaN</td>\n",
       "      <td>203226.73</td>\n",
       "    </tr>\n",
       "    <tr>\n",
       "      <th>All</th>\n",
       "      <td>30.39</td>\n",
       "      <td>15.97</td>\n",
       "      <td>51.23</td>\n",
       "      <td>177.76</td>\n",
       "      <td>41.16</td>\n",
       "      <td>92.93</td>\n",
       "      <td>395.03</td>\n",
       "      <td>512.82</td>\n",
       "      <td>941.35</td>\n",
       "      <td>479.10</td>\n",
       "      <td>...</td>\n",
       "      <td>1822.28</td>\n",
       "      <td>1412.38</td>\n",
       "      <td>2476.57</td>\n",
       "      <td>775.92</td>\n",
       "      <td>347.72</td>\n",
       "      <td>504.72</td>\n",
       "      <td>55.0</td>\n",
       "      <td>312.78</td>\n",
       "      <td>55.0</td>\n",
       "      <td>404442.24</td>\n",
       "    </tr>\n",
       "  </tbody>\n",
       "</table>\n",
       "<p>3 rows × 58 columns</p>\n",
       "</div>"
      ],
      "text/plain": [
       "age        10     12     14      15     16     17      18      19      20  \\\n",
       "gender                                                                      \n",
       "F         NaN  15.97  51.23  109.90  29.89  23.25  128.69  212.64  413.63   \n",
       "M       30.39    NaN    NaN   67.86  11.27  69.68  266.34  300.18  527.72   \n",
       "All     30.39  15.97  51.23  177.76  41.16  92.93  395.03  512.82  941.35   \n",
       "\n",
       "age         21  ...       60       61       62      63      64      65    66  \\\n",
       "gender          ...                                                            \n",
       "F       208.42  ...   537.49   901.61  1305.02  381.67  251.43   78.52   NaN   \n",
       "M       270.68  ...  1284.79   510.77  1171.55  394.25   96.29  426.20  55.0   \n",
       "All     479.10  ...  1822.28  1412.38  2476.57  775.92  347.72  504.72  55.0   \n",
       "\n",
       "age         67    68        All  \n",
       "gender                           \n",
       "F        36.85  55.0  201215.51  \n",
       "M       275.93   NaN  203226.73  \n",
       "All     312.78  55.0  404442.24  \n",
       "\n",
       "[3 rows x 58 columns]"
      ]
     },
     "execution_count": 475,
     "metadata": {},
     "output_type": "execute_result"
    }
   ],
   "source": [
    "#pivot table by gender and age for donation revenue\n",
    "\n",
    "donations.pivot_table('donation_revenue', 'gender', 'age', aggfunc=np.sum, margins=True)\n",
    "\n"
   ]
  },
  {
   "cell_type": "markdown",
   "metadata": {},
   "source": [
    "More males donate between 20-28 than females, but are less likely to donate between 45-50 than females."
   ]
  },
  {
   "cell_type": "code",
   "execution_count": 476,
   "metadata": {},
   "outputs": [
    {
     "data": {
      "text/plain": [
       "<seaborn.axisgrid.FacetGrid at 0x1a2c4b7410>"
      ]
     },
     "execution_count": 476,
     "metadata": {},
     "output_type": "execute_result"
    },
    {
     "data": {
      "image/png": "[encoded data removed]",
      "text/plain": [
       "<Figure size 946x216 with 1 Axes>"
      ]
     },
     "metadata": {
      "needs_background": "light"
     },
     "output_type": "display_data"
    }
   ],
   "source": [
    "#create chart for distribution of donates by age and gender. \n",
    "\n",
    "fig = sns.FacetGrid(donations, hue='donor_type', aspect=4)\n",
    "fig.map(sns.kdeplot, 'age', shade=True)\n",
    "oldest = donations['age'].max()\n",
    "youngest = donations['age'].min()\n",
    "fig.set(xlim=(youngest,oldest))\n",
    "fig.add_legend()"
   ]
  },
  {
   "cell_type": "code",
   "execution_count": 211,
   "metadata": {},
   "outputs": [
    {
     "data": {
      "text/html": [
       "<div>\n",
       "<style scoped>\n",
       "    .dataframe tbody tr th:only-of-type {\n",
       "        vertical-align: middle;\n",
       "    }\n",
       "\n",
       "    .dataframe tbody tr th {\n",
       "        vertical-align: top;\n",
       "    }\n",
       "\n",
       "    .dataframe thead th {\n",
       "        text-align: right;\n",
       "    }\n",
       "</style>\n",
       "<table border=\"1\" class=\"dataframe\">\n",
       "  <thead>\n",
       "    <tr style=\"text-align: right;\">\n",
       "      <th>age</th>\n",
       "      <th>10</th>\n",
       "      <th>12</th>\n",
       "      <th>14</th>\n",
       "      <th>15</th>\n",
       "      <th>16</th>\n",
       "      <th>17</th>\n",
       "      <th>18</th>\n",
       "      <th>19</th>\n",
       "      <th>20</th>\n",
       "      <th>21</th>\n",
       "      <th>...</th>\n",
       "      <th>60</th>\n",
       "      <th>61</th>\n",
       "      <th>62</th>\n",
       "      <th>63</th>\n",
       "      <th>64</th>\n",
       "      <th>65</th>\n",
       "      <th>66</th>\n",
       "      <th>67</th>\n",
       "      <th>68</th>\n",
       "      <th>All</th>\n",
       "    </tr>\n",
       "    <tr>\n",
       "      <th>donor_type</th>\n",
       "      <th></th>\n",
       "      <th></th>\n",
       "      <th></th>\n",
       "      <th></th>\n",
       "      <th></th>\n",
       "      <th></th>\n",
       "      <th></th>\n",
       "      <th></th>\n",
       "      <th></th>\n",
       "      <th></th>\n",
       "      <th></th>\n",
       "      <th></th>\n",
       "      <th></th>\n",
       "      <th></th>\n",
       "      <th></th>\n",
       "      <th></th>\n",
       "      <th></th>\n",
       "      <th></th>\n",
       "      <th></th>\n",
       "      <th></th>\n",
       "      <th></th>\n",
       "    </tr>\n",
       "  </thead>\n",
       "  <tbody>\n",
       "    <tr>\n",
       "      <th>one-time</th>\n",
       "      <td>30.39</td>\n",
       "      <td>15.97</td>\n",
       "      <td>51.23</td>\n",
       "      <td>105.86</td>\n",
       "      <td>41.16</td>\n",
       "      <td>71.58</td>\n",
       "      <td>324.73</td>\n",
       "      <td>372.62</td>\n",
       "      <td>744.63</td>\n",
       "      <td>479.1</td>\n",
       "      <td>...</td>\n",
       "      <td>1822.28</td>\n",
       "      <td>1412.38</td>\n",
       "      <td>2476.57</td>\n",
       "      <td>693.80</td>\n",
       "      <td>347.72</td>\n",
       "      <td>453.47</td>\n",
       "      <td>NaN</td>\n",
       "      <td>312.78</td>\n",
       "      <td>NaN</td>\n",
       "      <td>359322.11</td>\n",
       "    </tr>\n",
       "    <tr>\n",
       "      <th>recurring</th>\n",
       "      <td>NaN</td>\n",
       "      <td>NaN</td>\n",
       "      <td>NaN</td>\n",
       "      <td>71.90</td>\n",
       "      <td>NaN</td>\n",
       "      <td>21.35</td>\n",
       "      <td>70.30</td>\n",
       "      <td>140.20</td>\n",
       "      <td>196.72</td>\n",
       "      <td>NaN</td>\n",
       "      <td>...</td>\n",
       "      <td>NaN</td>\n",
       "      <td>NaN</td>\n",
       "      <td>NaN</td>\n",
       "      <td>82.12</td>\n",
       "      <td>NaN</td>\n",
       "      <td>51.25</td>\n",
       "      <td>55.0</td>\n",
       "      <td>NaN</td>\n",
       "      <td>55.0</td>\n",
       "      <td>36058.18</td>\n",
       "    </tr>\n",
       "    <tr>\n",
       "      <th>All</th>\n",
       "      <td>30.39</td>\n",
       "      <td>15.97</td>\n",
       "      <td>51.23</td>\n",
       "      <td>177.76</td>\n",
       "      <td>41.16</td>\n",
       "      <td>92.93</td>\n",
       "      <td>395.03</td>\n",
       "      <td>512.82</td>\n",
       "      <td>941.35</td>\n",
       "      <td>479.1</td>\n",
       "      <td>...</td>\n",
       "      <td>1822.28</td>\n",
       "      <td>1412.38</td>\n",
       "      <td>2476.57</td>\n",
       "      <td>775.92</td>\n",
       "      <td>347.72</td>\n",
       "      <td>504.72</td>\n",
       "      <td>55.0</td>\n",
       "      <td>312.78</td>\n",
       "      <td>55.0</td>\n",
       "      <td>395380.29</td>\n",
       "    </tr>\n",
       "  </tbody>\n",
       "</table>\n",
       "<p>3 rows × 58 columns</p>\n",
       "</div>"
      ],
      "text/plain": [
       "age            10     12     14      15     16     17      18      19      20  \\\n",
       "donor_type                                                                      \n",
       "one-time    30.39  15.97  51.23  105.86  41.16  71.58  324.73  372.62  744.63   \n",
       "recurring     NaN    NaN    NaN   71.90    NaN  21.35   70.30  140.20  196.72   \n",
       "All         30.39  15.97  51.23  177.76  41.16  92.93  395.03  512.82  941.35   \n",
       "\n",
       "age            21  ...       60       61       62      63      64      65  \\\n",
       "donor_type         ...                                                      \n",
       "one-time    479.1  ...  1822.28  1412.38  2476.57  693.80  347.72  453.47   \n",
       "recurring     NaN  ...      NaN      NaN      NaN   82.12     NaN   51.25   \n",
       "All         479.1  ...  1822.28  1412.38  2476.57  775.92  347.72  504.72   \n",
       "\n",
       "age           66      67    68        All  \n",
       "donor_type                                 \n",
       "one-time     NaN  312.78   NaN  359322.11  \n",
       "recurring   55.0     NaN  55.0   36058.18  \n",
       "All         55.0  312.78  55.0  395380.29  \n",
       "\n",
       "[3 rows x 58 columns]"
      ]
     },
     "execution_count": 211,
     "metadata": {},
     "output_type": "execute_result"
    }
   ],
   "source": [
    "donations.pivot_table('donation_revenue', 'donor_type', 'age', aggfunc=np.sum, margins=True)\n",
    "\n",
    "\n"
   ]
  },
  {
   "cell_type": "markdown",
   "metadata": {},
   "source": [
    "# Correlation Matrix"
   ]
  },
  {
   "cell_type": "code",
   "execution_count": 524,
   "metadata": {},
   "outputs": [
    {
     "data": {
      "image/png": "[encoded data removed]",
      "text/plain": [
       "<Figure size 432x288 with 2 Axes>"
      ]
     },
     "metadata": {
      "needs_background": "light"
     },
     "output_type": "display_data"
    }
   ],
   "source": [
    "#show correlation grid with numerical values. \n",
    "corr = donations.corr()\n",
    "ax = sns.heatmap(\n",
    "    corr, \n",
    "    vmin=-1, vmax=1, center=0,\n",
    "    cmap=sns.diverging_palette(15, 260, n=100),\n",
    "    square=False\n",
    ")\n",
    "ax.set_xticklabels(\n",
    "    ax.get_xticklabels(),\n",
    "    rotation=45,\n",
    "    horizontalalignment='right'\n",
    ");"
   ]
  },
  {
   "cell_type": "markdown",
   "metadata": {},
   "source": [
    "# Preprocessing Donations file for model creation"
   ]
  },
  {
   "cell_type": "code",
   "execution_count": 664,
   "metadata": {},
   "outputs": [],
   "source": [
    "#creating new dataset removing the mismatched donor types \n",
    "#filtering dataset where donor type mismatch is not true\n",
    "donations_filtered = donations[(donations['donor_type_mismatch']== 0)]\n",
    "donations_na = donations[(donations['donor_type_mismatch']== 1)]"
   ]
  },
  {
   "cell_type": "code",
   "execution_count": 665,
   "metadata": {},
   "outputs": [
    {
     "name": "stdout",
     "output_type": "stream",
     "text": [
      "<class 'pandas.core.frame.DataFrame'>\n",
      "Int64Index: 4734 entries, 0 to 4999\n",
      "Data columns (total 20 columns):\n",
      " #   Column               Non-Null Count  Dtype  \n",
      "---  ------               --------------  -----  \n",
      " 0   age                  4734 non-null   int64  \n",
      " 1   age_group            4734 non-null   object \n",
      " 2   campaign_name        4734 non-null   object \n",
      " 3   channel              4734 non-null   object \n",
      " 4   donation_revenue     4734 non-null   float64\n",
      " 5   donor_type           4734 non-null   object \n",
      " 6   dup_donor_type       4734 non-null   object \n",
      " 7   donor_type_mismatch  4734 non-null   int64  \n",
      " 8   entertainment        4734 non-null   float64\n",
      " 9   gender               4546 non-null   object \n",
      " 10  spending_on_food     4734 non-null   float64\n",
      " 11  state                4734 non-null   object \n",
      " 12  us_region            4734 non-null   object \n",
      " 13  campaign_n           4734 non-null   int64  \n",
      " 14  channel_n            4734 non-null   int64  \n",
      " 15  donor_type_n         4734 non-null   float64\n",
      " 16  gender_n             4546 non-null   float64\n",
      " 17  state_n              4734 non-null   int64  \n",
      " 18  us_region_n          4734 non-null   int64  \n",
      " 19  age_group_n          4734 non-null   int64  \n",
      "dtypes: float64(5), int64(7), object(8)\n",
      "memory usage: 776.7+ KB\n"
     ]
    }
   ],
   "source": [
    "donations_filtered.info()"
   ]
  },
  {
   "cell_type": "code",
   "execution_count": 666,
   "metadata": {},
   "outputs": [],
   "source": [
    "#remove donor_mismatch and age group fields to avoid over fitting. Removin string value columns\n",
    "del donations_filtered['age_group']\n",
    "del donations_filtered['age_group_n']\n",
    "del donations_filtered['campaign_name']\n",
    "del donations_filtered['channel']\n",
    "del donations_filtered['gender']\n",
    "del donations_filtered['gender_n']\n",
    "del donations_filtered['donor_type']\n",
    "del donations_filtered['state']\n",
    "del donations_filtered['dup_donor_type']\n",
    "del donations_filtered['donor_type_mismatch']\n",
    "del donations_filtered['us_region']\n",
    "\n",
    "del donations_na['age_group']\n",
    "del donations_na['age_group_n']\n",
    "del donations_na['campaign_name']\n",
    "del donations_na['channel']\n",
    "del donations_na['gender']\n",
    "del donations_na['gender_n']\n",
    "del donations_na['donor_type']\n",
    "del donations_na['state']\n",
    "del donations_na['dup_donor_type']\n",
    "del donations_na['donor_type_mismatch']\n",
    "del donations_na['us_region']"
   ]
  },
  {
   "cell_type": "code",
   "execution_count": 667,
   "metadata": {},
   "outputs": [],
   "source": [
    "# Copy dataframe\n",
    "donations_donor = donations_filtered.copy(deep=True)\n",
    "donations_pred = donations_na.copy(deep=True)"
   ]
  },
  {
   "cell_type": "code",
   "execution_count": 670,
   "metadata": {},
   "outputs": [],
   "source": [
    "# Convert numberical variables to categorical for model building\n",
    "\n",
    "donations_donor['campaign_n'] = pd.Categorical(donations_filtered['campaign_n'])\n",
    "donations_donor['channel_n'] = pd.Categorical(donations_filtered['channel_n'])\n",
    "donations_donor['donor_type_n'] = pd.Categorical(donations_filtered['donor_type_n'])\n",
    "donations_donor['state_n'] = pd.Categorical(donations_filtered['state_n'])\n",
    "donations_donor['us_region_n'] = pd.Categorical(donations_filtered['us_region_n'])\n",
    "\n",
    "\n",
    "donations_pred['campaign_n'] = pd.Categorical(donations_na['campaign_n'])\n",
    "donations_pred['channel_n'] = pd.Categorical(donations_na['channel_n'])\n",
    "donations_pred['donor_type_n'] = pd.Categorical(donations_na['donor_type_n'])\n",
    "donations_pred['state_n'] = pd.Categorical(donations_na['state_n'])\n",
    "donations_pred['us_region_n'] = pd.Categorical(donations_na['us_region_n'])"
   ]
  },
  {
   "cell_type": "code",
   "execution_count": 671,
   "metadata": {},
   "outputs": [],
   "source": [
    "# dropping rows with null values\n",
    "donations_donor.dropna(axis=0,inplace=True)\n",
    "\n"
   ]
  },
  {
   "cell_type": "markdown",
   "metadata": {},
   "source": [
    "# Create Testing/Training Dataset"
   ]
  },
  {
   "cell_type": "code",
   "execution_count": 672,
   "metadata": {},
   "outputs": [
    {
     "name": "stdout",
     "output_type": "stream",
     "text": [
      "<class 'pandas.core.frame.DataFrame'>\n",
      "Int64Index: 4734 entries, 0 to 4999\n",
      "Data columns (total 9 columns):\n",
      " #   Column            Non-Null Count  Dtype   \n",
      "---  ------            --------------  -----   \n",
      " 0   age               4734 non-null   int64   \n",
      " 1   donation_revenue  4734 non-null   float64 \n",
      " 2   entertainment     4734 non-null   float64 \n",
      " 3   spending_on_food  4734 non-null   float64 \n",
      " 4   campaign_n        4734 non-null   category\n",
      " 5   channel_n         4734 non-null   category\n",
      " 6   donor_type_n      4734 non-null   category\n",
      " 7   state_n           4734 non-null   category\n",
      " 8   us_region_n       4734 non-null   category\n",
      "dtypes: category(5), float64(3), int64(1)\n",
      "memory usage: 208.9 KB\n"
     ]
    }
   ],
   "source": [
    "#get column #'s for features dataset\n",
    "donations_donor.info()"
   ]
  },
  {
   "cell_type": "code",
   "execution_count": 673,
   "metadata": {},
   "outputs": [
    {
     "name": "stdout",
     "output_type": "stream",
     "text": [
      "<class 'pandas.core.frame.DataFrame'>\n",
      "Int64Index: 266 entries, 8 to 4977\n",
      "Data columns (total 9 columns):\n",
      " #   Column            Non-Null Count  Dtype   \n",
      "---  ------            --------------  -----   \n",
      " 0   age               266 non-null    int64   \n",
      " 1   donation_revenue  266 non-null    float64 \n",
      " 2   entertainment     266 non-null    float64 \n",
      " 3   spending_on_food  266 non-null    float64 \n",
      " 4   campaign_n        266 non-null    category\n",
      " 5   channel_n         266 non-null    category\n",
      " 6   donor_type_n      0 non-null      category\n",
      " 7   state_n           266 non-null    category\n",
      " 8   us_region_n       266 non-null    category\n",
      "dtypes: category(5), float64(3), int64(1)\n",
      "memory usage: 12.5 KB\n"
     ]
    }
   ],
   "source": [
    "donations_pred.info()"
   ]
  },
  {
   "cell_type": "code",
   "execution_count": 676,
   "metadata": {},
   "outputs": [],
   "source": [
    "#rearrange columns \n",
    "donations_donor = donations_donor[['age', 'entertainment', 'spending_on_food','campaign_n','channel_n','state_n','us_region_n','donation_revenue','donor_type_n']]\n",
    "#rearrange columns \n",
    "donations_pred = donations_pred[['age', 'entertainment', 'spending_on_food','campaign_n','channel_n','state_n','us_region_n','donation_revenue','donor_type_n']]"
   ]
  },
  {
   "cell_type": "code",
   "execution_count": 677,
   "metadata": {},
   "outputs": [
    {
     "name": "stdout",
     "output_type": "stream",
     "text": [
      "<class 'pandas.core.frame.DataFrame'>\n",
      "Int64Index: 4734 entries, 0 to 4999\n",
      "Data columns (total 9 columns):\n",
      " #   Column            Non-Null Count  Dtype   \n",
      "---  ------            --------------  -----   \n",
      " 0   age               4734 non-null   int64   \n",
      " 1   entertainment     4734 non-null   float64 \n",
      " 2   spending_on_food  4734 non-null   float64 \n",
      " 3   campaign_n        4734 non-null   category\n",
      " 4   channel_n         4734 non-null   category\n",
      " 5   state_n           4734 non-null   category\n",
      " 6   us_region_n       4734 non-null   category\n",
      " 7   donation_revenue  4734 non-null   float64 \n",
      " 8   donor_type_n      4734 non-null   category\n",
      "dtypes: category(5), float64(3), int64(1)\n",
      "memory usage: 208.9 KB\n"
     ]
    }
   ],
   "source": [
    "donations_donor.info()"
   ]
  },
  {
   "cell_type": "code",
   "execution_count": 704,
   "metadata": {},
   "outputs": [
    {
     "data": {
      "text/html": [
       "<div>\n",
       "<style scoped>\n",
       "    .dataframe tbody tr th:only-of-type {\n",
       "        vertical-align: middle;\n",
       "    }\n",
       "\n",
       "    .dataframe tbody tr th {\n",
       "        vertical-align: top;\n",
       "    }\n",
       "\n",
       "    .dataframe thead th {\n",
       "        text-align: right;\n",
       "    }\n",
       "</style>\n",
       "<table border=\"1\" class=\"dataframe\">\n",
       "  <thead>\n",
       "    <tr style=\"text-align: right;\">\n",
       "      <th></th>\n",
       "      <th>age</th>\n",
       "      <th>entertainment</th>\n",
       "      <th>spending_on_food</th>\n",
       "      <th>campaign_n</th>\n",
       "      <th>channel_n</th>\n",
       "      <th>state_n</th>\n",
       "      <th>us_region_n</th>\n",
       "      <th>donation_revenue</th>\n",
       "    </tr>\n",
       "  </thead>\n",
       "  <tbody>\n",
       "    <tr>\n",
       "      <th>8</th>\n",
       "      <td>29</td>\n",
       "      <td>329.23</td>\n",
       "      <td>307.90</td>\n",
       "      <td>2</td>\n",
       "      <td>1</td>\n",
       "      <td>10</td>\n",
       "      <td>2</td>\n",
       "      <td>71.40</td>\n",
       "    </tr>\n",
       "    <tr>\n",
       "      <th>11</th>\n",
       "      <td>37</td>\n",
       "      <td>256.23</td>\n",
       "      <td>218.88</td>\n",
       "      <td>1</td>\n",
       "      <td>4</td>\n",
       "      <td>2</td>\n",
       "      <td>3</td>\n",
       "      <td>51.11</td>\n",
       "    </tr>\n",
       "    <tr>\n",
       "      <th>15</th>\n",
       "      <td>37</td>\n",
       "      <td>236.23</td>\n",
       "      <td>274.24</td>\n",
       "      <td>1</td>\n",
       "      <td>3</td>\n",
       "      <td>5</td>\n",
       "      <td>1</td>\n",
       "      <td>57.34</td>\n",
       "    </tr>\n",
       "    <tr>\n",
       "      <th>17</th>\n",
       "      <td>35</td>\n",
       "      <td>120.00</td>\n",
       "      <td>318.14</td>\n",
       "      <td>1</td>\n",
       "      <td>4</td>\n",
       "      <td>3</td>\n",
       "      <td>2</td>\n",
       "      <td>1.32</td>\n",
       "    </tr>\n",
       "    <tr>\n",
       "      <th>19</th>\n",
       "      <td>37</td>\n",
       "      <td>253.23</td>\n",
       "      <td>242.01</td>\n",
       "      <td>2</td>\n",
       "      <td>4</td>\n",
       "      <td>3</td>\n",
       "      <td>2</td>\n",
       "      <td>47.20</td>\n",
       "    </tr>\n",
       "  </tbody>\n",
       "</table>\n",
       "</div>"
      ],
      "text/plain": [
       "    age  entertainment  spending_on_food campaign_n channel_n state_n  \\\n",
       "8    29         329.23            307.90          2         1      10   \n",
       "11   37         256.23            218.88          1         4       2   \n",
       "15   37         236.23            274.24          1         3       5   \n",
       "17   35         120.00            318.14          1         4       3   \n",
       "19   37         253.23            242.01          2         4       3   \n",
       "\n",
       "   us_region_n  donation_revenue  \n",
       "8            2             71.40  \n",
       "11           3             51.11  \n",
       "15           1             57.34  \n",
       "17           2              1.32  \n",
       "19           2             47.20  "
      ]
     },
     "execution_count": 704,
     "metadata": {},
     "output_type": "execute_result"
    }
   ],
   "source": [
    "#Establish X & Y. Depedant variable is donation type\n",
    "X_pred = donations_pred.iloc[:,0:8]\n",
    "Y_pred = donations_pred.iloc[:, -1]\n",
    "X_pred.head()"
   ]
  },
  {
   "cell_type": "code",
   "execution_count": 706,
   "metadata": {},
   "outputs": [
    {
     "data": {
      "text/html": [
       "<div>\n",
       "<style scoped>\n",
       "    .dataframe tbody tr th:only-of-type {\n",
       "        vertical-align: middle;\n",
       "    }\n",
       "\n",
       "    .dataframe tbody tr th {\n",
       "        vertical-align: top;\n",
       "    }\n",
       "\n",
       "    .dataframe thead th {\n",
       "        text-align: right;\n",
       "    }\n",
       "</style>\n",
       "<table border=\"1\" class=\"dataframe\">\n",
       "  <thead>\n",
       "    <tr style=\"text-align: right;\">\n",
       "      <th></th>\n",
       "      <th>age</th>\n",
       "      <th>entertainment</th>\n",
       "      <th>spending_on_food</th>\n",
       "      <th>campaign_n</th>\n",
       "      <th>channel_n</th>\n",
       "      <th>state_n</th>\n",
       "      <th>us_region_n</th>\n",
       "      <th>donation_revenue</th>\n",
       "    </tr>\n",
       "  </thead>\n",
       "  <tbody>\n",
       "    <tr>\n",
       "      <th>0</th>\n",
       "      <td>30</td>\n",
       "      <td>224.23</td>\n",
       "      <td>232.56</td>\n",
       "      <td>1</td>\n",
       "      <td>3</td>\n",
       "      <td>2</td>\n",
       "      <td>3</td>\n",
       "      <td>74.98</td>\n",
       "    </tr>\n",
       "    <tr>\n",
       "      <th>1</th>\n",
       "      <td>39</td>\n",
       "      <td>314.23</td>\n",
       "      <td>322.04</td>\n",
       "      <td>1</td>\n",
       "      <td>3</td>\n",
       "      <td>1</td>\n",
       "      <td>2</td>\n",
       "      <td>68.60</td>\n",
       "    </tr>\n",
       "    <tr>\n",
       "      <th>2</th>\n",
       "      <td>24</td>\n",
       "      <td>165.23</td>\n",
       "      <td>197.80</td>\n",
       "      <td>1</td>\n",
       "      <td>3</td>\n",
       "      <td>3</td>\n",
       "      <td>2</td>\n",
       "      <td>44.85</td>\n",
       "    </tr>\n",
       "    <tr>\n",
       "      <th>3</th>\n",
       "      <td>33</td>\n",
       "      <td>300.67</td>\n",
       "      <td>360.64</td>\n",
       "      <td>1</td>\n",
       "      <td>3</td>\n",
       "      <td>5</td>\n",
       "      <td>1</td>\n",
       "      <td>39.91</td>\n",
       "    </tr>\n",
       "    <tr>\n",
       "      <th>4</th>\n",
       "      <td>67</td>\n",
       "      <td>190.67</td>\n",
       "      <td>264.75</td>\n",
       "      <td>2</td>\n",
       "      <td>2</td>\n",
       "      <td>9</td>\n",
       "      <td>1</td>\n",
       "      <td>111.13</td>\n",
       "    </tr>\n",
       "  </tbody>\n",
       "</table>\n",
       "</div>"
      ],
      "text/plain": [
       "   age  entertainment  spending_on_food campaign_n channel_n state_n  \\\n",
       "0   30         224.23            232.56          1         3       2   \n",
       "1   39         314.23            322.04          1         3       1   \n",
       "2   24         165.23            197.80          1         3       3   \n",
       "3   33         300.67            360.64          1         3       5   \n",
       "4   67         190.67            264.75          2         2       9   \n",
       "\n",
       "  us_region_n  donation_revenue  \n",
       "0           3             74.98  \n",
       "1           2             68.60  \n",
       "2           2             44.85  \n",
       "3           1             39.91  \n",
       "4           1            111.13  "
      ]
     },
     "execution_count": 706,
     "metadata": {},
     "output_type": "execute_result"
    }
   ],
   "source": [
    "X = donations_donor.iloc[:,0:8]\n",
    "Y = donations_donor.iloc[:, -1]\n",
    "X.head()"
   ]
  },
  {
   "cell_type": "code",
   "execution_count": 707,
   "metadata": {},
   "outputs": [
    {
     "data": {
      "text/plain": [
       "0    1.0\n",
       "1    1.0\n",
       "2    2.0\n",
       "3    1.0\n",
       "4    1.0\n",
       "Name: donor_type_n, dtype: category\n",
       "Categories (2, float64): [1.0, 2.0]"
      ]
     },
     "execution_count": 707,
     "metadata": {},
     "output_type": "execute_result"
    }
   ],
   "source": [
    "Y.head()"
   ]
  },
  {
   "cell_type": "code",
   "execution_count": 708,
   "metadata": {},
   "outputs": [],
   "source": [
    "validation_size = 0.2\n",
    "seed = 2116\n",
    "X_train, X_validation, Y_train, Y_validation = train_test_split(X, Y,\n",
    "test_size=validation_size, random_state=seed)"
   ]
  },
  {
   "cell_type": "code",
   "execution_count": 709,
   "metadata": {},
   "outputs": [
    {
     "data": {
      "text/plain": [
       "((3787, 8), (947, 8))"
      ]
     },
     "execution_count": 709,
     "metadata": {},
     "output_type": "execute_result"
    }
   ],
   "source": [
    "X_train.shape, X_validation.shape"
   ]
  },
  {
   "cell_type": "code",
   "execution_count": 710,
   "metadata": {},
   "outputs": [
    {
     "data": {
      "text/plain": [
       "((266, 8), (266,))"
      ]
     },
     "execution_count": 710,
     "metadata": {},
     "output_type": "execute_result"
    }
   ],
   "source": [
    "X_pred.shape, Y_pred.shape"
   ]
  },
  {
   "cell_type": "markdown",
   "metadata": {},
   "source": [
    "# Create Models"
   ]
  },
  {
   "cell_type": "code",
   "execution_count": 711,
   "metadata": {},
   "outputs": [],
   "source": [
    "# Spot-check algorithms\n",
    "models = []\n",
    "models.append(('LR',LogisticRegression(solver='liblinear')))\n",
    "models.append(('KNN', KNeighborsClassifier()))\n",
    "models.append(('CART', DecisionTreeClassifier()))\n",
    "models.append(('NB', GaussianNB()))\n",
    "models.append(('SVM', SVC(gamma='auto')))\n",
    "models.append(('RF', RandomForestClassifier(n_estimators=100)))"
   ]
  },
  {
   "cell_type": "code",
   "execution_count": 712,
   "metadata": {},
   "outputs": [],
   "source": [
    "# Set seed and created 10 cold cross validiation. Set scorring\n",
    "folds = 10\n",
    "seed = 2116\n",
    "accuracy = 'accuracy'"
   ]
  },
  {
   "cell_type": "code",
   "execution_count": 713,
   "metadata": {},
   "outputs": [
    {
     "name": "stdout",
     "output_type": "stream",
     "text": [
      "LR: 0.894638 (0.015605)\n",
      "KNN: 0.880117 (0.011873)\n",
      "CART: 0.857137 (0.012143)\n",
      "NB: 0.894638 (0.015605)\n",
      "SVM: 0.894638 (0.015605)\n",
      "RF: 0.914182 (0.013415)\n"
     ]
    }
   ],
   "source": [
    "# Results show mean accuracy values for each algorithm\n",
    "from sklearn.model_selection import KFold\n",
    "\n",
    "results = []\n",
    "names = []\n",
    "for name, model in models:\n",
    "    kfold = KFold(n_splits=folds, random_state=seed, shuffle=True)\n",
    "    cv_results = cross_val_score(model, X_train, Y_train, cv=kfold, scoring=accuracy)\n",
    "    results.append(cv_results)\n",
    "    names.append(name)\n",
    "    msg = \"%s: %f (%f)\" % (name, cv_results.mean(), cv_results.std())\n",
    "    print(msg)"
   ]
  },
  {
   "cell_type": "code",
   "execution_count": 714,
   "metadata": {},
   "outputs": [
    {
     "data": {
      "image/png": "[encoded data removed]",
      "text/plain": [
       "<Figure size 432x288 with 1 Axes>"
      ]
     },
     "metadata": {
      "needs_background": "light"
     },
     "output_type": "display_data"
    }
   ],
   "source": [
    "# Visualize distribution of accuracy  calculated across cross-validation folds\n",
    "base_fig = plt.figure()\n",
    "base_fig.suptitle('Model Comparison')\n",
    "base_ax = base_fig.add_subplot(111)\n",
    "plt.boxplot(results)\n",
    "base_ax.set_xticklabels(names)\n",
    "plt.show()"
   ]
  },
  {
   "cell_type": "markdown",
   "metadata": {},
   "source": [
    "# Model Tuning for Random Forest"
   ]
  },
  {
   "cell_type": "code",
   "execution_count": 715,
   "metadata": {},
   "outputs": [],
   "source": [
    "max_features_range = np.arange(1,6,1)\n",
    "n_estimators_range = np.arange(50,300,10)\n",
    "param_grid = dict(max_features=max_features_range, n_estimators=n_estimators_range)\n",
    "\n",
    "rf = RandomForestClassifier()\n",
    "\n",
    "rfgrid = GridSearchCV(estimator=rf, param_grid=param_grid, cv=10)"
   ]
  },
  {
   "cell_type": "code",
   "execution_count": 716,
   "metadata": {},
   "outputs": [],
   "source": [
    "RF_train = rfgrid.fit(X_train, Y_train)"
   ]
  },
  {
   "cell_type": "code",
   "execution_count": 717,
   "metadata": {},
   "outputs": [
    {
     "name": "stdout",
     "output_type": "stream",
     "text": [
      "The best parameters are {'max_features': 5, 'n_estimators': 260} with a score of 0.93\n"
     ]
    }
   ],
   "source": [
    "#Show top parameters for RF out of the box\n",
    "print(\"The best parameters are %s with a score of %0.2f\"\n",
    "      % (rfgrid.best_params_, rfgrid.best_score_))"
   ]
  },
  {
   "cell_type": "markdown",
   "metadata": {},
   "source": [
    "model improved by .02 with tuned parameters"
   ]
  },
  {
   "cell_type": "code",
   "execution_count": 718,
   "metadata": {},
   "outputs": [
    {
     "data": {
      "text/html": [
       "<div>\n",
       "<style scoped>\n",
       "    .dataframe tbody tr th:only-of-type {\n",
       "        vertical-align: middle;\n",
       "    }\n",
       "\n",
       "    .dataframe tbody tr th {\n",
       "        vertical-align: top;\n",
       "    }\n",
       "\n",
       "    .dataframe thead th {\n",
       "        text-align: right;\n",
       "    }\n",
       "</style>\n",
       "<table border=\"1\" class=\"dataframe\">\n",
       "  <thead>\n",
       "    <tr style=\"text-align: right;\">\n",
       "      <th></th>\n",
       "      <th>max_features</th>\n",
       "      <th>n_estimators</th>\n",
       "      <th>Accuracy</th>\n",
       "    </tr>\n",
       "  </thead>\n",
       "  <tbody>\n",
       "    <tr>\n",
       "      <th>0</th>\n",
       "      <td>1</td>\n",
       "      <td>50</td>\n",
       "      <td>0.898073</td>\n",
       "    </tr>\n",
       "    <tr>\n",
       "      <th>1</th>\n",
       "      <td>1</td>\n",
       "      <td>60</td>\n",
       "      <td>0.899394</td>\n",
       "    </tr>\n",
       "    <tr>\n",
       "      <th>2</th>\n",
       "      <td>1</td>\n",
       "      <td>70</td>\n",
       "      <td>0.899921</td>\n",
       "    </tr>\n",
       "    <tr>\n",
       "      <th>3</th>\n",
       "      <td>1</td>\n",
       "      <td>80</td>\n",
       "      <td>0.896224</td>\n",
       "    </tr>\n",
       "    <tr>\n",
       "      <th>4</th>\n",
       "      <td>1</td>\n",
       "      <td>90</td>\n",
       "      <td>0.897809</td>\n",
       "    </tr>\n",
       "  </tbody>\n",
       "</table>\n",
       "</div>"
      ],
      "text/plain": [
       "   max_features  n_estimators  Accuracy\n",
       "0             1            50  0.898073\n",
       "1             1            60  0.899394\n",
       "2             1            70  0.899921\n",
       "3             1            80  0.896224\n",
       "4             1            90  0.897809"
      ]
     },
     "execution_count": 718,
     "metadata": {},
     "output_type": "execute_result"
    }
   ],
   "source": [
    "#create results table\n",
    "rfgrid_results = pd.concat([pd.DataFrame(rfgrid.cv_results_[\"params\"]),pd.DataFrame(rfgrid.cv_results_[\"mean_test_score\"], columns=[\"Accuracy\"])],axis=1)\n",
    "rfgrid_results.head()"
   ]
  },
  {
   "cell_type": "code",
   "execution_count": 719,
   "metadata": {},
   "outputs": [
    {
     "data": {
      "text/html": [
       "<div>\n",
       "<style scoped>\n",
       "    .dataframe tbody tr th:only-of-type {\n",
       "        vertical-align: middle;\n",
       "    }\n",
       "\n",
       "    .dataframe tbody tr th {\n",
       "        vertical-align: top;\n",
       "    }\n",
       "\n",
       "    .dataframe thead th {\n",
       "        text-align: right;\n",
       "    }\n",
       "</style>\n",
       "<table border=\"1\" class=\"dataframe\">\n",
       "  <thead>\n",
       "    <tr style=\"text-align: right;\">\n",
       "      <th></th>\n",
       "      <th></th>\n",
       "      <th>Accuracy</th>\n",
       "    </tr>\n",
       "    <tr>\n",
       "      <th>max_features</th>\n",
       "      <th>n_estimators</th>\n",
       "      <th></th>\n",
       "    </tr>\n",
       "  </thead>\n",
       "  <tbody>\n",
       "    <tr>\n",
       "      <th rowspan=\"5\" valign=\"top\">1</th>\n",
       "      <th>50</th>\n",
       "      <td>0.898073</td>\n",
       "    </tr>\n",
       "    <tr>\n",
       "      <th>60</th>\n",
       "      <td>0.899394</td>\n",
       "    </tr>\n",
       "    <tr>\n",
       "      <th>70</th>\n",
       "      <td>0.899921</td>\n",
       "    </tr>\n",
       "    <tr>\n",
       "      <th>80</th>\n",
       "      <td>0.896224</td>\n",
       "    </tr>\n",
       "    <tr>\n",
       "      <th>90</th>\n",
       "      <td>0.897809</td>\n",
       "    </tr>\n",
       "    <tr>\n",
       "      <th>...</th>\n",
       "      <th>...</th>\n",
       "      <td>...</td>\n",
       "    </tr>\n",
       "    <tr>\n",
       "      <th rowspan=\"5\" valign=\"top\">5</th>\n",
       "      <th>250</th>\n",
       "      <td>0.924215</td>\n",
       "    </tr>\n",
       "    <tr>\n",
       "      <th>260</th>\n",
       "      <td>0.925271</td>\n",
       "    </tr>\n",
       "    <tr>\n",
       "      <th>270</th>\n",
       "      <td>0.924480</td>\n",
       "    </tr>\n",
       "    <tr>\n",
       "      <th>280</th>\n",
       "      <td>0.923687</td>\n",
       "    </tr>\n",
       "    <tr>\n",
       "      <th>290</th>\n",
       "      <td>0.922367</td>\n",
       "    </tr>\n",
       "  </tbody>\n",
       "</table>\n",
       "<p>125 rows × 1 columns</p>\n",
       "</div>"
      ],
      "text/plain": [
       "                           Accuracy\n",
       "max_features n_estimators          \n",
       "1            50            0.898073\n",
       "             60            0.899394\n",
       "             70            0.899921\n",
       "             80            0.896224\n",
       "             90            0.897809\n",
       "...                             ...\n",
       "5            250           0.924215\n",
       "             260           0.925271\n",
       "             270           0.924480\n",
       "             280           0.923687\n",
       "             290           0.922367\n",
       "\n",
       "[125 rows x 1 columns]"
      ]
     },
     "execution_count": 719,
     "metadata": {},
     "output_type": "execute_result"
    }
   ],
   "source": [
    "#group results by max features and estimators\n",
    "rfgrid_contour = rfgrid_results.groupby(['max_features','n_estimators']).mean()\n",
    "rfgrid_contour"
   ]
  },
  {
   "cell_type": "code",
   "execution_count": 720,
   "metadata": {},
   "outputs": [
    {
     "data": {
      "text/html": [
       "<div>\n",
       "<style scoped>\n",
       "    .dataframe tbody tr th:only-of-type {\n",
       "        vertical-align: middle;\n",
       "    }\n",
       "\n",
       "    .dataframe tbody tr th {\n",
       "        vertical-align: top;\n",
       "    }\n",
       "\n",
       "    .dataframe thead tr th {\n",
       "        text-align: left;\n",
       "    }\n",
       "\n",
       "    .dataframe thead tr:last-of-type th {\n",
       "        text-align: right;\n",
       "    }\n",
       "</style>\n",
       "<table border=\"1\" class=\"dataframe\">\n",
       "  <thead>\n",
       "    <tr>\n",
       "      <th></th>\n",
       "      <th colspan=\"21\" halign=\"left\">Accuracy</th>\n",
       "    </tr>\n",
       "    <tr>\n",
       "      <th>n_estimators</th>\n",
       "      <th>50</th>\n",
       "      <th>60</th>\n",
       "      <th>70</th>\n",
       "      <th>80</th>\n",
       "      <th>90</th>\n",
       "      <th>100</th>\n",
       "      <th>110</th>\n",
       "      <th>120</th>\n",
       "      <th>130</th>\n",
       "      <th>140</th>\n",
       "      <th>...</th>\n",
       "      <th>200</th>\n",
       "      <th>210</th>\n",
       "      <th>220</th>\n",
       "      <th>230</th>\n",
       "      <th>240</th>\n",
       "      <th>250</th>\n",
       "      <th>260</th>\n",
       "      <th>270</th>\n",
       "      <th>280</th>\n",
       "      <th>290</th>\n",
       "    </tr>\n",
       "    <tr>\n",
       "      <th>max_features</th>\n",
       "      <th></th>\n",
       "      <th></th>\n",
       "      <th></th>\n",
       "      <th></th>\n",
       "      <th></th>\n",
       "      <th></th>\n",
       "      <th></th>\n",
       "      <th></th>\n",
       "      <th></th>\n",
       "      <th></th>\n",
       "      <th></th>\n",
       "      <th></th>\n",
       "      <th></th>\n",
       "      <th></th>\n",
       "      <th></th>\n",
       "      <th></th>\n",
       "      <th></th>\n",
       "      <th></th>\n",
       "      <th></th>\n",
       "      <th></th>\n",
       "      <th></th>\n",
       "    </tr>\n",
       "  </thead>\n",
       "  <tbody>\n",
       "    <tr>\n",
       "      <th>1</th>\n",
       "      <td>0.898073</td>\n",
       "      <td>0.899394</td>\n",
       "      <td>0.899921</td>\n",
       "      <td>0.896224</td>\n",
       "      <td>0.897809</td>\n",
       "      <td>0.897019</td>\n",
       "      <td>0.898073</td>\n",
       "      <td>0.898338</td>\n",
       "      <td>0.898868</td>\n",
       "      <td>0.897019</td>\n",
       "      <td>...</td>\n",
       "      <td>0.898338</td>\n",
       "      <td>0.898074</td>\n",
       "      <td>0.898337</td>\n",
       "      <td>0.898603</td>\n",
       "      <td>0.898602</td>\n",
       "      <td>0.898073</td>\n",
       "      <td>0.897810</td>\n",
       "      <td>0.897544</td>\n",
       "      <td>0.898074</td>\n",
       "      <td>0.898602</td>\n",
       "    </tr>\n",
       "    <tr>\n",
       "      <th>2</th>\n",
       "      <td>0.912597</td>\n",
       "      <td>0.911804</td>\n",
       "      <td>0.913915</td>\n",
       "      <td>0.913652</td>\n",
       "      <td>0.912068</td>\n",
       "      <td>0.912067</td>\n",
       "      <td>0.913386</td>\n",
       "      <td>0.913124</td>\n",
       "      <td>0.912597</td>\n",
       "      <td>0.911539</td>\n",
       "      <td>...</td>\n",
       "      <td>0.913123</td>\n",
       "      <td>0.911276</td>\n",
       "      <td>0.914180</td>\n",
       "      <td>0.912595</td>\n",
       "      <td>0.913124</td>\n",
       "      <td>0.913387</td>\n",
       "      <td>0.913124</td>\n",
       "      <td>0.913388</td>\n",
       "      <td>0.912860</td>\n",
       "      <td>0.913916</td>\n",
       "    </tr>\n",
       "    <tr>\n",
       "      <th>3</th>\n",
       "      <td>0.920254</td>\n",
       "      <td>0.919727</td>\n",
       "      <td>0.920252</td>\n",
       "      <td>0.919989</td>\n",
       "      <td>0.919726</td>\n",
       "      <td>0.921046</td>\n",
       "      <td>0.920517</td>\n",
       "      <td>0.920254</td>\n",
       "      <td>0.920516</td>\n",
       "      <td>0.921047</td>\n",
       "      <td>...</td>\n",
       "      <td>0.918934</td>\n",
       "      <td>0.920782</td>\n",
       "      <td>0.920254</td>\n",
       "      <td>0.920782</td>\n",
       "      <td>0.919990</td>\n",
       "      <td>0.920253</td>\n",
       "      <td>0.920518</td>\n",
       "      <td>0.920254</td>\n",
       "      <td>0.921045</td>\n",
       "      <td>0.919989</td>\n",
       "    </tr>\n",
       "    <tr>\n",
       "      <th>4</th>\n",
       "      <td>0.923425</td>\n",
       "      <td>0.921047</td>\n",
       "      <td>0.922894</td>\n",
       "      <td>0.923158</td>\n",
       "      <td>0.921309</td>\n",
       "      <td>0.922102</td>\n",
       "      <td>0.923686</td>\n",
       "      <td>0.922631</td>\n",
       "      <td>0.921574</td>\n",
       "      <td>0.922369</td>\n",
       "      <td>...</td>\n",
       "      <td>0.921838</td>\n",
       "      <td>0.921838</td>\n",
       "      <td>0.923161</td>\n",
       "      <td>0.922367</td>\n",
       "      <td>0.922103</td>\n",
       "      <td>0.922103</td>\n",
       "      <td>0.921838</td>\n",
       "      <td>0.922103</td>\n",
       "      <td>0.921838</td>\n",
       "      <td>0.921838</td>\n",
       "    </tr>\n",
       "    <tr>\n",
       "      <th>5</th>\n",
       "      <td>0.921312</td>\n",
       "      <td>0.922631</td>\n",
       "      <td>0.922629</td>\n",
       "      <td>0.922631</td>\n",
       "      <td>0.922895</td>\n",
       "      <td>0.924215</td>\n",
       "      <td>0.924743</td>\n",
       "      <td>0.923952</td>\n",
       "      <td>0.923688</td>\n",
       "      <td>0.922631</td>\n",
       "      <td>...</td>\n",
       "      <td>0.924479</td>\n",
       "      <td>0.923687</td>\n",
       "      <td>0.924743</td>\n",
       "      <td>0.923158</td>\n",
       "      <td>0.923951</td>\n",
       "      <td>0.924215</td>\n",
       "      <td>0.925271</td>\n",
       "      <td>0.924480</td>\n",
       "      <td>0.923687</td>\n",
       "      <td>0.922367</td>\n",
       "    </tr>\n",
       "  </tbody>\n",
       "</table>\n",
       "<p>5 rows × 25 columns</p>\n",
       "</div>"
      ],
      "text/plain": [
       "              Accuracy                                                    \\\n",
       "n_estimators       50        60        70        80        90        100   \n",
       "max_features                                                               \n",
       "1             0.898073  0.899394  0.899921  0.896224  0.897809  0.897019   \n",
       "2             0.912597  0.911804  0.913915  0.913652  0.912068  0.912067   \n",
       "3             0.920254  0.919727  0.920252  0.919989  0.919726  0.921046   \n",
       "4             0.923425  0.921047  0.922894  0.923158  0.921309  0.922102   \n",
       "5             0.921312  0.922631  0.922629  0.922631  0.922895  0.924215   \n",
       "\n",
       "                                                      ...                      \\\n",
       "n_estimators       110       120       130       140  ...       200       210   \n",
       "max_features                                          ...                       \n",
       "1             0.898073  0.898338  0.898868  0.897019  ...  0.898338  0.898074   \n",
       "2             0.913386  0.913124  0.912597  0.911539  ...  0.913123  0.911276   \n",
       "3             0.920517  0.920254  0.920516  0.921047  ...  0.918934  0.920782   \n",
       "4             0.923686  0.922631  0.921574  0.922369  ...  0.921838  0.921838   \n",
       "5             0.924743  0.923952  0.923688  0.922631  ...  0.924479  0.923687   \n",
       "\n",
       "                                                                          \\\n",
       "n_estimators       220       230       240       250       260       270   \n",
       "max_features                                                               \n",
       "1             0.898337  0.898603  0.898602  0.898073  0.897810  0.897544   \n",
       "2             0.914180  0.912595  0.913124  0.913387  0.913124  0.913388   \n",
       "3             0.920254  0.920782  0.919990  0.920253  0.920518  0.920254   \n",
       "4             0.923161  0.922367  0.922103  0.922103  0.921838  0.922103   \n",
       "5             0.924743  0.923158  0.923951  0.924215  0.925271  0.924480   \n",
       "\n",
       "                                  \n",
       "n_estimators       280       290  \n",
       "max_features                      \n",
       "1             0.898074  0.898602  \n",
       "2             0.912860  0.913916  \n",
       "3             0.921045  0.919989  \n",
       "4             0.921838  0.921838  \n",
       "5             0.923687  0.922367  \n",
       "\n",
       "[5 rows x 25 columns]"
      ]
     },
     "execution_count": 720,
     "metadata": {},
     "output_type": "execute_result"
    }
   ],
   "source": [
    "#pivot data\n",
    "grid_reset = rfgrid_contour.reset_index()\n",
    "grid_reset.columns = ['max_features', 'n_estimators', 'Accuracy']\n",
    "grid_pivot = grid_reset.pivot('max_features', 'n_estimators')\n",
    "grid_pivot"
   ]
  },
  {
   "cell_type": "code",
   "execution_count": 721,
   "metadata": {},
   "outputs": [],
   "source": [
    "x = grid_pivot.columns.levels[1].values\n",
    "y = grid_pivot.index.values\n",
    "z = grid_pivot.values"
   ]
  },
  {
   "cell_type": "code",
   "execution_count": 722,
   "metadata": {},
   "outputs": [
    {
     "data": {
      "application/vnd.plotly.v1+json": {
       "config": {
        "plotlyServerURL": "https://plot.ly"
       },
       "data": [
        {
         "type": "contour",
         "x": [
          50,
          60,
          70,
          80,
          90,
          100,
          110,
          120,
          130,
          140,
          150,
          160,
          170,
          180,
          190,
          200,
          210,
          220,
          230,
          240,
          250,
          260,
          270,
          280,
          290
         ],
         "y": [
          1,
          2,
          3,
          4,
          5
         ],
         "z": [
          [
           0.8980734598148846,
           0.8993941170722174,
           0.8999211235358991,
           0.8962237020284514,
           0.8978089095503343,
           0.8970194468875208,
           0.8980734598148846,
           0.8983380100794349,
           0.8988678086303417,
           0.8970187488657146,
           0.8978082115285281,
           0.8980720637712721,
           0.8970159567784899,
           0.8975464533512026,
           0.8986011643003726,
           0.8983380100794349,
           0.8980741578366906,
           0.8983373120576287,
           0.8986032583657912,
           0.8986018623221789,
           0.8980734598148846,
           0.8978096075721405,
           0.8975436612639779,
           0.8980741578366906,
           0.8986018623221789
          ],
          [
           0.9125971995365134,
           0.9118042467646689,
           0.9139150647066214,
           0.9136519104856834,
           0.9120680990074129,
           0.9120674009856069,
           0.9133859641775208,
           0.9131235079783891,
           0.9125965015147074,
           0.9115389984783124,
           0.9123312532283508,
           0.9139150647066214,
           0.9139150647066214,
           0.9136512124638774,
           0.9123319512501571,
           0.9131228099565829,
           0.9112758442573746,
           0.9141796149711716,
           0.9125951054710949,
           0.9131242060001954,
           0.9133866621993271,
           0.9131235079783891,
           0.9133880582429394,
           0.9128596557356451,
           0.9139157627284277
          ],
          [
           0.9202538007287349,
           0.9197267942650529,
           0.9202524046851224,
           0.9199892504641844,
           0.9197260962432466,
           0.9210460554787729,
           0.9205169549496726,
           0.9202538007287349,
           0.9205162569278666,
           0.9210474515223857,
           0.9207808071924166,
           0.9215744579860676,
           0.9210460554787732,
           0.9207829012578352,
           0.9202531027069286,
           0.9189338414932081,
           0.9207822032360292,
           0.9202538007287346,
           0.9207822032360291,
           0.9199899484859907,
           0.9202531027069284,
           0.9205183509932849,
           0.920254498750541,
           0.9210453574569669,
           0.9199892504641844
          ],
          [
           0.9234249137943069,
           0.9210467535005794,
           0.9228937191997879,
           0.9231582694643381,
           0.9213092096997111,
           0.9221021624715554,
           0.9236859739498261,
           0.92263056497885,
           0.9215744579860674,
           0.9223688068015244,
           0.9218383102288115,
           0.9221028604933619,
           0.9221021624715554,
           0.922103558515168,
           0.9210467535005794,
           0.9218383102288115,
           0.9218383102288115,
           0.9231610615515627,
           0.922367410757912,
           0.9221028604933619,
           0.9221028604933619,
           0.9218383102288115,
           0.9221028604933619,
           0.9218383102288115,
           0.9218383102288115
          ],
          [
           0.9213120017869357,
           0.92263056497885,
           0.9226291689352376,
           0.92263056497885,
           0.9228951152434004,
           0.9242150744789267,
           0.9247427789644147,
           0.9239519202579887,
           0.9236880680152447,
           0.92263056497885,
           0.9226319610224625,
           0.9221035585151679,
           0.923952618279795,
           0.9218383102288115,
           0.9236880680152447,
           0.924478926721671,
           0.9236873699934385,
           0.9247427789644149,
           0.9231582694643381,
           0.9239512222361826,
           0.9242150744789267,
           0.9252711814717092,
           0.9244796247434769,
           0.9236866719716325,
           0.9223667127361057
          ]
         ]
        }
       ],
       "layout": {
        "autosize": false,
        "height": 500,
        "margin": {
         "b": 65,
         "l": 65,
         "r": 50,
         "t": 90
        },
        "template": {
         "data": {
          "bar": [
           {
            "error_x": {
             "color": "#2a3f5f"
            },
            "error_y": {
             "color": "#2a3f5f"
            },
            "marker": {
             "line": {
              "color": "#E5ECF6",
              "width": 0.5
             }
            },
            "type": "bar"
           }
          ],
          "barpolar": [
           {
            "marker": {
             "line": {
              "color": "#E5ECF6",
              "width": 0.5
             }
            },
            "type": "barpolar"
           }
          ],
          "carpet": [
           {
            "aaxis": {
             "endlinecolor": "#2a3f5f",
             "gridcolor": "white",
             "linecolor": "white",
             "minorgridcolor": "white",
             "startlinecolor": "#2a3f5f"
            },
            "baxis": {
             "endlinecolor": "#2a3f5f",
             "gridcolor": "white",
             "linecolor": "white",
             "minorgridcolor": "white",
             "startlinecolor": "#2a3f5f"
            },
            "type": "carpet"
           }
          ],
          "choropleth": [
           {
            "colorbar": {
             "outlinewidth": 0,
             "ticks": ""
            },
            "type": "choropleth"
           }
          ],
          "contour": [
           {
            "colorbar": {
             "outlinewidth": 0,
             "ticks": ""
            },
            "colorscale": [
             [
              0,
              "#0d0887"
             ],
             [
              0.1111111111111111,
              "#46039f"
             ],
             [
              0.2222222222222222,
              "#7201a8"
             ],
             [
              0.3333333333333333,
              "#9c179e"
             ],
             [
              0.4444444444444444,
              "#bd3786"
             ],
             [
              0.5555555555555556,
              "#d8576b"
             ],
             [
              0.6666666666666666,
              "#ed7953"
             ],
             [
              0.7777777777777778,
              "#fb9f3a"
             ],
             [
              0.8888888888888888,
              "#fdca26"
             ],
             [
              1,
              "#f0f921"
             ]
            ],
            "type": "contour"
           }
          ],
          "contourcarpet": [
           {
            "colorbar": {
             "outlinewidth": 0,
             "ticks": ""
            },
            "type": "contourcarpet"
           }
          ],
          "heatmap": [
           {
            "colorbar": {
             "outlinewidth": 0,
             "ticks": ""
            },
            "colorscale": [
             [
              0,
              "#0d0887"
             ],
             [
              0.1111111111111111,
              "#46039f"
             ],
             [
              0.2222222222222222,
              "#7201a8"
             ],
             [
              0.3333333333333333,
              "#9c179e"
             ],
             [
              0.4444444444444444,
              "#bd3786"
             ],
             [
              0.5555555555555556,
              "#d8576b"
             ],
             [
              0.6666666666666666,
              "#ed7953"
             ],
             [
              0.7777777777777778,
              "#fb9f3a"
             ],
             [
              0.8888888888888888,
              "#fdca26"
             ],
             [
              1,
              "#f0f921"
             ]
            ],
            "type": "heatmap"
           }
          ],
          "heatmapgl": [
           {
            "colorbar": {
             "outlinewidth": 0,
             "ticks": ""
            },
            "colorscale": [
             [
              0,
              "#0d0887"
             ],
             [
              0.1111111111111111,
              "#46039f"
             ],
             [
              0.2222222222222222,
              "#7201a8"
             ],
             [
              0.3333333333333333,
              "#9c179e"
             ],
             [
              0.4444444444444444,
              "#bd3786"
             ],
             [
              0.5555555555555556,
              "#d8576b"
             ],
             [
              0.6666666666666666,
              "#ed7953"
             ],
             [
              0.7777777777777778,
              "#fb9f3a"
             ],
             [
              0.8888888888888888,
              "#fdca26"
             ],
             [
              1,
              "#f0f921"
             ]
            ],
            "type": "heatmapgl"
           }
          ],
          "histogram": [
           {
            "marker": {
             "colorbar": {
              "outlinewidth": 0,
              "ticks": ""
             }
            },
            "type": "histogram"
           }
          ],
          "histogram2d": [
           {
            "colorbar": {
             "outlinewidth": 0,
             "ticks": ""
            },
            "colorscale": [
             [
              0,
              "#0d0887"
             ],
             [
              0.1111111111111111,
              "#46039f"
             ],
             [
              0.2222222222222222,
              "#7201a8"
             ],
             [
              0.3333333333333333,
              "#9c179e"
             ],
             [
              0.4444444444444444,
              "#bd3786"
             ],
             [
              0.5555555555555556,
              "#d8576b"
             ],
             [
              0.6666666666666666,
              "#ed7953"
             ],
             [
              0.7777777777777778,
              "#fb9f3a"
             ],
             [
              0.8888888888888888,
              "#fdca26"
             ],
             [
              1,
              "#f0f921"
             ]
            ],
            "type": "histogram2d"
           }
          ],
          "histogram2dcontour": [
           {
            "colorbar": {
             "outlinewidth": 0,
             "ticks": ""
            },
            "colorscale": [
             [
              0,
              "#0d0887"
             ],
             [
              0.1111111111111111,
              "#46039f"
             ],
             [
              0.2222222222222222,
              "#7201a8"
             ],
             [
              0.3333333333333333,
              "#9c179e"
             ],
             [
              0.4444444444444444,
              "#bd3786"
             ],
             [
              0.5555555555555556,
              "#d8576b"
             ],
             [
              0.6666666666666666,
              "#ed7953"
             ],
             [
              0.7777777777777778,
              "#fb9f3a"
             ],
             [
              0.8888888888888888,
              "#fdca26"
             ],
             [
              1,
              "#f0f921"
             ]
            ],
            "type": "histogram2dcontour"
           }
          ],
          "mesh3d": [
           {
            "colorbar": {
             "outlinewidth": 0,
             "ticks": ""
            },
            "type": "mesh3d"
           }
          ],
          "parcoords": [
           {
            "line": {
             "colorbar": {
              "outlinewidth": 0,
              "ticks": ""
             }
            },
            "type": "parcoords"
           }
          ],
          "pie": [
           {
            "automargin": true,
            "type": "pie"
           }
          ],
          "scatter": [
           {
            "marker": {
             "colorbar": {
              "outlinewidth": 0,
              "ticks": ""
             }
            },
            "type": "scatter"
           }
          ],
          "scatter3d": [
           {
            "line": {
             "colorbar": {
              "outlinewidth": 0,
              "ticks": ""
             }
            },
            "marker": {
             "colorbar": {
              "outlinewidth": 0,
              "ticks": ""
             }
            },
            "type": "scatter3d"
           }
          ],
          "scattercarpet": [
           {
            "marker": {
             "colorbar": {
              "outlinewidth": 0,
              "ticks": ""
             }
            },
            "type": "scattercarpet"
           }
          ],
          "scattergeo": [
           {
            "marker": {
             "colorbar": {
              "outlinewidth": 0,
              "ticks": ""
             }
            },
            "type": "scattergeo"
           }
          ],
          "scattergl": [
           {
            "marker": {
             "colorbar": {
              "outlinewidth": 0,
              "ticks": ""
             }
            },
            "type": "scattergl"
           }
          ],
          "scattermapbox": [
           {
            "marker": {
             "colorbar": {
              "outlinewidth": 0,
              "ticks": ""
             }
            },
            "type": "scattermapbox"
           }
          ],
          "scatterpolar": [
           {
            "marker": {
             "colorbar": {
              "outlinewidth": 0,
              "ticks": ""
             }
            },
            "type": "scatterpolar"
           }
          ],
          "scatterpolargl": [
           {
            "marker": {
             "colorbar": {
              "outlinewidth": 0,
              "ticks": ""
             }
            },
            "type": "scatterpolargl"
           }
          ],
          "scatterternary": [
           {
            "marker": {
             "colorbar": {
              "outlinewidth": 0,
              "ticks": ""
             }
            },
            "type": "scatterternary"
           }
          ],
          "surface": [
           {
            "colorbar": {
             "outlinewidth": 0,
             "ticks": ""
            },
            "colorscale": [
             [
              0,
              "#0d0887"
             ],
             [
              0.1111111111111111,
              "#46039f"
             ],
             [
              0.2222222222222222,
              "#7201a8"
             ],
             [
              0.3333333333333333,
              "#9c179e"
             ],
             [
              0.4444444444444444,
              "#bd3786"
             ],
             [
              0.5555555555555556,
              "#d8576b"
             ],
             [
              0.6666666666666666,
              "#ed7953"
             ],
             [
              0.7777777777777778,
              "#fb9f3a"
             ],
             [
              0.8888888888888888,
              "#fdca26"
             ],
             [
              1,
              "#f0f921"
             ]
            ],
            "type": "surface"
           }
          ],
          "table": [
           {
            "cells": {
             "fill": {
              "color": "#EBF0F8"
             },
             "line": {
              "color": "white"
             }
            },
            "header": {
             "fill": {
              "color": "#C8D4E3"
             },
             "line": {
              "color": "white"
             }
            },
            "type": "table"
           }
          ]
         },
         "layout": {
          "annotationdefaults": {
           "arrowcolor": "#2a3f5f",
           "arrowhead": 0,
           "arrowwidth": 1
          },
          "coloraxis": {
           "colorbar": {
            "outlinewidth": 0,
            "ticks": ""
           }
          },
          "colorscale": {
           "diverging": [
            [
             0,
             "#8e0152"
            ],
            [
             0.1,
             "#c51b7d"
            ],
            [
             0.2,
             "#de77ae"
            ],
            [
             0.3,
             "#f1b6da"
            ],
            [
             0.4,
             "#fde0ef"
            ],
            [
             0.5,
             "#f7f7f7"
            ],
            [
             0.6,
             "#e6f5d0"
            ],
            [
             0.7,
             "#b8e186"
            ],
            [
             0.8,
             "#7fbc41"
            ],
            [
             0.9,
             "#4d9221"
            ],
            [
             1,
             "#276419"
            ]
           ],
           "sequential": [
            [
             0,
             "#0d0887"
            ],
            [
             0.1111111111111111,
             "#46039f"
            ],
            [
             0.2222222222222222,
             "#7201a8"
            ],
            [
             0.3333333333333333,
             "#9c179e"
            ],
            [
             0.4444444444444444,
             "#bd3786"
            ],
            [
             0.5555555555555556,
             "#d8576b"
            ],
            [
             0.6666666666666666,
             "#ed7953"
            ],
            [
             0.7777777777777778,
             "#fb9f3a"
            ],
            [
             0.8888888888888888,
             "#fdca26"
            ],
            [
             1,
             "#f0f921"
            ]
           ],
           "sequentialminus": [
            [
             0,
             "#0d0887"
            ],
            [
             0.1111111111111111,
             "#46039f"
            ],
            [
             0.2222222222222222,
             "#7201a8"
            ],
            [
             0.3333333333333333,
             "#9c179e"
            ],
            [
             0.4444444444444444,
             "#bd3786"
            ],
            [
             0.5555555555555556,
             "#d8576b"
            ],
            [
             0.6666666666666666,
             "#ed7953"
            ],
            [
             0.7777777777777778,
             "#fb9f3a"
            ],
            [
             0.8888888888888888,
             "#fdca26"
            ],
            [
             1,
             "#f0f921"
            ]
           ]
          },
          "colorway": [
           "#636efa",
           "#EF553B",
           "#00cc96",
           "#ab63fa",
           "#FFA15A",
           "#19d3f3",
           "#FF6692",
           "#B6E880",
           "#FF97FF",
           "#FECB52"
          ],
          "font": {
           "color": "#2a3f5f"
          },
          "geo": {
           "bgcolor": "white",
           "lakecolor": "white",
           "landcolor": "#E5ECF6",
           "showlakes": true,
           "showland": true,
           "subunitcolor": "white"
          },
          "hoverlabel": {
           "align": "left"
          },
          "hovermode": "closest",
          "mapbox": {
           "style": "light"
          },
          "paper_bgcolor": "white",
          "plot_bgcolor": "#E5ECF6",
          "polar": {
           "angularaxis": {
            "gridcolor": "white",
            "linecolor": "white",
            "ticks": ""
           },
           "bgcolor": "#E5ECF6",
           "radialaxis": {
            "gridcolor": "white",
            "linecolor": "white",
            "ticks": ""
           }
          },
          "scene": {
           "xaxis": {
            "backgroundcolor": "#E5ECF6",
            "gridcolor": "white",
            "gridwidth": 2,
            "linecolor": "white",
            "showbackground": true,
            "ticks": "",
            "zerolinecolor": "white"
           },
           "yaxis": {
            "backgroundcolor": "#E5ECF6",
            "gridcolor": "white",
            "gridwidth": 2,
            "linecolor": "white",
            "showbackground": true,
            "ticks": "",
            "zerolinecolor": "white"
           },
           "zaxis": {
            "backgroundcolor": "#E5ECF6",
            "gridcolor": "white",
            "gridwidth": 2,
            "linecolor": "white",
            "showbackground": true,
            "ticks": "",
            "zerolinecolor": "white"
           }
          },
          "shapedefaults": {
           "line": {
            "color": "#2a3f5f"
           }
          },
          "ternary": {
           "aaxis": {
            "gridcolor": "white",
            "linecolor": "white",
            "ticks": ""
           },
           "baxis": {
            "gridcolor": "white",
            "linecolor": "white",
            "ticks": ""
           },
           "bgcolor": "#E5ECF6",
           "caxis": {
            "gridcolor": "white",
            "linecolor": "white",
            "ticks": ""
           }
          },
          "title": {
           "x": 0.05
          },
          "xaxis": {
           "automargin": true,
           "gridcolor": "white",
           "linecolor": "white",
           "ticks": "",
           "title": {
            "standoff": 15
           },
           "zerolinecolor": "white",
           "zerolinewidth": 2
          },
          "yaxis": {
           "automargin": true,
           "gridcolor": "white",
           "linecolor": "white",
           "ticks": "",
           "title": {
            "standoff": 15
           },
           "zerolinecolor": "white",
           "zerolinewidth": 2
          }
         }
        },
        "title": {
         "text": "Hyperparameter tuning for RF"
        },
        "width": 500,
        "xaxis": {
         "title": {
          "text": "n_estimators"
         }
        },
        "yaxis": {
         "title": {
          "text": "max_features"
         }
        }
       }
      },
      "text/html": [
       "<div>\n",
       "        \n",
       "        \n",
       "            <div id=\"259c0d40-c144-4199-aa5b-a1314c621f4e\" class=\"plotly-graph-div\" style=\"height:500px; width:500px;\"></div>\n",
       "            <script type=\"text/javascript\">\n",
       "                require([\"plotly\"], function(Plotly) {\n",
       "                    window.PLOTLYENV=window.PLOTLYENV || {};\n",
       "                    \n",
       "                if (document.getElementById(\"259c0d40-c144-4199-aa5b-a1314c621f4e\")) {\n",
       "                    Plotly.newPlot(\n",
       "                        '259c0d40-c144-4199-aa5b-a1314c621f4e',\n",
       "                        [{\"type\": \"contour\", \"x\": [50, 60, 70, 80, 90, 100, 110, 120, 130, 140, 150, 160, 170, 180, 190, 200, 210, 220, 230, 240, 250, 260, 270, 280, 290], \"y\": [1, 2, 3, 4, 5], \"z\": [[0.8980734598148846, 0.8993941170722174, 0.8999211235358991, 0.8962237020284514, 0.8978089095503343, 0.8970194468875208, 0.8980734598148846, 0.8983380100794349, 0.8988678086303417, 0.8970187488657146, 0.8978082115285281, 0.8980720637712721, 0.8970159567784899, 0.8975464533512026, 0.8986011643003726, 0.8983380100794349, 0.8980741578366906, 0.8983373120576287, 0.8986032583657912, 0.8986018623221789, 0.8980734598148846, 0.8978096075721405, 0.8975436612639779, 0.8980741578366906, 0.8986018623221789], [0.9125971995365134, 0.9118042467646689, 0.9139150647066214, 0.9136519104856834, 0.9120680990074129, 0.9120674009856069, 0.9133859641775208, 0.9131235079783891, 0.9125965015147074, 0.9115389984783124, 0.9123312532283508, 0.9139150647066214, 0.9139150647066214, 0.9136512124638774, 0.9123319512501571, 0.9131228099565829, 0.9112758442573746, 0.9141796149711716, 0.9125951054710949, 0.9131242060001954, 0.9133866621993271, 0.9131235079783891, 0.9133880582429394, 0.9128596557356451, 0.9139157627284277], [0.9202538007287349, 0.9197267942650529, 0.9202524046851224, 0.9199892504641844, 0.9197260962432466, 0.9210460554787729, 0.9205169549496726, 0.9202538007287349, 0.9205162569278666, 0.9210474515223857, 0.9207808071924166, 0.9215744579860676, 0.9210460554787732, 0.9207829012578352, 0.9202531027069286, 0.9189338414932081, 0.9207822032360292, 0.9202538007287346, 0.9207822032360291, 0.9199899484859907, 0.9202531027069284, 0.9205183509932849, 0.920254498750541, 0.9210453574569669, 0.9199892504641844], [0.9234249137943069, 0.9210467535005794, 0.9228937191997879, 0.9231582694643381, 0.9213092096997111, 0.9221021624715554, 0.9236859739498261, 0.92263056497885, 0.9215744579860674, 0.9223688068015244, 0.9218383102288115, 0.9221028604933619, 0.9221021624715554, 0.922103558515168, 0.9210467535005794, 0.9218383102288115, 0.9218383102288115, 0.9231610615515627, 0.922367410757912, 0.9221028604933619, 0.9221028604933619, 0.9218383102288115, 0.9221028604933619, 0.9218383102288115, 0.9218383102288115], [0.9213120017869357, 0.92263056497885, 0.9226291689352376, 0.92263056497885, 0.9228951152434004, 0.9242150744789267, 0.9247427789644147, 0.9239519202579887, 0.9236880680152447, 0.92263056497885, 0.9226319610224625, 0.9221035585151679, 0.923952618279795, 0.9218383102288115, 0.9236880680152447, 0.924478926721671, 0.9236873699934385, 0.9247427789644149, 0.9231582694643381, 0.9239512222361826, 0.9242150744789267, 0.9252711814717092, 0.9244796247434769, 0.9236866719716325, 0.9223667127361057]]}],\n",
       "                        {\"autosize\": false, \"height\": 500, \"margin\": {\"b\": 65, \"l\": 65, \"r\": 50, \"t\": 90}, \"template\": {\"data\": {\"bar\": [{\"error_x\": {\"color\": \"#2a3f5f\"}, \"error_y\": {\"color\": \"#2a3f5f\"}, \"marker\": {\"line\": {\"color\": \"#E5ECF6\", \"width\": 0.5}}, \"type\": \"bar\"}], \"barpolar\": [{\"marker\": {\"line\": {\"color\": \"#E5ECF6\", \"width\": 0.5}}, \"type\": \"barpolar\"}], \"carpet\": [{\"aaxis\": {\"endlinecolor\": \"#2a3f5f\", \"gridcolor\": \"white\", \"linecolor\": \"white\", \"minorgridcolor\": \"white\", \"startlinecolor\": \"#2a3f5f\"}, \"baxis\": {\"endlinecolor\": \"#2a3f5f\", \"gridcolor\": \"white\", \"linecolor\": \"white\", \"minorgridcolor\": \"white\", \"startlinecolor\": \"#2a3f5f\"}, \"type\": \"carpet\"}], \"choropleth\": [{\"colorbar\": {\"outlinewidth\": 0, \"ticks\": \"\"}, \"type\": \"choropleth\"}], \"contour\": [{\"colorbar\": {\"outlinewidth\": 0, \"ticks\": \"\"}, \"colorscale\": [[0.0, \"#0d0887\"], [0.1111111111111111, \"#46039f\"], [0.2222222222222222, \"#7201a8\"], [0.3333333333333333, \"#9c179e\"], [0.4444444444444444, \"#bd3786\"], [0.5555555555555556, \"#d8576b\"], [0.6666666666666666, \"#ed7953\"], [0.7777777777777778, \"#fb9f3a\"], [0.8888888888888888, \"#fdca26\"], [1.0, \"#f0f921\"]], \"type\": \"contour\"}], \"contourcarpet\": [{\"colorbar\": {\"outlinewidth\": 0, \"ticks\": \"\"}, \"type\": \"contourcarpet\"}], \"heatmap\": [{\"colorbar\": {\"outlinewidth\": 0, \"ticks\": \"\"}, \"colorscale\": [[0.0, \"#0d0887\"], [0.1111111111111111, \"#46039f\"], [0.2222222222222222, \"#7201a8\"], [0.3333333333333333, \"#9c179e\"], [0.4444444444444444, \"#bd3786\"], [0.5555555555555556, \"#d8576b\"], [0.6666666666666666, \"#ed7953\"], [0.7777777777777778, \"#fb9f3a\"], [0.8888888888888888, \"#fdca26\"], [1.0, \"#f0f921\"]], \"type\": \"heatmap\"}], \"heatmapgl\": [{\"colorbar\": {\"outlinewidth\": 0, \"ticks\": \"\"}, \"colorscale\": [[0.0, \"#0d0887\"], [0.1111111111111111, \"#46039f\"], [0.2222222222222222, \"#7201a8\"], [0.3333333333333333, \"#9c179e\"], [0.4444444444444444, \"#bd3786\"], [0.5555555555555556, \"#d8576b\"], [0.6666666666666666, \"#ed7953\"], [0.7777777777777778, \"#fb9f3a\"], [0.8888888888888888, \"#fdca26\"], [1.0, \"#f0f921\"]], \"type\": \"heatmapgl\"}], \"histogram\": [{\"marker\": {\"colorbar\": {\"outlinewidth\": 0, \"ticks\": \"\"}}, \"type\": \"histogram\"}], \"histogram2d\": [{\"colorbar\": {\"outlinewidth\": 0, \"ticks\": \"\"}, \"colorscale\": [[0.0, \"#0d0887\"], [0.1111111111111111, \"#46039f\"], [0.2222222222222222, \"#7201a8\"], [0.3333333333333333, \"#9c179e\"], [0.4444444444444444, \"#bd3786\"], [0.5555555555555556, \"#d8576b\"], [0.6666666666666666, \"#ed7953\"], [0.7777777777777778, \"#fb9f3a\"], [0.8888888888888888, \"#fdca26\"], [1.0, \"#f0f921\"]], \"type\": \"histogram2d\"}], \"histogram2dcontour\": [{\"colorbar\": {\"outlinewidth\": 0, \"ticks\": \"\"}, \"colorscale\": [[0.0, \"#0d0887\"], [0.1111111111111111, \"#46039f\"], [0.2222222222222222, \"#7201a8\"], [0.3333333333333333, \"#9c179e\"], [0.4444444444444444, \"#bd3786\"], [0.5555555555555556, \"#d8576b\"], [0.6666666666666666, \"#ed7953\"], [0.7777777777777778, \"#fb9f3a\"], [0.8888888888888888, \"#fdca26\"], [1.0, \"#f0f921\"]], \"type\": \"histogram2dcontour\"}], \"mesh3d\": [{\"colorbar\": {\"outlinewidth\": 0, \"ticks\": \"\"}, \"type\": \"mesh3d\"}], \"parcoords\": [{\"line\": {\"colorbar\": {\"outlinewidth\": 0, \"ticks\": \"\"}}, \"type\": \"parcoords\"}], \"pie\": [{\"automargin\": true, \"type\": \"pie\"}], \"scatter\": [{\"marker\": {\"colorbar\": {\"outlinewidth\": 0, \"ticks\": \"\"}}, \"type\": \"scatter\"}], \"scatter3d\": [{\"line\": {\"colorbar\": {\"outlinewidth\": 0, \"ticks\": \"\"}}, \"marker\": {\"colorbar\": {\"outlinewidth\": 0, \"ticks\": \"\"}}, \"type\": \"scatter3d\"}], \"scattercarpet\": [{\"marker\": {\"colorbar\": {\"outlinewidth\": 0, \"ticks\": \"\"}}, \"type\": \"scattercarpet\"}], \"scattergeo\": [{\"marker\": {\"colorbar\": {\"outlinewidth\": 0, \"ticks\": \"\"}}, \"type\": \"scattergeo\"}], \"scattergl\": [{\"marker\": {\"colorbar\": {\"outlinewidth\": 0, \"ticks\": \"\"}}, \"type\": \"scattergl\"}], \"scattermapbox\": [{\"marker\": {\"colorbar\": {\"outlinewidth\": 0, \"ticks\": \"\"}}, \"type\": \"scattermapbox\"}], \"scatterpolar\": [{\"marker\": {\"colorbar\": {\"outlinewidth\": 0, \"ticks\": \"\"}}, \"type\": \"scatterpolar\"}], \"scatterpolargl\": [{\"marker\": {\"colorbar\": {\"outlinewidth\": 0, \"ticks\": \"\"}}, \"type\": \"scatterpolargl\"}], \"scatterternary\": [{\"marker\": {\"colorbar\": {\"outlinewidth\": 0, \"ticks\": \"\"}}, \"type\": \"scatterternary\"}], \"surface\": [{\"colorbar\": {\"outlinewidth\": 0, \"ticks\": \"\"}, \"colorscale\": [[0.0, \"#0d0887\"], [0.1111111111111111, \"#46039f\"], [0.2222222222222222, \"#7201a8\"], [0.3333333333333333, \"#9c179e\"], [0.4444444444444444, \"#bd3786\"], [0.5555555555555556, \"#d8576b\"], [0.6666666666666666, \"#ed7953\"], [0.7777777777777778, \"#fb9f3a\"], [0.8888888888888888, \"#fdca26\"], [1.0, \"#f0f921\"]], \"type\": \"surface\"}], \"table\": [{\"cells\": {\"fill\": {\"color\": \"#EBF0F8\"}, \"line\": {\"color\": \"white\"}}, \"header\": {\"fill\": {\"color\": \"#C8D4E3\"}, \"line\": {\"color\": \"white\"}}, \"type\": \"table\"}]}, \"layout\": {\"annotationdefaults\": {\"arrowcolor\": \"#2a3f5f\", \"arrowhead\": 0, \"arrowwidth\": 1}, \"coloraxis\": {\"colorbar\": {\"outlinewidth\": 0, \"ticks\": \"\"}}, \"colorscale\": {\"diverging\": [[0, \"#8e0152\"], [0.1, \"#c51b7d\"], [0.2, \"#de77ae\"], [0.3, \"#f1b6da\"], [0.4, \"#fde0ef\"], [0.5, \"#f7f7f7\"], [0.6, \"#e6f5d0\"], [0.7, \"#b8e186\"], [0.8, \"#7fbc41\"], [0.9, \"#4d9221\"], [1, \"#276419\"]], \"sequential\": [[0.0, \"#0d0887\"], [0.1111111111111111, \"#46039f\"], [0.2222222222222222, \"#7201a8\"], [0.3333333333333333, \"#9c179e\"], [0.4444444444444444, \"#bd3786\"], [0.5555555555555556, \"#d8576b\"], [0.6666666666666666, \"#ed7953\"], [0.7777777777777778, \"#fb9f3a\"], [0.8888888888888888, \"#fdca26\"], [1.0, \"#f0f921\"]], \"sequentialminus\": [[0.0, \"#0d0887\"], [0.1111111111111111, \"#46039f\"], [0.2222222222222222, \"#7201a8\"], [0.3333333333333333, \"#9c179e\"], [0.4444444444444444, \"#bd3786\"], [0.5555555555555556, \"#d8576b\"], [0.6666666666666666, \"#ed7953\"], [0.7777777777777778, \"#fb9f3a\"], [0.8888888888888888, \"#fdca26\"], [1.0, \"#f0f921\"]]}, \"colorway\": [\"#636efa\", \"#EF553B\", \"#00cc96\", \"#ab63fa\", \"#FFA15A\", \"#19d3f3\", \"#FF6692\", \"#B6E880\", \"#FF97FF\", \"#FECB52\"], \"font\": {\"color\": \"#2a3f5f\"}, \"geo\": {\"bgcolor\": \"white\", \"lakecolor\": \"white\", \"landcolor\": \"#E5ECF6\", \"showlakes\": true, \"showland\": true, \"subunitcolor\": \"white\"}, \"hoverlabel\": {\"align\": \"left\"}, \"hovermode\": \"closest\", \"mapbox\": {\"style\": \"light\"}, \"paper_bgcolor\": \"white\", \"plot_bgcolor\": \"#E5ECF6\", \"polar\": {\"angularaxis\": {\"gridcolor\": \"white\", \"linecolor\": \"white\", \"ticks\": \"\"}, \"bgcolor\": \"#E5ECF6\", \"radialaxis\": {\"gridcolor\": \"white\", \"linecolor\": \"white\", \"ticks\": \"\"}}, \"scene\": {\"xaxis\": {\"backgroundcolor\": \"#E5ECF6\", \"gridcolor\": \"white\", \"gridwidth\": 2, \"linecolor\": \"white\", \"showbackground\": true, \"ticks\": \"\", \"zerolinecolor\": \"white\"}, \"yaxis\": {\"backgroundcolor\": \"#E5ECF6\", \"gridcolor\": \"white\", \"gridwidth\": 2, \"linecolor\": \"white\", \"showbackground\": true, \"ticks\": \"\", \"zerolinecolor\": \"white\"}, \"zaxis\": {\"backgroundcolor\": \"#E5ECF6\", \"gridcolor\": \"white\", \"gridwidth\": 2, \"linecolor\": \"white\", \"showbackground\": true, \"ticks\": \"\", \"zerolinecolor\": \"white\"}}, \"shapedefaults\": {\"line\": {\"color\": \"#2a3f5f\"}}, \"ternary\": {\"aaxis\": {\"gridcolor\": \"white\", \"linecolor\": \"white\", \"ticks\": \"\"}, \"baxis\": {\"gridcolor\": \"white\", \"linecolor\": \"white\", \"ticks\": \"\"}, \"bgcolor\": \"#E5ECF6\", \"caxis\": {\"gridcolor\": \"white\", \"linecolor\": \"white\", \"ticks\": \"\"}}, \"title\": {\"x\": 0.05}, \"xaxis\": {\"automargin\": true, \"gridcolor\": \"white\", \"linecolor\": \"white\", \"ticks\": \"\", \"title\": {\"standoff\": 15}, \"zerolinecolor\": \"white\", \"zerolinewidth\": 2}, \"yaxis\": {\"automargin\": true, \"gridcolor\": \"white\", \"linecolor\": \"white\", \"ticks\": \"\", \"title\": {\"standoff\": 15}, \"zerolinecolor\": \"white\", \"zerolinewidth\": 2}}}, \"title\": {\"text\": \"Hyperparameter tuning for RF\"}, \"width\": 500, \"xaxis\": {\"title\": {\"text\": \"n_estimators\"}}, \"yaxis\": {\"title\": {\"text\": \"max_features\"}}},\n",
       "                        {\"responsive\": true}\n",
       "                    ).then(function(){\n",
       "                            \n",
       "var gd = document.getElementById('259c0d40-c144-4199-aa5b-a1314c621f4e');\n",
       "var x = new MutationObserver(function (mutations, observer) {{\n",
       "        var display = window.getComputedStyle(gd).display;\n",
       "        if (!display || display === 'none') {{\n",
       "            console.log([gd, 'removed!']);\n",
       "            Plotly.purge(gd);\n",
       "            observer.disconnect();\n",
       "        }}\n",
       "}});\n",
       "\n",
       "// Listen for the removal of the full notebook cells\n",
       "var notebookContainer = gd.closest('#notebook-container');\n",
       "if (notebookContainer) {{\n",
       "    x.observe(notebookContainer, {childList: true});\n",
       "}}\n",
       "\n",
       "// Listen for the clearing of the current output cell\n",
       "var outputEl = gd.closest('.output');\n",
       "if (outputEl) {{\n",
       "    x.observe(outputEl, {childList: true});\n",
       "}}\n",
       "\n",
       "                        })\n",
       "                };\n",
       "                });\n",
       "            </script>\n",
       "        </div>"
      ]
     },
     "metadata": {},
     "output_type": "display_data"
    }
   ],
   "source": [
    "#visualize tuned model by parameters (2D)\n",
    "import plotly.graph_objects as go\n",
    "\n",
    "# X and Y axes labels\n",
    "layout = go.Layout(\n",
    "            xaxis=go.layout.XAxis(\n",
    "              title=go.layout.xaxis.Title(\n",
    "              text='n_estimators')\n",
    "             ),\n",
    "             yaxis=go.layout.YAxis(\n",
    "              title=go.layout.yaxis.Title(\n",
    "              text='max_features') \n",
    "            ) )\n",
    "\n",
    "fig = go.Figure(data = [go.Contour(z=z, x=x, y=y)], layout=layout )\n",
    "\n",
    "fig.update_layout(title='Hyperparameter tuning for RF', autosize=False,\n",
    "                  width=500, height=500,\n",
    "                  margin=dict(l=65, r=50, b=65, t=90))\n",
    "\n",
    "fig.show()"
   ]
  },
  {
   "cell_type": "code",
   "execution_count": 723,
   "metadata": {},
   "outputs": [
    {
     "data": {
      "application/vnd.plotly.v1+json": {
       "config": {
        "plotlyServerURL": "https://plot.ly"
       },
       "data": [
        {
         "type": "surface",
         "x": [
          50,
          60,
          70,
          80,
          90,
          100,
          110,
          120,
          130,
          140,
          150,
          160,
          170,
          180,
          190,
          200,
          210,
          220,
          230,
          240,
          250,
          260,
          270,
          280,
          290
         ],
         "y": [
          1,
          2,
          3,
          4,
          5
         ],
         "z": [
          [
           0.8980734598148846,
           0.8993941170722174,
           0.8999211235358991,
           0.8962237020284514,
           0.8978089095503343,
           0.8970194468875208,
           0.8980734598148846,
           0.8983380100794349,
           0.8988678086303417,
           0.8970187488657146,
           0.8978082115285281,
           0.8980720637712721,
           0.8970159567784899,
           0.8975464533512026,
           0.8986011643003726,
           0.8983380100794349,
           0.8980741578366906,
           0.8983373120576287,
           0.8986032583657912,
           0.8986018623221789,
           0.8980734598148846,
           0.8978096075721405,
           0.8975436612639779,
           0.8980741578366906,
           0.8986018623221789
          ],
          [
           0.9125971995365134,
           0.9118042467646689,
           0.9139150647066214,
           0.9136519104856834,
           0.9120680990074129,
           0.9120674009856069,
           0.9133859641775208,
           0.9131235079783891,
           0.9125965015147074,
           0.9115389984783124,
           0.9123312532283508,
           0.9139150647066214,
           0.9139150647066214,
           0.9136512124638774,
           0.9123319512501571,
           0.9131228099565829,
           0.9112758442573746,
           0.9141796149711716,
           0.9125951054710949,
           0.9131242060001954,
           0.9133866621993271,
           0.9131235079783891,
           0.9133880582429394,
           0.9128596557356451,
           0.9139157627284277
          ],
          [
           0.9202538007287349,
           0.9197267942650529,
           0.9202524046851224,
           0.9199892504641844,
           0.9197260962432466,
           0.9210460554787729,
           0.9205169549496726,
           0.9202538007287349,
           0.9205162569278666,
           0.9210474515223857,
           0.9207808071924166,
           0.9215744579860676,
           0.9210460554787732,
           0.9207829012578352,
           0.9202531027069286,
           0.9189338414932081,
           0.9207822032360292,
           0.9202538007287346,
           0.9207822032360291,
           0.9199899484859907,
           0.9202531027069284,
           0.9205183509932849,
           0.920254498750541,
           0.9210453574569669,
           0.9199892504641844
          ],
          [
           0.9234249137943069,
           0.9210467535005794,
           0.9228937191997879,
           0.9231582694643381,
           0.9213092096997111,
           0.9221021624715554,
           0.9236859739498261,
           0.92263056497885,
           0.9215744579860674,
           0.9223688068015244,
           0.9218383102288115,
           0.9221028604933619,
           0.9221021624715554,
           0.922103558515168,
           0.9210467535005794,
           0.9218383102288115,
           0.9218383102288115,
           0.9231610615515627,
           0.922367410757912,
           0.9221028604933619,
           0.9221028604933619,
           0.9218383102288115,
           0.9221028604933619,
           0.9218383102288115,
           0.9218383102288115
          ],
          [
           0.9213120017869357,
           0.92263056497885,
           0.9226291689352376,
           0.92263056497885,
           0.9228951152434004,
           0.9242150744789267,
           0.9247427789644147,
           0.9239519202579887,
           0.9236880680152447,
           0.92263056497885,
           0.9226319610224625,
           0.9221035585151679,
           0.923952618279795,
           0.9218383102288115,
           0.9236880680152447,
           0.924478926721671,
           0.9236873699934385,
           0.9247427789644149,
           0.9231582694643381,
           0.9239512222361826,
           0.9242150744789267,
           0.9252711814717092,
           0.9244796247434769,
           0.9236866719716325,
           0.9223667127361057
          ]
         ]
        }
       ],
       "layout": {
        "autosize": false,
        "height": 600,
        "margin": {
         "b": 65,
         "l": 65,
         "r": 50,
         "t": 90
        },
        "scene": {
         "xaxis": {
          "title": {
           "text": "n_estimators"
          }
         },
         "yaxis": {
          "title": {
           "text": "max_features"
          }
         },
         "zaxis": {
          "title": {
           "text": "Accuracy"
          }
         }
        },
        "template": {
         "data": {
          "bar": [
           {
            "error_x": {
             "color": "#2a3f5f"
            },
            "error_y": {
             "color": "#2a3f5f"
            },
            "marker": {
             "line": {
              "color": "#E5ECF6",
              "width": 0.5
             }
            },
            "type": "bar"
           }
          ],
          "barpolar": [
           {
            "marker": {
             "line": {
              "color": "#E5ECF6",
              "width": 0.5
             }
            },
            "type": "barpolar"
           }
          ],
          "carpet": [
           {
            "aaxis": {
             "endlinecolor": "#2a3f5f",
             "gridcolor": "white",
             "linecolor": "white",
             "minorgridcolor": "white",
             "startlinecolor": "#2a3f5f"
            },
            "baxis": {
             "endlinecolor": "#2a3f5f",
             "gridcolor": "white",
             "linecolor": "white",
             "minorgridcolor": "white",
             "startlinecolor": "#2a3f5f"
            },
            "type": "carpet"
           }
          ],
          "choropleth": [
           {
            "colorbar": {
             "outlinewidth": 0,
             "ticks": ""
            },
            "type": "choropleth"
           }
          ],
          "contour": [
           {
            "colorbar": {
             "outlinewidth": 0,
             "ticks": ""
            },
            "colorscale": [
             [
              0,
              "#0d0887"
             ],
             [
              0.1111111111111111,
              "#46039f"
             ],
             [
              0.2222222222222222,
              "#7201a8"
             ],
             [
              0.3333333333333333,
              "#9c179e"
             ],
             [
              0.4444444444444444,
              "#bd3786"
             ],
             [
              0.5555555555555556,
              "#d8576b"
             ],
             [
              0.6666666666666666,
              "#ed7953"
             ],
             [
              0.7777777777777778,
              "#fb9f3a"
             ],
             [
              0.8888888888888888,
              "#fdca26"
             ],
             [
              1,
              "#f0f921"
             ]
            ],
            "type": "contour"
           }
          ],
          "contourcarpet": [
           {
            "colorbar": {
             "outlinewidth": 0,
             "ticks": ""
            },
            "type": "contourcarpet"
           }
          ],
          "heatmap": [
           {
            "colorbar": {
             "outlinewidth": 0,
             "ticks": ""
            },
            "colorscale": [
             [
              0,
              "#0d0887"
             ],
             [
              0.1111111111111111,
              "#46039f"
             ],
             [
              0.2222222222222222,
              "#7201a8"
             ],
             [
              0.3333333333333333,
              "#9c179e"
             ],
             [
              0.4444444444444444,
              "#bd3786"
             ],
             [
              0.5555555555555556,
              "#d8576b"
             ],
             [
              0.6666666666666666,
              "#ed7953"
             ],
             [
              0.7777777777777778,
              "#fb9f3a"
             ],
             [
              0.8888888888888888,
              "#fdca26"
             ],
             [
              1,
              "#f0f921"
             ]
            ],
            "type": "heatmap"
           }
          ],
          "heatmapgl": [
           {
            "colorbar": {
             "outlinewidth": 0,
             "ticks": ""
            },
            "colorscale": [
             [
              0,
              "#0d0887"
             ],
             [
              0.1111111111111111,
              "#46039f"
             ],
             [
              0.2222222222222222,
              "#7201a8"
             ],
             [
              0.3333333333333333,
              "#9c179e"
             ],
             [
              0.4444444444444444,
              "#bd3786"
             ],
             [
              0.5555555555555556,
              "#d8576b"
             ],
             [
              0.6666666666666666,
              "#ed7953"
             ],
             [
              0.7777777777777778,
              "#fb9f3a"
             ],
             [
              0.8888888888888888,
              "#fdca26"
             ],
             [
              1,
              "#f0f921"
             ]
            ],
            "type": "heatmapgl"
           }
          ],
          "histogram": [
           {
            "marker": {
             "colorbar": {
              "outlinewidth": 0,
              "ticks": ""
             }
            },
            "type": "histogram"
           }
          ],
          "histogram2d": [
           {
            "colorbar": {
             "outlinewidth": 0,
             "ticks": ""
            },
            "colorscale": [
             [
              0,
              "#0d0887"
             ],
             [
              0.1111111111111111,
              "#46039f"
             ],
             [
              0.2222222222222222,
              "#7201a8"
             ],
             [
              0.3333333333333333,
              "#9c179e"
             ],
             [
              0.4444444444444444,
              "#bd3786"
             ],
             [
              0.5555555555555556,
              "#d8576b"
             ],
             [
              0.6666666666666666,
              "#ed7953"
             ],
             [
              0.7777777777777778,
              "#fb9f3a"
             ],
             [
              0.8888888888888888,
              "#fdca26"
             ],
             [
              1,
              "#f0f921"
             ]
            ],
            "type": "histogram2d"
           }
          ],
          "histogram2dcontour": [
           {
            "colorbar": {
             "outlinewidth": 0,
             "ticks": ""
            },
            "colorscale": [
             [
              0,
              "#0d0887"
             ],
             [
              0.1111111111111111,
              "#46039f"
             ],
             [
              0.2222222222222222,
              "#7201a8"
             ],
             [
              0.3333333333333333,
              "#9c179e"
             ],
             [
              0.4444444444444444,
              "#bd3786"
             ],
             [
              0.5555555555555556,
              "#d8576b"
             ],
             [
              0.6666666666666666,
              "#ed7953"
             ],
             [
              0.7777777777777778,
              "#fb9f3a"
             ],
             [
              0.8888888888888888,
              "#fdca26"
             ],
             [
              1,
              "#f0f921"
             ]
            ],
            "type": "histogram2dcontour"
           }
          ],
          "mesh3d": [
           {
            "colorbar": {
             "outlinewidth": 0,
             "ticks": ""
            },
            "type": "mesh3d"
           }
          ],
          "parcoords": [
           {
            "line": {
             "colorbar": {
              "outlinewidth": 0,
              "ticks": ""
             }
            },
            "type": "parcoords"
           }
          ],
          "pie": [
           {
            "automargin": true,
            "type": "pie"
           }
          ],
          "scatter": [
           {
            "marker": {
             "colorbar": {
              "outlinewidth": 0,
              "ticks": ""
             }
            },
            "type": "scatter"
           }
          ],
          "scatter3d": [
           {
            "line": {
             "colorbar": {
              "outlinewidth": 0,
              "ticks": ""
             }
            },
            "marker": {
             "colorbar": {
              "outlinewidth": 0,
              "ticks": ""
             }
            },
            "type": "scatter3d"
           }
          ],
          "scattercarpet": [
           {
            "marker": {
             "colorbar": {
              "outlinewidth": 0,
              "ticks": ""
             }
            },
            "type": "scattercarpet"
           }
          ],
          "scattergeo": [
           {
            "marker": {
             "colorbar": {
              "outlinewidth": 0,
              "ticks": ""
             }
            },
            "type": "scattergeo"
           }
          ],
          "scattergl": [
           {
            "marker": {
             "colorbar": {
              "outlinewidth": 0,
              "ticks": ""
             }
            },
            "type": "scattergl"
           }
          ],
          "scattermapbox": [
           {
            "marker": {
             "colorbar": {
              "outlinewidth": 0,
              "ticks": ""
             }
            },
            "type": "scattermapbox"
           }
          ],
          "scatterpolar": [
           {
            "marker": {
             "colorbar": {
              "outlinewidth": 0,
              "ticks": ""
             }
            },
            "type": "scatterpolar"
           }
          ],
          "scatterpolargl": [
           {
            "marker": {
             "colorbar": {
              "outlinewidth": 0,
              "ticks": ""
             }
            },
            "type": "scatterpolargl"
           }
          ],
          "scatterternary": [
           {
            "marker": {
             "colorbar": {
              "outlinewidth": 0,
              "ticks": ""
             }
            },
            "type": "scatterternary"
           }
          ],
          "surface": [
           {
            "colorbar": {
             "outlinewidth": 0,
             "ticks": ""
            },
            "colorscale": [
             [
              0,
              "#0d0887"
             ],
             [
              0.1111111111111111,
              "#46039f"
             ],
             [
              0.2222222222222222,
              "#7201a8"
             ],
             [
              0.3333333333333333,
              "#9c179e"
             ],
             [
              0.4444444444444444,
              "#bd3786"
             ],
             [
              0.5555555555555556,
              "#d8576b"
             ],
             [
              0.6666666666666666,
              "#ed7953"
             ],
             [
              0.7777777777777778,
              "#fb9f3a"
             ],
             [
              0.8888888888888888,
              "#fdca26"
             ],
             [
              1,
              "#f0f921"
             ]
            ],
            "type": "surface"
           }
          ],
          "table": [
           {
            "cells": {
             "fill": {
              "color": "#EBF0F8"
             },
             "line": {
              "color": "white"
             }
            },
            "header": {
             "fill": {
              "color": "#C8D4E3"
             },
             "line": {
              "color": "white"
             }
            },
            "type": "table"
           }
          ]
         },
         "layout": {
          "annotationdefaults": {
           "arrowcolor": "#2a3f5f",
           "arrowhead": 0,
           "arrowwidth": 1
          },
          "coloraxis": {
           "colorbar": {
            "outlinewidth": 0,
            "ticks": ""
           }
          },
          "colorscale": {
           "diverging": [
            [
             0,
             "#8e0152"
            ],
            [
             0.1,
             "#c51b7d"
            ],
            [
             0.2,
             "#de77ae"
            ],
            [
             0.3,
             "#f1b6da"
            ],
            [
             0.4,
             "#fde0ef"
            ],
            [
             0.5,
             "#f7f7f7"
            ],
            [
             0.6,
             "#e6f5d0"
            ],
            [
             0.7,
             "#b8e186"
            ],
            [
             0.8,
             "#7fbc41"
            ],
            [
             0.9,
             "#4d9221"
            ],
            [
             1,
             "#276419"
            ]
           ],
           "sequential": [
            [
             0,
             "#0d0887"
            ],
            [
             0.1111111111111111,
             "#46039f"
            ],
            [
             0.2222222222222222,
             "#7201a8"
            ],
            [
             0.3333333333333333,
             "#9c179e"
            ],
            [
             0.4444444444444444,
             "#bd3786"
            ],
            [
             0.5555555555555556,
             "#d8576b"
            ],
            [
             0.6666666666666666,
             "#ed7953"
            ],
            [
             0.7777777777777778,
             "#fb9f3a"
            ],
            [
             0.8888888888888888,
             "#fdca26"
            ],
            [
             1,
             "#f0f921"
            ]
           ],
           "sequentialminus": [
            [
             0,
             "#0d0887"
            ],
            [
             0.1111111111111111,
             "#46039f"
            ],
            [
             0.2222222222222222,
             "#7201a8"
            ],
            [
             0.3333333333333333,
             "#9c179e"
            ],
            [
             0.4444444444444444,
             "#bd3786"
            ],
            [
             0.5555555555555556,
             "#d8576b"
            ],
            [
             0.6666666666666666,
             "#ed7953"
            ],
            [
             0.7777777777777778,
             "#fb9f3a"
            ],
            [
             0.8888888888888888,
             "#fdca26"
            ],
            [
             1,
             "#f0f921"
            ]
           ]
          },
          "colorway": [
           "#636efa",
           "#EF553B",
           "#00cc96",
           "#ab63fa",
           "#FFA15A",
           "#19d3f3",
           "#FF6692",
           "#B6E880",
           "#FF97FF",
           "#FECB52"
          ],
          "font": {
           "color": "#2a3f5f"
          },
          "geo": {
           "bgcolor": "white",
           "lakecolor": "white",
           "landcolor": "#E5ECF6",
           "showlakes": true,
           "showland": true,
           "subunitcolor": "white"
          },
          "hoverlabel": {
           "align": "left"
          },
          "hovermode": "closest",
          "mapbox": {
           "style": "light"
          },
          "paper_bgcolor": "white",
          "plot_bgcolor": "#E5ECF6",
          "polar": {
           "angularaxis": {
            "gridcolor": "white",
            "linecolor": "white",
            "ticks": ""
           },
           "bgcolor": "#E5ECF6",
           "radialaxis": {
            "gridcolor": "white",
            "linecolor": "white",
            "ticks": ""
           }
          },
          "scene": {
           "xaxis": {
            "backgroundcolor": "#E5ECF6",
            "gridcolor": "white",
            "gridwidth": 2,
            "linecolor": "white",
            "showbackground": true,
            "ticks": "",
            "zerolinecolor": "white"
           },
           "yaxis": {
            "backgroundcolor": "#E5ECF6",
            "gridcolor": "white",
            "gridwidth": 2,
            "linecolor": "white",
            "showbackground": true,
            "ticks": "",
            "zerolinecolor": "white"
           },
           "zaxis": {
            "backgroundcolor": "#E5ECF6",
            "gridcolor": "white",
            "gridwidth": 2,
            "linecolor": "white",
            "showbackground": true,
            "ticks": "",
            "zerolinecolor": "white"
           }
          },
          "shapedefaults": {
           "line": {
            "color": "#2a3f5f"
           }
          },
          "ternary": {
           "aaxis": {
            "gridcolor": "white",
            "linecolor": "white",
            "ticks": ""
           },
           "baxis": {
            "gridcolor": "white",
            "linecolor": "white",
            "ticks": ""
           },
           "bgcolor": "#E5ECF6",
           "caxis": {
            "gridcolor": "white",
            "linecolor": "white",
            "ticks": ""
           }
          },
          "title": {
           "x": 0.05
          },
          "xaxis": {
           "automargin": true,
           "gridcolor": "white",
           "linecolor": "white",
           "ticks": "",
           "title": {
            "standoff": 15
           },
           "zerolinecolor": "white",
           "zerolinewidth": 2
          },
          "yaxis": {
           "automargin": true,
           "gridcolor": "white",
           "linecolor": "white",
           "ticks": "",
           "title": {
            "standoff": 15
           },
           "zerolinecolor": "white",
           "zerolinewidth": 2
          }
         }
        },
        "title": {
         "text": "Hyperparameter tuning"
        },
        "width": 600,
        "xaxis": {
         "title": {
          "text": "n_estimators"
         }
        },
        "yaxis": {
         "title": {
          "text": "max_features"
         }
        }
       }
      },
      "text/html": [
       "<div>\n",
       "        \n",
       "        \n",
       "            <div id=\"734843a9-98a2-45ee-aa3f-1ca66ae8f747\" class=\"plotly-graph-div\" style=\"height:600px; width:600px;\"></div>\n",
       "            <script type=\"text/javascript\">\n",
       "                require([\"plotly\"], function(Plotly) {\n",
       "                    window.PLOTLYENV=window.PLOTLYENV || {};\n",
       "                    \n",
       "                if (document.getElementById(\"734843a9-98a2-45ee-aa3f-1ca66ae8f747\")) {\n",
       "                    Plotly.newPlot(\n",
       "                        '734843a9-98a2-45ee-aa3f-1ca66ae8f747',\n",
       "                        [{\"type\": \"surface\", \"x\": [50, 60, 70, 80, 90, 100, 110, 120, 130, 140, 150, 160, 170, 180, 190, 200, 210, 220, 230, 240, 250, 260, 270, 280, 290], \"y\": [1, 2, 3, 4, 5], \"z\": [[0.8980734598148846, 0.8993941170722174, 0.8999211235358991, 0.8962237020284514, 0.8978089095503343, 0.8970194468875208, 0.8980734598148846, 0.8983380100794349, 0.8988678086303417, 0.8970187488657146, 0.8978082115285281, 0.8980720637712721, 0.8970159567784899, 0.8975464533512026, 0.8986011643003726, 0.8983380100794349, 0.8980741578366906, 0.8983373120576287, 0.8986032583657912, 0.8986018623221789, 0.8980734598148846, 0.8978096075721405, 0.8975436612639779, 0.8980741578366906, 0.8986018623221789], [0.9125971995365134, 0.9118042467646689, 0.9139150647066214, 0.9136519104856834, 0.9120680990074129, 0.9120674009856069, 0.9133859641775208, 0.9131235079783891, 0.9125965015147074, 0.9115389984783124, 0.9123312532283508, 0.9139150647066214, 0.9139150647066214, 0.9136512124638774, 0.9123319512501571, 0.9131228099565829, 0.9112758442573746, 0.9141796149711716, 0.9125951054710949, 0.9131242060001954, 0.9133866621993271, 0.9131235079783891, 0.9133880582429394, 0.9128596557356451, 0.9139157627284277], [0.9202538007287349, 0.9197267942650529, 0.9202524046851224, 0.9199892504641844, 0.9197260962432466, 0.9210460554787729, 0.9205169549496726, 0.9202538007287349, 0.9205162569278666, 0.9210474515223857, 0.9207808071924166, 0.9215744579860676, 0.9210460554787732, 0.9207829012578352, 0.9202531027069286, 0.9189338414932081, 0.9207822032360292, 0.9202538007287346, 0.9207822032360291, 0.9199899484859907, 0.9202531027069284, 0.9205183509932849, 0.920254498750541, 0.9210453574569669, 0.9199892504641844], [0.9234249137943069, 0.9210467535005794, 0.9228937191997879, 0.9231582694643381, 0.9213092096997111, 0.9221021624715554, 0.9236859739498261, 0.92263056497885, 0.9215744579860674, 0.9223688068015244, 0.9218383102288115, 0.9221028604933619, 0.9221021624715554, 0.922103558515168, 0.9210467535005794, 0.9218383102288115, 0.9218383102288115, 0.9231610615515627, 0.922367410757912, 0.9221028604933619, 0.9221028604933619, 0.9218383102288115, 0.9221028604933619, 0.9218383102288115, 0.9218383102288115], [0.9213120017869357, 0.92263056497885, 0.9226291689352376, 0.92263056497885, 0.9228951152434004, 0.9242150744789267, 0.9247427789644147, 0.9239519202579887, 0.9236880680152447, 0.92263056497885, 0.9226319610224625, 0.9221035585151679, 0.923952618279795, 0.9218383102288115, 0.9236880680152447, 0.924478926721671, 0.9236873699934385, 0.9247427789644149, 0.9231582694643381, 0.9239512222361826, 0.9242150744789267, 0.9252711814717092, 0.9244796247434769, 0.9236866719716325, 0.9223667127361057]]}],\n",
       "                        {\"autosize\": false, \"height\": 600, \"margin\": {\"b\": 65, \"l\": 65, \"r\": 50, \"t\": 90}, \"scene\": {\"xaxis\": {\"title\": {\"text\": \"n_estimators\"}}, \"yaxis\": {\"title\": {\"text\": \"max_features\"}}, \"zaxis\": {\"title\": {\"text\": \"Accuracy\"}}}, \"template\": {\"data\": {\"bar\": [{\"error_x\": {\"color\": \"#2a3f5f\"}, \"error_y\": {\"color\": \"#2a3f5f\"}, \"marker\": {\"line\": {\"color\": \"#E5ECF6\", \"width\": 0.5}}, \"type\": \"bar\"}], \"barpolar\": [{\"marker\": {\"line\": {\"color\": \"#E5ECF6\", \"width\": 0.5}}, \"type\": \"barpolar\"}], \"carpet\": [{\"aaxis\": {\"endlinecolor\": \"#2a3f5f\", \"gridcolor\": \"white\", \"linecolor\": \"white\", \"minorgridcolor\": \"white\", \"startlinecolor\": \"#2a3f5f\"}, \"baxis\": {\"endlinecolor\": \"#2a3f5f\", \"gridcolor\": \"white\", \"linecolor\": \"white\", \"minorgridcolor\": \"white\", \"startlinecolor\": \"#2a3f5f\"}, \"type\": \"carpet\"}], \"choropleth\": [{\"colorbar\": {\"outlinewidth\": 0, \"ticks\": \"\"}, \"type\": \"choropleth\"}], \"contour\": [{\"colorbar\": {\"outlinewidth\": 0, \"ticks\": \"\"}, \"colorscale\": [[0.0, \"#0d0887\"], [0.1111111111111111, \"#46039f\"], [0.2222222222222222, \"#7201a8\"], [0.3333333333333333, \"#9c179e\"], [0.4444444444444444, \"#bd3786\"], [0.5555555555555556, \"#d8576b\"], [0.6666666666666666, \"#ed7953\"], [0.7777777777777778, \"#fb9f3a\"], [0.8888888888888888, \"#fdca26\"], [1.0, \"#f0f921\"]], \"type\": \"contour\"}], \"contourcarpet\": [{\"colorbar\": {\"outlinewidth\": 0, \"ticks\": \"\"}, \"type\": \"contourcarpet\"}], \"heatmap\": [{\"colorbar\": {\"outlinewidth\": 0, \"ticks\": \"\"}, \"colorscale\": [[0.0, \"#0d0887\"], [0.1111111111111111, \"#46039f\"], [0.2222222222222222, \"#7201a8\"], [0.3333333333333333, \"#9c179e\"], [0.4444444444444444, \"#bd3786\"], [0.5555555555555556, \"#d8576b\"], [0.6666666666666666, \"#ed7953\"], [0.7777777777777778, \"#fb9f3a\"], [0.8888888888888888, \"#fdca26\"], [1.0, \"#f0f921\"]], \"type\": \"heatmap\"}], \"heatmapgl\": [{\"colorbar\": {\"outlinewidth\": 0, \"ticks\": \"\"}, \"colorscale\": [[0.0, \"#0d0887\"], [0.1111111111111111, \"#46039f\"], [0.2222222222222222, \"#7201a8\"], [0.3333333333333333, \"#9c179e\"], [0.4444444444444444, \"#bd3786\"], [0.5555555555555556, \"#d8576b\"], [0.6666666666666666, \"#ed7953\"], [0.7777777777777778, \"#fb9f3a\"], [0.8888888888888888, \"#fdca26\"], [1.0, \"#f0f921\"]], \"type\": \"heatmapgl\"}], \"histogram\": [{\"marker\": {\"colorbar\": {\"outlinewidth\": 0, \"ticks\": \"\"}}, \"type\": \"histogram\"}], \"histogram2d\": [{\"colorbar\": {\"outlinewidth\": 0, \"ticks\": \"\"}, \"colorscale\": [[0.0, \"#0d0887\"], [0.1111111111111111, \"#46039f\"], [0.2222222222222222, \"#7201a8\"], [0.3333333333333333, \"#9c179e\"], [0.4444444444444444, \"#bd3786\"], [0.5555555555555556, \"#d8576b\"], [0.6666666666666666, \"#ed7953\"], [0.7777777777777778, \"#fb9f3a\"], [0.8888888888888888, \"#fdca26\"], [1.0, \"#f0f921\"]], \"type\": \"histogram2d\"}], \"histogram2dcontour\": [{\"colorbar\": {\"outlinewidth\": 0, \"ticks\": \"\"}, \"colorscale\": [[0.0, \"#0d0887\"], [0.1111111111111111, \"#46039f\"], [0.2222222222222222, \"#7201a8\"], [0.3333333333333333, \"#9c179e\"], [0.4444444444444444, \"#bd3786\"], [0.5555555555555556, \"#d8576b\"], [0.6666666666666666, \"#ed7953\"], [0.7777777777777778, \"#fb9f3a\"], [0.8888888888888888, \"#fdca26\"], [1.0, \"#f0f921\"]], \"type\": \"histogram2dcontour\"}], \"mesh3d\": [{\"colorbar\": {\"outlinewidth\": 0, \"ticks\": \"\"}, \"type\": \"mesh3d\"}], \"parcoords\": [{\"line\": {\"colorbar\": {\"outlinewidth\": 0, \"ticks\": \"\"}}, \"type\": \"parcoords\"}], \"pie\": [{\"automargin\": true, \"type\": \"pie\"}], \"scatter\": [{\"marker\": {\"colorbar\": {\"outlinewidth\": 0, \"ticks\": \"\"}}, \"type\": \"scatter\"}], \"scatter3d\": [{\"line\": {\"colorbar\": {\"outlinewidth\": 0, \"ticks\": \"\"}}, \"marker\": {\"colorbar\": {\"outlinewidth\": 0, \"ticks\": \"\"}}, \"type\": \"scatter3d\"}], \"scattercarpet\": [{\"marker\": {\"colorbar\": {\"outlinewidth\": 0, \"ticks\": \"\"}}, \"type\": \"scattercarpet\"}], \"scattergeo\": [{\"marker\": {\"colorbar\": {\"outlinewidth\": 0, \"ticks\": \"\"}}, \"type\": \"scattergeo\"}], \"scattergl\": [{\"marker\": {\"colorbar\": {\"outlinewidth\": 0, \"ticks\": \"\"}}, \"type\": \"scattergl\"}], \"scattermapbox\": [{\"marker\": {\"colorbar\": {\"outlinewidth\": 0, \"ticks\": \"\"}}, \"type\": \"scattermapbox\"}], \"scatterpolar\": [{\"marker\": {\"colorbar\": {\"outlinewidth\": 0, \"ticks\": \"\"}}, \"type\": \"scatterpolar\"}], \"scatterpolargl\": [{\"marker\": {\"colorbar\": {\"outlinewidth\": 0, \"ticks\": \"\"}}, \"type\": \"scatterpolargl\"}], \"scatterternary\": [{\"marker\": {\"colorbar\": {\"outlinewidth\": 0, \"ticks\": \"\"}}, \"type\": \"scatterternary\"}], \"surface\": [{\"colorbar\": {\"outlinewidth\": 0, \"ticks\": \"\"}, \"colorscale\": [[0.0, \"#0d0887\"], [0.1111111111111111, \"#46039f\"], [0.2222222222222222, \"#7201a8\"], [0.3333333333333333, \"#9c179e\"], [0.4444444444444444, \"#bd3786\"], [0.5555555555555556, \"#d8576b\"], [0.6666666666666666, \"#ed7953\"], [0.7777777777777778, \"#fb9f3a\"], [0.8888888888888888, \"#fdca26\"], [1.0, \"#f0f921\"]], \"type\": \"surface\"}], \"table\": [{\"cells\": {\"fill\": {\"color\": \"#EBF0F8\"}, \"line\": {\"color\": \"white\"}}, \"header\": {\"fill\": {\"color\": \"#C8D4E3\"}, \"line\": {\"color\": \"white\"}}, \"type\": \"table\"}]}, \"layout\": {\"annotationdefaults\": {\"arrowcolor\": \"#2a3f5f\", \"arrowhead\": 0, \"arrowwidth\": 1}, \"coloraxis\": {\"colorbar\": {\"outlinewidth\": 0, \"ticks\": \"\"}}, \"colorscale\": {\"diverging\": [[0, \"#8e0152\"], [0.1, \"#c51b7d\"], [0.2, \"#de77ae\"], [0.3, \"#f1b6da\"], [0.4, \"#fde0ef\"], [0.5, \"#f7f7f7\"], [0.6, \"#e6f5d0\"], [0.7, \"#b8e186\"], [0.8, \"#7fbc41\"], [0.9, \"#4d9221\"], [1, \"#276419\"]], \"sequential\": [[0.0, \"#0d0887\"], [0.1111111111111111, \"#46039f\"], [0.2222222222222222, \"#7201a8\"], [0.3333333333333333, \"#9c179e\"], [0.4444444444444444, \"#bd3786\"], [0.5555555555555556, \"#d8576b\"], [0.6666666666666666, \"#ed7953\"], [0.7777777777777778, \"#fb9f3a\"], [0.8888888888888888, \"#fdca26\"], [1.0, \"#f0f921\"]], \"sequentialminus\": [[0.0, \"#0d0887\"], [0.1111111111111111, \"#46039f\"], [0.2222222222222222, \"#7201a8\"], [0.3333333333333333, \"#9c179e\"], [0.4444444444444444, \"#bd3786\"], [0.5555555555555556, \"#d8576b\"], [0.6666666666666666, \"#ed7953\"], [0.7777777777777778, \"#fb9f3a\"], [0.8888888888888888, \"#fdca26\"], [1.0, \"#f0f921\"]]}, \"colorway\": [\"#636efa\", \"#EF553B\", \"#00cc96\", \"#ab63fa\", \"#FFA15A\", \"#19d3f3\", \"#FF6692\", \"#B6E880\", \"#FF97FF\", \"#FECB52\"], \"font\": {\"color\": \"#2a3f5f\"}, \"geo\": {\"bgcolor\": \"white\", \"lakecolor\": \"white\", \"landcolor\": \"#E5ECF6\", \"showlakes\": true, \"showland\": true, \"subunitcolor\": \"white\"}, \"hoverlabel\": {\"align\": \"left\"}, \"hovermode\": \"closest\", \"mapbox\": {\"style\": \"light\"}, \"paper_bgcolor\": \"white\", \"plot_bgcolor\": \"#E5ECF6\", \"polar\": {\"angularaxis\": {\"gridcolor\": \"white\", \"linecolor\": \"white\", \"ticks\": \"\"}, \"bgcolor\": \"#E5ECF6\", \"radialaxis\": {\"gridcolor\": \"white\", \"linecolor\": \"white\", \"ticks\": \"\"}}, \"scene\": {\"xaxis\": {\"backgroundcolor\": \"#E5ECF6\", \"gridcolor\": \"white\", \"gridwidth\": 2, \"linecolor\": \"white\", \"showbackground\": true, \"ticks\": \"\", \"zerolinecolor\": \"white\"}, \"yaxis\": {\"backgroundcolor\": \"#E5ECF6\", \"gridcolor\": \"white\", \"gridwidth\": 2, \"linecolor\": \"white\", \"showbackground\": true, \"ticks\": \"\", \"zerolinecolor\": \"white\"}, \"zaxis\": {\"backgroundcolor\": \"#E5ECF6\", \"gridcolor\": \"white\", \"gridwidth\": 2, \"linecolor\": \"white\", \"showbackground\": true, \"ticks\": \"\", \"zerolinecolor\": \"white\"}}, \"shapedefaults\": {\"line\": {\"color\": \"#2a3f5f\"}}, \"ternary\": {\"aaxis\": {\"gridcolor\": \"white\", \"linecolor\": \"white\", \"ticks\": \"\"}, \"baxis\": {\"gridcolor\": \"white\", \"linecolor\": \"white\", \"ticks\": \"\"}, \"bgcolor\": \"#E5ECF6\", \"caxis\": {\"gridcolor\": \"white\", \"linecolor\": \"white\", \"ticks\": \"\"}}, \"title\": {\"x\": 0.05}, \"xaxis\": {\"automargin\": true, \"gridcolor\": \"white\", \"linecolor\": \"white\", \"ticks\": \"\", \"title\": {\"standoff\": 15}, \"zerolinecolor\": \"white\", \"zerolinewidth\": 2}, \"yaxis\": {\"automargin\": true, \"gridcolor\": \"white\", \"linecolor\": \"white\", \"ticks\": \"\", \"title\": {\"standoff\": 15}, \"zerolinecolor\": \"white\", \"zerolinewidth\": 2}}}, \"title\": {\"text\": \"Hyperparameter tuning\"}, \"width\": 600, \"xaxis\": {\"title\": {\"text\": \"n_estimators\"}}, \"yaxis\": {\"title\": {\"text\": \"max_features\"}}},\n",
       "                        {\"responsive\": true}\n",
       "                    ).then(function(){\n",
       "                            \n",
       "var gd = document.getElementById('734843a9-98a2-45ee-aa3f-1ca66ae8f747');\n",
       "var x = new MutationObserver(function (mutations, observer) {{\n",
       "        var display = window.getComputedStyle(gd).display;\n",
       "        if (!display || display === 'none') {{\n",
       "            console.log([gd, 'removed!']);\n",
       "            Plotly.purge(gd);\n",
       "            observer.disconnect();\n",
       "        }}\n",
       "}});\n",
       "\n",
       "// Listen for the removal of the full notebook cells\n",
       "var notebookContainer = gd.closest('#notebook-container');\n",
       "if (notebookContainer) {{\n",
       "    x.observe(notebookContainer, {childList: true});\n",
       "}}\n",
       "\n",
       "// Listen for the clearing of the current output cell\n",
       "var outputEl = gd.closest('.output');\n",
       "if (outputEl) {{\n",
       "    x.observe(outputEl, {childList: true});\n",
       "}}\n",
       "\n",
       "                        })\n",
       "                };\n",
       "                });\n",
       "            </script>\n",
       "        </div>"
      ]
     },
     "metadata": {},
     "output_type": "display_data"
    }
   ],
   "source": [
    "#visualize tuned model by parameters (3D)\n",
    "import plotly.graph_objects as go\n",
    "\n",
    "\n",
    "fig = go.Figure(data= [go.Surface(z=z, y=y, x=x)], layout=layout )\n",
    "fig.update_layout(title='Hyperparameter tuning',\n",
    "                  scene = dict(\n",
    "                    xaxis_title='n_estimators',\n",
    "                    yaxis_title='max_features',\n",
    "                    zaxis_title='Accuracy'),\n",
    "                  autosize=False,\n",
    "                  width=600, height=600,\n",
    "                  margin=dict(l=65, r=50, b=65, t=90))\n",
    "fig.show()"
   ]
  },
  {
   "cell_type": "code",
   "execution_count": 724,
   "metadata": {},
   "outputs": [
    {
     "name": "stdout",
     "output_type": "stream",
     "text": [
      "Feature: 0, Score: 0.10454\n",
      "Feature: 1, Score: 0.11740\n",
      "Feature: 2, Score: 0.16598\n",
      "Feature: 3, Score: 0.02631\n",
      "Feature: 4, Score: 0.03060\n",
      "Feature: 5, Score: 0.04788\n",
      "Feature: 6, Score: 0.02075\n",
      "Feature: 7, Score: 0.48653\n"
     ]
    },
    {
     "data": {
      "image/png": "[encoded data removed]",
      "text/plain": [
       "<Figure size 432x288 with 1 Axes>"
      ]
     },
     "metadata": {
      "needs_background": "light"
     },
     "output_type": "display_data"
    }
   ],
   "source": [
    "#show the variable importance of the model. Donation revenue and spending on food and entertainment were top 3 factors \n",
    "# define the model\n",
    "fmodel = RandomForestRegressor()\n",
    "# fit the model\n",
    "fmodel.fit(X_train, Y_train)\n",
    "# get importance\n",
    "importance = fmodel.feature_importances_\n",
    "# summarize feature importance\n",
    "for i,v in enumerate(importance):\n",
    "\tprint('Feature: %0d, Score: %.5f' % (i,v))\n",
    "# plot feature importance\n",
    "plt.bar([x for x in range(len(importance))], importance)\n",
    "plt.show()"
   ]
  },
  {
   "cell_type": "code",
   "execution_count": 725,
   "metadata": {},
   "outputs": [
    {
     "name": "stdout",
     "output_type": "stream",
     "text": [
      "<class 'pandas.core.frame.DataFrame'>\n",
      "Int64Index: 3787 entries, 4157 to 3229\n",
      "Data columns (total 8 columns):\n",
      " #   Column            Non-Null Count  Dtype   \n",
      "---  ------            --------------  -----   \n",
      " 0   age               3787 non-null   int64   \n",
      " 1   entertainment     3787 non-null   float64 \n",
      " 2   spending_on_food  3787 non-null   float64 \n",
      " 3   campaign_n        3787 non-null   category\n",
      " 4   channel_n         3787 non-null   category\n",
      " 5   state_n           3787 non-null   category\n",
      " 6   us_region_n       3787 non-null   category\n",
      " 7   donation_revenue  3787 non-null   float64 \n",
      "dtypes: category(4), float64(3), int64(1)\n",
      "memory usage: 163.5 KB\n"
     ]
    }
   ],
   "source": [
    "X_train.info()"
   ]
  },
  {
   "cell_type": "markdown",
   "metadata": {},
   "source": [
    "# Evaluate the Model on Validation Data"
   ]
  },
  {
   "cell_type": "code",
   "execution_count": 726,
   "metadata": {},
   "outputs": [
    {
     "name": "stdout",
     "output_type": "stream",
     "text": [
      "              precision    recall  f1-score   support\n",
      "\n",
      "         1.0       0.92      1.00      0.96       846\n",
      "         2.0       1.00      0.32      0.48       101\n",
      "\n",
      "    accuracy                           0.93       947\n",
      "   macro avg       0.96      0.66      0.72       947\n",
      "weighted avg       0.93      0.93      0.91       947\n",
      "\n",
      "Accuracy: 0.9271383315733897\n",
      "Tuned Model Parameters: {'max_features': 5, 'n_estimators': 260}\n"
     ]
    }
   ],
   "source": [
    "from sklearn.metrics import classification_report\n",
    "\n",
    "RF_Pred = rfgrid.predict(X_validation) \n",
    "  \n",
    "# print classification report \n",
    "print(classification_report(Y_validation, RF_Pred)) \n",
    "# Compute and print metrics\n",
    "print(\"Accuracy: {}\".format(rfgrid.score(X_validation, Y_validation)))\n",
    "print(\"Tuned Model Parameters: {}\".format(rfgrid.best_params_))"
   ]
  },
  {
   "cell_type": "code",
   "execution_count": 727,
   "metadata": {},
   "outputs": [
    {
     "data": {
      "text/plain": [
       "<matplotlib.collections.PathCollection at 0x1a3507ad10>"
      ]
     },
     "execution_count": 727,
     "metadata": {},
     "output_type": "execute_result"
    },
    {
     "data": {
      "image/png": "[encoded data removed]",
      "text/plain": [
       "<Figure size 432x288 with 1 Axes>"
      ]
     },
     "metadata": {
      "needs_background": "light"
     },
     "output_type": "display_data"
    }
   ],
   "source": [
    "predictions= rfgrid.predict(X_validation)\n",
    "\n",
    "plt.scatter(Y_validation,predictions)"
   ]
  },
  {
   "cell_type": "markdown",
   "metadata": {},
   "source": [
    "model remains accurate with new data<br><br><br>"
   ]
  },
  {
   "cell_type": "markdown",
   "metadata": {},
   "source": [
    "# Make Predictions"
   ]
  },
  {
   "cell_type": "code",
   "execution_count": 728,
   "metadata": {},
   "outputs": [
    {
     "data": {
      "text/plain": [
       "(266,)"
      ]
     },
     "execution_count": 728,
     "metadata": {},
     "output_type": "execute_result"
    }
   ],
   "source": [
    "Y_pred.shape"
   ]
  },
  {
   "cell_type": "code",
   "execution_count": 729,
   "metadata": {},
   "outputs": [
    {
     "data": {
      "text/plain": [
       "(266, 8)"
      ]
     },
     "execution_count": 729,
     "metadata": {},
     "output_type": "execute_result"
    }
   ],
   "source": [
    "X_pred.shape"
   ]
  },
  {
   "cell_type": "code",
   "execution_count": 730,
   "metadata": {},
   "outputs": [],
   "source": [
    "predictions = rfgrid.predict(X_pred)"
   ]
  },
  {
   "cell_type": "code",
   "execution_count": 731,
   "metadata": {},
   "outputs": [
    {
     "data": {
      "text/plain": [
       "[1.0,\n",
       " 1.0,\n",
       " 1.0,\n",
       " 1.0,\n",
       " 1.0,\n",
       " 1.0,\n",
       " 1.0,\n",
       " 1.0,\n",
       " 1.0,\n",
       " 1.0,\n",
       " 1.0,\n",
       " 1.0,\n",
       " 1.0,\n",
       " 1.0,\n",
       " 1.0,\n",
       " 1.0,\n",
       " 1.0,\n",
       " 1.0,\n",
       " 1.0,\n",
       " 1.0,\n",
       " 1.0,\n",
       " 1.0,\n",
       " 1.0,\n",
       " 1.0,\n",
       " 1.0,\n",
       " 1.0,\n",
       " 1.0,\n",
       " 1.0,\n",
       " 1.0,\n",
       " 1.0,\n",
       " 1.0,\n",
       " 1.0,\n",
       " 1.0,\n",
       " 1.0,\n",
       " 1.0,\n",
       " 1.0,\n",
       " 1.0,\n",
       " 1.0,\n",
       " 1.0,\n",
       " 1.0,\n",
       " 1.0,\n",
       " 1.0,\n",
       " 1.0,\n",
       " 2.0,\n",
       " 1.0,\n",
       " 1.0,\n",
       " 1.0,\n",
       " 1.0,\n",
       " 1.0,\n",
       " 1.0,\n",
       " 1.0,\n",
       " 1.0,\n",
       " 1.0,\n",
       " 1.0,\n",
       " 1.0,\n",
       " 1.0,\n",
       " 1.0,\n",
       " 1.0,\n",
       " 1.0,\n",
       " 1.0,\n",
       " 1.0,\n",
       " 1.0,\n",
       " 1.0,\n",
       " 1.0,\n",
       " 1.0,\n",
       " 1.0,\n",
       " 1.0,\n",
       " 1.0,\n",
       " 1.0,\n",
       " 1.0,\n",
       " 1.0,\n",
       " 1.0,\n",
       " 1.0,\n",
       " 1.0,\n",
       " 1.0,\n",
       " 1.0,\n",
       " 1.0,\n",
       " 1.0,\n",
       " 1.0,\n",
       " 1.0,\n",
       " 1.0,\n",
       " 1.0,\n",
       " 1.0,\n",
       " 1.0,\n",
       " 1.0,\n",
       " 1.0,\n",
       " 1.0,\n",
       " 1.0,\n",
       " 1.0,\n",
       " 1.0,\n",
       " 1.0,\n",
       " 1.0,\n",
       " 1.0,\n",
       " 1.0,\n",
       " 1.0,\n",
       " 1.0,\n",
       " 1.0,\n",
       " 1.0,\n",
       " 1.0,\n",
       " 1.0,\n",
       " 1.0,\n",
       " 1.0,\n",
       " 1.0,\n",
       " 1.0,\n",
       " 1.0,\n",
       " 1.0,\n",
       " 1.0,\n",
       " 1.0,\n",
       " 1.0,\n",
       " 1.0,\n",
       " 1.0,\n",
       " 1.0,\n",
       " 1.0,\n",
       " 1.0,\n",
       " 1.0,\n",
       " 1.0,\n",
       " 1.0,\n",
       " 1.0,\n",
       " 1.0,\n",
       " 1.0,\n",
       " 1.0,\n",
       " 1.0,\n",
       " 1.0,\n",
       " 1.0,\n",
       " 1.0,\n",
       " 1.0,\n",
       " 1.0,\n",
       " 1.0,\n",
       " 1.0,\n",
       " 1.0,\n",
       " 1.0,\n",
       " 1.0,\n",
       " 1.0,\n",
       " 1.0,\n",
       " 1.0,\n",
       " 1.0,\n",
       " 1.0,\n",
       " 1.0,\n",
       " 1.0,\n",
       " 1.0,\n",
       " 1.0,\n",
       " 1.0,\n",
       " 1.0,\n",
       " 1.0,\n",
       " 1.0,\n",
       " 1.0,\n",
       " 1.0,\n",
       " 1.0,\n",
       " 1.0,\n",
       " 1.0,\n",
       " 1.0,\n",
       " 1.0,\n",
       " 1.0,\n",
       " 1.0,\n",
       " 1.0,\n",
       " 1.0,\n",
       " 1.0,\n",
       " 1.0,\n",
       " 1.0,\n",
       " 1.0,\n",
       " 1.0,\n",
       " 1.0,\n",
       " 1.0,\n",
       " 1.0,\n",
       " 1.0,\n",
       " 1.0,\n",
       " 1.0,\n",
       " 1.0,\n",
       " 1.0,\n",
       " 1.0,\n",
       " 1.0,\n",
       " 1.0,\n",
       " 1.0,\n",
       " 1.0,\n",
       " 1.0,\n",
       " 1.0,\n",
       " 1.0,\n",
       " 1.0,\n",
       " 1.0,\n",
       " 1.0,\n",
       " 1.0,\n",
       " 1.0,\n",
       " 1.0,\n",
       " 1.0,\n",
       " 1.0,\n",
       " 1.0,\n",
       " 1.0,\n",
       " 1.0,\n",
       " 1.0,\n",
       " 1.0,\n",
       " 1.0,\n",
       " 1.0,\n",
       " 1.0,\n",
       " 1.0,\n",
       " 1.0,\n",
       " 1.0,\n",
       " 1.0,\n",
       " 1.0,\n",
       " 1.0,\n",
       " 1.0,\n",
       " 1.0,\n",
       " 1.0,\n",
       " 1.0,\n",
       " 1.0,\n",
       " 1.0,\n",
       " 1.0,\n",
       " 1.0,\n",
       " 1.0,\n",
       " 1.0,\n",
       " 1.0,\n",
       " 1.0,\n",
       " 1.0,\n",
       " 1.0,\n",
       " 1.0,\n",
       " 1.0,\n",
       " 1.0,\n",
       " 1.0,\n",
       " 1.0,\n",
       " 1.0,\n",
       " 1.0,\n",
       " 1.0,\n",
       " 1.0,\n",
       " 1.0,\n",
       " 1.0,\n",
       " 1.0,\n",
       " 1.0,\n",
       " 1.0,\n",
       " 1.0,\n",
       " 1.0,\n",
       " 1.0,\n",
       " 1.0,\n",
       " 1.0,\n",
       " 1.0,\n",
       " 1.0,\n",
       " 1.0,\n",
       " 1.0,\n",
       " 1.0,\n",
       " 1.0,\n",
       " 1.0,\n",
       " 1.0,\n",
       " 1.0,\n",
       " 1.0,\n",
       " 1.0,\n",
       " 1.0,\n",
       " 1.0,\n",
       " 1.0,\n",
       " 1.0,\n",
       " 1.0,\n",
       " 1.0,\n",
       " 1.0,\n",
       " 1.0,\n",
       " 1.0,\n",
       " 1.0,\n",
       " 1.0,\n",
       " 1.0,\n",
       " 1.0,\n",
       " 1.0,\n",
       " 1.0,\n",
       " 1.0,\n",
       " 1.0,\n",
       " 1.0,\n",
       " 1.0,\n",
       " 1.0,\n",
       " 1.0,\n",
       " 1.0,\n",
       " 1.0]"
      ]
     },
     "execution_count": 731,
     "metadata": {},
     "output_type": "execute_result"
    }
   ],
   "source": [
    "predition_results = predictions.tolist()\n",
    "predition_results"
   ]
  },
  {
   "cell_type": "code",
   "execution_count": 732,
   "metadata": {},
   "outputs": [],
   "source": [
    "X_pred['predicted_donated_type'] = predictions"
   ]
  },
  {
   "cell_type": "code",
   "execution_count": 733,
   "metadata": {},
   "outputs": [
    {
     "data": {
      "text/html": [
       "<div>\n",
       "<style scoped>\n",
       "    .dataframe tbody tr th:only-of-type {\n",
       "        vertical-align: middle;\n",
       "    }\n",
       "\n",
       "    .dataframe tbody tr th {\n",
       "        vertical-align: top;\n",
       "    }\n",
       "\n",
       "    .dataframe thead th {\n",
       "        text-align: right;\n",
       "    }\n",
       "</style>\n",
       "<table border=\"1\" class=\"dataframe\">\n",
       "  <thead>\n",
       "    <tr style=\"text-align: right;\">\n",
       "      <th></th>\n",
       "      <th>age</th>\n",
       "      <th>entertainment</th>\n",
       "      <th>spending_on_food</th>\n",
       "      <th>campaign_n</th>\n",
       "      <th>channel_n</th>\n",
       "      <th>state_n</th>\n",
       "      <th>us_region_n</th>\n",
       "      <th>donation_revenue</th>\n",
       "      <th>predicted_donated_type</th>\n",
       "    </tr>\n",
       "  </thead>\n",
       "  <tbody>\n",
       "    <tr>\n",
       "      <th>8</th>\n",
       "      <td>29</td>\n",
       "      <td>329.23</td>\n",
       "      <td>307.90</td>\n",
       "      <td>2</td>\n",
       "      <td>1</td>\n",
       "      <td>10</td>\n",
       "      <td>2</td>\n",
       "      <td>71.40</td>\n",
       "      <td>1.0</td>\n",
       "    </tr>\n",
       "    <tr>\n",
       "      <th>11</th>\n",
       "      <td>37</td>\n",
       "      <td>256.23</td>\n",
       "      <td>218.88</td>\n",
       "      <td>1</td>\n",
       "      <td>4</td>\n",
       "      <td>2</td>\n",
       "      <td>3</td>\n",
       "      <td>51.11</td>\n",
       "      <td>1.0</td>\n",
       "    </tr>\n",
       "    <tr>\n",
       "      <th>15</th>\n",
       "      <td>37</td>\n",
       "      <td>236.23</td>\n",
       "      <td>274.24</td>\n",
       "      <td>1</td>\n",
       "      <td>3</td>\n",
       "      <td>5</td>\n",
       "      <td>1</td>\n",
       "      <td>57.34</td>\n",
       "      <td>1.0</td>\n",
       "    </tr>\n",
       "    <tr>\n",
       "      <th>17</th>\n",
       "      <td>35</td>\n",
       "      <td>120.00</td>\n",
       "      <td>318.14</td>\n",
       "      <td>1</td>\n",
       "      <td>4</td>\n",
       "      <td>3</td>\n",
       "      <td>2</td>\n",
       "      <td>1.32</td>\n",
       "      <td>1.0</td>\n",
       "    </tr>\n",
       "    <tr>\n",
       "      <th>19</th>\n",
       "      <td>37</td>\n",
       "      <td>253.23</td>\n",
       "      <td>242.01</td>\n",
       "      <td>2</td>\n",
       "      <td>4</td>\n",
       "      <td>3</td>\n",
       "      <td>2</td>\n",
       "      <td>47.20</td>\n",
       "      <td>1.0</td>\n",
       "    </tr>\n",
       "    <tr>\n",
       "      <th>...</th>\n",
       "      <td>...</td>\n",
       "      <td>...</td>\n",
       "      <td>...</td>\n",
       "      <td>...</td>\n",
       "      <td>...</td>\n",
       "      <td>...</td>\n",
       "      <td>...</td>\n",
       "      <td>...</td>\n",
       "      <td>...</td>\n",
       "    </tr>\n",
       "    <tr>\n",
       "      <th>4788</th>\n",
       "      <td>48</td>\n",
       "      <td>120.00</td>\n",
       "      <td>232.27</td>\n",
       "      <td>1</td>\n",
       "      <td>2</td>\n",
       "      <td>5</td>\n",
       "      <td>1</td>\n",
       "      <td>21.13</td>\n",
       "      <td>1.0</td>\n",
       "    </tr>\n",
       "    <tr>\n",
       "      <th>4837</th>\n",
       "      <td>38</td>\n",
       "      <td>274.67</td>\n",
       "      <td>348.36</td>\n",
       "      <td>1</td>\n",
       "      <td>3</td>\n",
       "      <td>1</td>\n",
       "      <td>2</td>\n",
       "      <td>10.19</td>\n",
       "      <td>1.0</td>\n",
       "    </tr>\n",
       "    <tr>\n",
       "      <th>4945</th>\n",
       "      <td>39</td>\n",
       "      <td>293.67</td>\n",
       "      <td>312.07</td>\n",
       "      <td>2</td>\n",
       "      <td>3</td>\n",
       "      <td>3</td>\n",
       "      <td>2</td>\n",
       "      <td>127.74</td>\n",
       "      <td>1.0</td>\n",
       "    </tr>\n",
       "    <tr>\n",
       "      <th>4963</th>\n",
       "      <td>44</td>\n",
       "      <td>146.67</td>\n",
       "      <td>228.24</td>\n",
       "      <td>1</td>\n",
       "      <td>4</td>\n",
       "      <td>10</td>\n",
       "      <td>2</td>\n",
       "      <td>50.11</td>\n",
       "      <td>1.0</td>\n",
       "    </tr>\n",
       "    <tr>\n",
       "      <th>4977</th>\n",
       "      <td>47</td>\n",
       "      <td>132.23</td>\n",
       "      <td>199.88</td>\n",
       "      <td>2</td>\n",
       "      <td>3</td>\n",
       "      <td>8</td>\n",
       "      <td>2</td>\n",
       "      <td>66.13</td>\n",
       "      <td>1.0</td>\n",
       "    </tr>\n",
       "  </tbody>\n",
       "</table>\n",
       "<p>266 rows × 9 columns</p>\n",
       "</div>"
      ],
      "text/plain": [
       "      age  entertainment  spending_on_food campaign_n channel_n state_n  \\\n",
       "8      29         329.23            307.90          2         1      10   \n",
       "11     37         256.23            218.88          1         4       2   \n",
       "15     37         236.23            274.24          1         3       5   \n",
       "17     35         120.00            318.14          1         4       3   \n",
       "19     37         253.23            242.01          2         4       3   \n",
       "...   ...            ...               ...        ...       ...     ...   \n",
       "4788   48         120.00            232.27          1         2       5   \n",
       "4837   38         274.67            348.36          1         3       1   \n",
       "4945   39         293.67            312.07          2         3       3   \n",
       "4963   44         146.67            228.24          1         4      10   \n",
       "4977   47         132.23            199.88          2         3       8   \n",
       "\n",
       "     us_region_n  donation_revenue  predicted_donated_type  \n",
       "8              2             71.40                     1.0  \n",
       "11             3             51.11                     1.0  \n",
       "15             1             57.34                     1.0  \n",
       "17             2              1.32                     1.0  \n",
       "19             2             47.20                     1.0  \n",
       "...          ...               ...                     ...  \n",
       "4788           1             21.13                     1.0  \n",
       "4837           2             10.19                     1.0  \n",
       "4945           2            127.74                     1.0  \n",
       "4963           2             50.11                     1.0  \n",
       "4977           2             66.13                     1.0  \n",
       "\n",
       "[266 rows x 9 columns]"
      ]
     },
     "execution_count": 733,
     "metadata": {},
     "output_type": "execute_result"
    }
   ],
   "source": [
    "X_pred"
   ]
  },
  {
   "cell_type": "code",
   "execution_count": 734,
   "metadata": {},
   "outputs": [],
   "source": [
    "#combine predicitions with DF\n",
    "donations_predicted_final = pd.merge(donations_pred,X_pred[['predicted_donated_type']],how = 'left',left_index = True, right_index = True)"
   ]
  },
  {
   "cell_type": "code",
   "execution_count": 735,
   "metadata": {},
   "outputs": [
    {
     "name": "stdout",
     "output_type": "stream",
     "text": [
      "<class 'pandas.core.frame.DataFrame'>\n",
      "Int64Index: 266 entries, 8 to 4977\n",
      "Data columns (total 10 columns):\n",
      " #   Column                  Non-Null Count  Dtype   \n",
      "---  ------                  --------------  -----   \n",
      " 0   age                     266 non-null    int64   \n",
      " 1   entertainment           266 non-null    float64 \n",
      " 2   spending_on_food        266 non-null    float64 \n",
      " 3   campaign_n              266 non-null    category\n",
      " 4   channel_n               266 non-null    category\n",
      " 5   state_n                 266 non-null    category\n",
      " 6   us_region_n             266 non-null    category\n",
      " 7   donation_revenue        266 non-null    float64 \n",
      " 8   donor_type_n            0 non-null      category\n",
      " 9   predicted_donated_type  266 non-null    float64 \n",
      "dtypes: category(5), float64(4), int64(1)\n",
      "memory usage: 24.6 KB\n"
     ]
    }
   ],
   "source": [
    "donations_predicted_final.info()"
   ]
  },
  {
   "cell_type": "code",
   "execution_count": 736,
   "metadata": {},
   "outputs": [
    {
     "data": {
      "text/html": [
       "<div>\n",
       "<style scoped>\n",
       "    .dataframe tbody tr th:only-of-type {\n",
       "        vertical-align: middle;\n",
       "    }\n",
       "\n",
       "    .dataframe tbody tr th {\n",
       "        vertical-align: top;\n",
       "    }\n",
       "\n",
       "    .dataframe thead th {\n",
       "        text-align: right;\n",
       "    }\n",
       "</style>\n",
       "<table border=\"1\" class=\"dataframe\">\n",
       "  <thead>\n",
       "    <tr style=\"text-align: right;\">\n",
       "      <th></th>\n",
       "      <th>age</th>\n",
       "      <th>entertainment</th>\n",
       "      <th>spending_on_food</th>\n",
       "      <th>campaign_n</th>\n",
       "      <th>channel_n</th>\n",
       "      <th>state_n</th>\n",
       "      <th>us_region_n</th>\n",
       "      <th>donation_revenue</th>\n",
       "      <th>donor_type_n</th>\n",
       "      <th>predicted_donated_type</th>\n",
       "    </tr>\n",
       "  </thead>\n",
       "  <tbody>\n",
       "    <tr>\n",
       "      <th>8</th>\n",
       "      <td>29</td>\n",
       "      <td>329.23</td>\n",
       "      <td>307.90</td>\n",
       "      <td>2</td>\n",
       "      <td>1</td>\n",
       "      <td>10</td>\n",
       "      <td>2</td>\n",
       "      <td>71.40</td>\n",
       "      <td>NaN</td>\n",
       "      <td>1.0</td>\n",
       "    </tr>\n",
       "    <tr>\n",
       "      <th>11</th>\n",
       "      <td>37</td>\n",
       "      <td>256.23</td>\n",
       "      <td>218.88</td>\n",
       "      <td>1</td>\n",
       "      <td>4</td>\n",
       "      <td>2</td>\n",
       "      <td>3</td>\n",
       "      <td>51.11</td>\n",
       "      <td>NaN</td>\n",
       "      <td>1.0</td>\n",
       "    </tr>\n",
       "    <tr>\n",
       "      <th>15</th>\n",
       "      <td>37</td>\n",
       "      <td>236.23</td>\n",
       "      <td>274.24</td>\n",
       "      <td>1</td>\n",
       "      <td>3</td>\n",
       "      <td>5</td>\n",
       "      <td>1</td>\n",
       "      <td>57.34</td>\n",
       "      <td>NaN</td>\n",
       "      <td>1.0</td>\n",
       "    </tr>\n",
       "    <tr>\n",
       "      <th>17</th>\n",
       "      <td>35</td>\n",
       "      <td>120.00</td>\n",
       "      <td>318.14</td>\n",
       "      <td>1</td>\n",
       "      <td>4</td>\n",
       "      <td>3</td>\n",
       "      <td>2</td>\n",
       "      <td>1.32</td>\n",
       "      <td>NaN</td>\n",
       "      <td>1.0</td>\n",
       "    </tr>\n",
       "    <tr>\n",
       "      <th>19</th>\n",
       "      <td>37</td>\n",
       "      <td>253.23</td>\n",
       "      <td>242.01</td>\n",
       "      <td>2</td>\n",
       "      <td>4</td>\n",
       "      <td>3</td>\n",
       "      <td>2</td>\n",
       "      <td>47.20</td>\n",
       "      <td>NaN</td>\n",
       "      <td>1.0</td>\n",
       "    </tr>\n",
       "  </tbody>\n",
       "</table>\n",
       "</div>"
      ],
      "text/plain": [
       "    age  entertainment  spending_on_food campaign_n channel_n state_n  \\\n",
       "8    29         329.23            307.90          2         1      10   \n",
       "11   37         256.23            218.88          1         4       2   \n",
       "15   37         236.23            274.24          1         3       5   \n",
       "17   35         120.00            318.14          1         4       3   \n",
       "19   37         253.23            242.01          2         4       3   \n",
       "\n",
       "   us_region_n  donation_revenue donor_type_n  predicted_donated_type  \n",
       "8            2             71.40          NaN                     1.0  \n",
       "11           3             51.11          NaN                     1.0  \n",
       "15           1             57.34          NaN                     1.0  \n",
       "17           2              1.32          NaN                     1.0  \n",
       "19           2             47.20          NaN                     1.0  "
      ]
     },
     "execution_count": 736,
     "metadata": {},
     "output_type": "execute_result"
    }
   ],
   "source": [
    "donations_predicted_final.head()"
   ]
  },
  {
   "cell_type": "code",
   "execution_count": 737,
   "metadata": {},
   "outputs": [
    {
     "data": {
      "text/html": [
       "<div>\n",
       "<style scoped>\n",
       "    .dataframe tbody tr th:only-of-type {\n",
       "        vertical-align: middle;\n",
       "    }\n",
       "\n",
       "    .dataframe tbody tr th {\n",
       "        vertical-align: top;\n",
       "    }\n",
       "\n",
       "    .dataframe thead th {\n",
       "        text-align: right;\n",
       "    }\n",
       "</style>\n",
       "<table border=\"1\" class=\"dataframe\">\n",
       "  <thead>\n",
       "    <tr style=\"text-align: right;\">\n",
       "      <th></th>\n",
       "      <th>age</th>\n",
       "      <th>entertainment</th>\n",
       "      <th>spending_on_food</th>\n",
       "      <th>campaign_n</th>\n",
       "      <th>channel_n</th>\n",
       "      <th>state_n</th>\n",
       "      <th>us_region_n</th>\n",
       "      <th>donation_revenue</th>\n",
       "      <th>donor_type_n</th>\n",
       "      <th>predicted_donated_type</th>\n",
       "    </tr>\n",
       "  </thead>\n",
       "  <tbody>\n",
       "    <tr>\n",
       "      <th>8</th>\n",
       "      <td>29</td>\n",
       "      <td>329.23</td>\n",
       "      <td>307.90</td>\n",
       "      <td>2</td>\n",
       "      <td>1</td>\n",
       "      <td>10</td>\n",
       "      <td>2</td>\n",
       "      <td>71.40</td>\n",
       "      <td>NaN</td>\n",
       "      <td>1.0</td>\n",
       "    </tr>\n",
       "    <tr>\n",
       "      <th>11</th>\n",
       "      <td>37</td>\n",
       "      <td>256.23</td>\n",
       "      <td>218.88</td>\n",
       "      <td>1</td>\n",
       "      <td>4</td>\n",
       "      <td>2</td>\n",
       "      <td>3</td>\n",
       "      <td>51.11</td>\n",
       "      <td>NaN</td>\n",
       "      <td>1.0</td>\n",
       "    </tr>\n",
       "    <tr>\n",
       "      <th>15</th>\n",
       "      <td>37</td>\n",
       "      <td>236.23</td>\n",
       "      <td>274.24</td>\n",
       "      <td>1</td>\n",
       "      <td>3</td>\n",
       "      <td>5</td>\n",
       "      <td>1</td>\n",
       "      <td>57.34</td>\n",
       "      <td>NaN</td>\n",
       "      <td>1.0</td>\n",
       "    </tr>\n",
       "    <tr>\n",
       "      <th>17</th>\n",
       "      <td>35</td>\n",
       "      <td>120.00</td>\n",
       "      <td>318.14</td>\n",
       "      <td>1</td>\n",
       "      <td>4</td>\n",
       "      <td>3</td>\n",
       "      <td>2</td>\n",
       "      <td>1.32</td>\n",
       "      <td>NaN</td>\n",
       "      <td>1.0</td>\n",
       "    </tr>\n",
       "    <tr>\n",
       "      <th>19</th>\n",
       "      <td>37</td>\n",
       "      <td>253.23</td>\n",
       "      <td>242.01</td>\n",
       "      <td>2</td>\n",
       "      <td>4</td>\n",
       "      <td>3</td>\n",
       "      <td>2</td>\n",
       "      <td>47.20</td>\n",
       "      <td>NaN</td>\n",
       "      <td>1.0</td>\n",
       "    </tr>\n",
       "    <tr>\n",
       "      <th>...</th>\n",
       "      <td>...</td>\n",
       "      <td>...</td>\n",
       "      <td>...</td>\n",
       "      <td>...</td>\n",
       "      <td>...</td>\n",
       "      <td>...</td>\n",
       "      <td>...</td>\n",
       "      <td>...</td>\n",
       "      <td>...</td>\n",
       "      <td>...</td>\n",
       "    </tr>\n",
       "    <tr>\n",
       "      <th>4788</th>\n",
       "      <td>48</td>\n",
       "      <td>120.00</td>\n",
       "      <td>232.27</td>\n",
       "      <td>1</td>\n",
       "      <td>2</td>\n",
       "      <td>5</td>\n",
       "      <td>1</td>\n",
       "      <td>21.13</td>\n",
       "      <td>NaN</td>\n",
       "      <td>1.0</td>\n",
       "    </tr>\n",
       "    <tr>\n",
       "      <th>4837</th>\n",
       "      <td>38</td>\n",
       "      <td>274.67</td>\n",
       "      <td>348.36</td>\n",
       "      <td>1</td>\n",
       "      <td>3</td>\n",
       "      <td>1</td>\n",
       "      <td>2</td>\n",
       "      <td>10.19</td>\n",
       "      <td>NaN</td>\n",
       "      <td>1.0</td>\n",
       "    </tr>\n",
       "    <tr>\n",
       "      <th>4945</th>\n",
       "      <td>39</td>\n",
       "      <td>293.67</td>\n",
       "      <td>312.07</td>\n",
       "      <td>2</td>\n",
       "      <td>3</td>\n",
       "      <td>3</td>\n",
       "      <td>2</td>\n",
       "      <td>127.74</td>\n",
       "      <td>NaN</td>\n",
       "      <td>1.0</td>\n",
       "    </tr>\n",
       "    <tr>\n",
       "      <th>4963</th>\n",
       "      <td>44</td>\n",
       "      <td>146.67</td>\n",
       "      <td>228.24</td>\n",
       "      <td>1</td>\n",
       "      <td>4</td>\n",
       "      <td>10</td>\n",
       "      <td>2</td>\n",
       "      <td>50.11</td>\n",
       "      <td>NaN</td>\n",
       "      <td>1.0</td>\n",
       "    </tr>\n",
       "    <tr>\n",
       "      <th>4977</th>\n",
       "      <td>47</td>\n",
       "      <td>132.23</td>\n",
       "      <td>199.88</td>\n",
       "      <td>2</td>\n",
       "      <td>3</td>\n",
       "      <td>8</td>\n",
       "      <td>2</td>\n",
       "      <td>66.13</td>\n",
       "      <td>NaN</td>\n",
       "      <td>1.0</td>\n",
       "    </tr>\n",
       "  </tbody>\n",
       "</table>\n",
       "<p>266 rows × 10 columns</p>\n",
       "</div>"
      ],
      "text/plain": [
       "      age  entertainment  spending_on_food campaign_n channel_n state_n  \\\n",
       "8      29         329.23            307.90          2         1      10   \n",
       "11     37         256.23            218.88          1         4       2   \n",
       "15     37         236.23            274.24          1         3       5   \n",
       "17     35         120.00            318.14          1         4       3   \n",
       "19     37         253.23            242.01          2         4       3   \n",
       "...   ...            ...               ...        ...       ...     ...   \n",
       "4788   48         120.00            232.27          1         2       5   \n",
       "4837   38         274.67            348.36          1         3       1   \n",
       "4945   39         293.67            312.07          2         3       3   \n",
       "4963   44         146.67            228.24          1         4      10   \n",
       "4977   47         132.23            199.88          2         3       8   \n",
       "\n",
       "     us_region_n  donation_revenue donor_type_n  predicted_donated_type  \n",
       "8              2             71.40          NaN                     1.0  \n",
       "11             3             51.11          NaN                     1.0  \n",
       "15             1             57.34          NaN                     1.0  \n",
       "17             2              1.32          NaN                     1.0  \n",
       "19             2             47.20          NaN                     1.0  \n",
       "...          ...               ...          ...                     ...  \n",
       "4788           1             21.13          NaN                     1.0  \n",
       "4837           2             10.19          NaN                     1.0  \n",
       "4945           2            127.74          NaN                     1.0  \n",
       "4963           2             50.11          NaN                     1.0  \n",
       "4977           2             66.13          NaN                     1.0  \n",
       "\n",
       "[266 rows x 10 columns]"
      ]
     },
     "execution_count": 737,
     "metadata": {},
     "output_type": "execute_result"
    }
   ],
   "source": [
    "donations_predicted_final"
   ]
  },
  {
   "cell_type": "code",
   "execution_count": null,
   "metadata": {},
   "outputs": [],
   "source": []
  }
 ],
 "metadata": {
  "kernelspec": {
   "display_name": "Python 3",
   "language": "python",
   "name": "python3"
  },
  "language_info": {
   "codemirror_mode": {
    "name": "ipython",
    "version": 3
   },
   "file_extension": ".py",
   "mimetype": "text/x-python",
   "name": "python",
   "nbconvert_exporter": "python",
   "pygments_lexer": "ipython3",
   "version": "3.7.6"
  }
 },
 "nbformat": 4,
 "nbformat_minor": 4
}
